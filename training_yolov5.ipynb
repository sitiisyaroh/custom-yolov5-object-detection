{
  "nbformat": 4,
  "nbformat_minor": 0,
  "metadata": {
    "colab": {
      "provenance": [],
      "gpuType": "T4"
    },
    "kernelspec": {
      "name": "python3",
      "display_name": "Python 3"
    },
    "language_info": {
      "name": "python"
    },
    "accelerator": "GPU"
  },
  "cells": [
    {
      "cell_type": "code",
      "execution_count": 2,
      "metadata": {
        "colab": {
          "base_uri": "https://localhost:8080/"
        },
        "id": "RdVIh0lpFZ05",
        "outputId": "ca6ae848-a043-4eb2-8963-a10def5b44fc"
      },
      "outputs": [
        {
          "output_type": "stream",
          "name": "stdout",
          "text": [
            "Collecting ultralytics\n",
            "  Downloading ultralytics-8.3.55-py3-none-any.whl.metadata (35 kB)\n",
            "Requirement already satisfied: numpy>=1.23.0 in /usr/local/lib/python3.10/dist-packages (from ultralytics) (1.26.4)\n",
            "Requirement already satisfied: matplotlib>=3.3.0 in /usr/local/lib/python3.10/dist-packages (from ultralytics) (3.8.0)\n",
            "Requirement already satisfied: opencv-python>=4.6.0 in /usr/local/lib/python3.10/dist-packages (from ultralytics) (4.10.0.84)\n",
            "Requirement already satisfied: pillow>=7.1.2 in /usr/local/lib/python3.10/dist-packages (from ultralytics) (11.0.0)\n",
            "Requirement already satisfied: pyyaml>=5.3.1 in /usr/local/lib/python3.10/dist-packages (from ultralytics) (6.0.2)\n",
            "Requirement already satisfied: requests>=2.23.0 in /usr/local/lib/python3.10/dist-packages (from ultralytics) (2.32.3)\n",
            "Requirement already satisfied: scipy>=1.4.1 in /usr/local/lib/python3.10/dist-packages (from ultralytics) (1.13.1)\n",
            "Requirement already satisfied: torch>=1.8.0 in /usr/local/lib/python3.10/dist-packages (from ultralytics) (2.5.1+cu121)\n",
            "Requirement already satisfied: torchvision>=0.9.0 in /usr/local/lib/python3.10/dist-packages (from ultralytics) (0.20.1+cu121)\n",
            "Requirement already satisfied: tqdm>=4.64.0 in /usr/local/lib/python3.10/dist-packages (from ultralytics) (4.67.1)\n",
            "Requirement already satisfied: psutil in /usr/local/lib/python3.10/dist-packages (from ultralytics) (5.9.5)\n",
            "Requirement already satisfied: py-cpuinfo in /usr/local/lib/python3.10/dist-packages (from ultralytics) (9.0.0)\n",
            "Requirement already satisfied: pandas>=1.1.4 in /usr/local/lib/python3.10/dist-packages (from ultralytics) (2.2.2)\n",
            "Requirement already satisfied: seaborn>=0.11.0 in /usr/local/lib/python3.10/dist-packages (from ultralytics) (0.13.2)\n",
            "Collecting ultralytics-thop>=2.0.0 (from ultralytics)\n",
            "  Downloading ultralytics_thop-2.0.13-py3-none-any.whl.metadata (9.4 kB)\n",
            "Requirement already satisfied: contourpy>=1.0.1 in /usr/local/lib/python3.10/dist-packages (from matplotlib>=3.3.0->ultralytics) (1.3.1)\n",
            "Requirement already satisfied: cycler>=0.10 in /usr/local/lib/python3.10/dist-packages (from matplotlib>=3.3.0->ultralytics) (0.12.1)\n",
            "Requirement already satisfied: fonttools>=4.22.0 in /usr/local/lib/python3.10/dist-packages (from matplotlib>=3.3.0->ultralytics) (4.55.3)\n",
            "Requirement already satisfied: kiwisolver>=1.0.1 in /usr/local/lib/python3.10/dist-packages (from matplotlib>=3.3.0->ultralytics) (1.4.7)\n",
            "Requirement already satisfied: packaging>=20.0 in /usr/local/lib/python3.10/dist-packages (from matplotlib>=3.3.0->ultralytics) (24.2)\n",
            "Requirement already satisfied: pyparsing>=2.3.1 in /usr/local/lib/python3.10/dist-packages (from matplotlib>=3.3.0->ultralytics) (3.2.0)\n",
            "Requirement already satisfied: python-dateutil>=2.7 in /usr/local/lib/python3.10/dist-packages (from matplotlib>=3.3.0->ultralytics) (2.8.2)\n",
            "Requirement already satisfied: pytz>=2020.1 in /usr/local/lib/python3.10/dist-packages (from pandas>=1.1.4->ultralytics) (2024.2)\n",
            "Requirement already satisfied: tzdata>=2022.7 in /usr/local/lib/python3.10/dist-packages (from pandas>=1.1.4->ultralytics) (2024.2)\n",
            "Requirement already satisfied: charset-normalizer<4,>=2 in /usr/local/lib/python3.10/dist-packages (from requests>=2.23.0->ultralytics) (3.4.0)\n",
            "Requirement already satisfied: idna<4,>=2.5 in /usr/local/lib/python3.10/dist-packages (from requests>=2.23.0->ultralytics) (3.10)\n",
            "Requirement already satisfied: urllib3<3,>=1.21.1 in /usr/local/lib/python3.10/dist-packages (from requests>=2.23.0->ultralytics) (2.2.3)\n",
            "Requirement already satisfied: certifi>=2017.4.17 in /usr/local/lib/python3.10/dist-packages (from requests>=2.23.0->ultralytics) (2024.12.14)\n",
            "Requirement already satisfied: filelock in /usr/local/lib/python3.10/dist-packages (from torch>=1.8.0->ultralytics) (3.16.1)\n",
            "Requirement already satisfied: typing-extensions>=4.8.0 in /usr/local/lib/python3.10/dist-packages (from torch>=1.8.0->ultralytics) (4.12.2)\n",
            "Requirement already satisfied: networkx in /usr/local/lib/python3.10/dist-packages (from torch>=1.8.0->ultralytics) (3.4.2)\n",
            "Requirement already satisfied: jinja2 in /usr/local/lib/python3.10/dist-packages (from torch>=1.8.0->ultralytics) (3.1.4)\n",
            "Requirement already satisfied: fsspec in /usr/local/lib/python3.10/dist-packages (from torch>=1.8.0->ultralytics) (2024.10.0)\n",
            "Requirement already satisfied: sympy==1.13.1 in /usr/local/lib/python3.10/dist-packages (from torch>=1.8.0->ultralytics) (1.13.1)\n",
            "Requirement already satisfied: mpmath<1.4,>=1.1.0 in /usr/local/lib/python3.10/dist-packages (from sympy==1.13.1->torch>=1.8.0->ultralytics) (1.3.0)\n",
            "Requirement already satisfied: six>=1.5 in /usr/local/lib/python3.10/dist-packages (from python-dateutil>=2.7->matplotlib>=3.3.0->ultralytics) (1.17.0)\n",
            "Requirement already satisfied: MarkupSafe>=2.0 in /usr/local/lib/python3.10/dist-packages (from jinja2->torch>=1.8.0->ultralytics) (3.0.2)\n",
            "Downloading ultralytics-8.3.55-py3-none-any.whl (904 kB)\n",
            "\u001b[2K   \u001b[90m━━━━━━━━━━━━━━━━━━━━━━━━━━━━━━━━━━━━━━━━\u001b[0m \u001b[32m904.3/904.3 kB\u001b[0m \u001b[31m28.9 MB/s\u001b[0m eta \u001b[36m0:00:00\u001b[0m\n",
            "\u001b[?25hDownloading ultralytics_thop-2.0.13-py3-none-any.whl (26 kB)\n",
            "Installing collected packages: ultralytics-thop, ultralytics\n",
            "Successfully installed ultralytics-8.3.55 ultralytics-thop-2.0.13\n"
          ]
        }
      ],
      "source": [
        "pip install ultralytics"
      ]
    },
    {
      "cell_type": "code",
      "source": [
        "#!unzip dataset.zip -d /content/dataset_folder\n",
        "from google.colab import drive\n",
        "drive.mount('/content/drive')\n"
      ],
      "metadata": {
        "colab": {
          "base_uri": "https://localhost:8080/"
        },
        "id": "_2Pn4Jh3Ftbe",
        "outputId": "395c29d0-0b8a-4cdd-94f0-9dadbab5e88b"
      },
      "execution_count": 3,
      "outputs": [
        {
          "output_type": "stream",
          "name": "stdout",
          "text": [
            "Mounted at /content/drive\n"
          ]
        }
      ]
    },
    {
      "cell_type": "code",
      "source": [
        "import zipfile\n",
        "import os\n",
        "# Path to your zip file\n",
        "zip_file_path = '/content/drive/MyDrive/dataset.zip'\n",
        "\n",
        "# Define the directory to extract the files\n",
        "extract_dir = '/content/drive/MyDrive/dataset_folder/'\n",
        "\n"
      ],
      "metadata": {
        "id": "GiA1oEM7kRj9"
      },
      "execution_count": 4,
      "outputs": []
    },
    {
      "cell_type": "code",
      "source": [
        "# Extract the zip file\n",
        "with zipfile.ZipFile(zip_file_path, 'r') as zip_ref:\n",
        "    zip_ref.extractall(extract_dir)\n",
        "\n",
        "# List the files in the extracted folder\n",
        "print(os.listdir(extract_dir))"
      ],
      "metadata": {
        "colab": {
          "base_uri": "https://localhost:8080/"
        },
        "id": "YSM0AnuZk5Wn",
        "outputId": "22df7d99-1b24-474b-9f56-3fe627a9fade"
      },
      "execution_count": 5,
      "outputs": [
        {
          "output_type": "stream",
          "name": "stdout",
          "text": [
            "['dataset']\n"
          ]
        }
      ]
    },
    {
      "cell_type": "code",
      "source": [
        "import os\n",
        "print(os.listdir('/content/drive/MyDrive/dataset_folder/dataset/train/images'))\n",
        "print(os.listdir('/content/drive/MyDrive/dataset_folder/dataset/val/images'))\n"
      ],
      "metadata": {
        "colab": {
          "base_uri": "https://localhost:8080/"
        },
        "id": "z4WEqYIgoY1E",
        "outputId": "dd6eb5f9-0cee-4e03-bdee-e53e0d858d89"
      },
      "execution_count": 6,
      "outputs": [
        {
          "output_type": "stream",
          "name": "stdout",
          "text": [
            "['000000.png', '000001.png', '000002.png', '000003.png', '000004.png', '000005.png', '000006.png', '000007.png', '000008.png', '000009.png', '000010.png', '000011.png', '000012.png', '000013.png', '000014.png', '000015.png', '000016.png', '000017.png', '000018.png', '000019.png', '000020.png', '000021.png', '000022.png', '000023.png', '000024.png', '000025.png', '000026.png', '000027.png', '000028.png', '000029.png', '000030.png', '000031.png', '000032.png', '000033.png', '000034.png', '000035.png', '000036.png', '000037.png', '000038.png', '000039.png', '000040.png', '000041.png', '000042.png', '000043.png', '000044.png', '000045.png', '000046.png', '000047.png', '000048.png', '000049.png', '000050.png', '000051.png', '000052.png', '000053.png', '000054.png', '000055.png', '000056.png', '000057.png', '000058.png', '000059.png', '000060.png', '000061.png', '000062.png', '000063.png', '000064.png', '000065.png', '000066.png', '000067.png', '000068.png', '000069.png', '000070.png', '000071.png', '000072.png', '000073.png', '000074.png', '000075.png', '000076.png', '000077.png', '000078.png', '000079.png', '000080.png', '000081.png', '000082.png', '000083.png', '000084.png', '000085.png', '000086.png', '000087.png', '000088.png', '000089.png', '000090.png', '000091.png', '000092.png', '000093.png', '000094.png', '000095.png', '000096.png', '000097.png', '000098.png', '000099.png', '000100.png', '000101.png', '000102.png', '000103.png', '000104.png', '000105.png', '000106.png', '000107.png', '000108.png', '000109.png', '000110.png', '000111.png', '000112.png', '000113.png', '000114.png', '000115.png', '000116.png', '000117.png', '000118.png', '000119.png', '000120.png', '000121.png', '000122.png', '000123.png', '000124.png', '000125.png', '000126.png', '000127.png', '000128.png', '000129.png', '000130.png', '000131.png', '000132.png', '000133.png', '000134.png', '000135.png', '000136.png', '000137.png', '000138.png', '000139.png', '000140.png', '000141.png', '000142.png', '000143.png', '000144.png', '000145.png', '000146.png', '000147.png', '000148.png', '000149.png', '000150.png', '000151.png', '000152.png', '000153.png', '000154.png', '000155.png', '000156.png', '000157.png', '000158.png', '000159.png', '000160.png', '000161.png', '000162.png', '000163.png', '000164.png', '000165.png', '000166.png', '000167.png', '000168.png', '000169.png', '000170.png', '000171.png', '000172.png', '000173.png', '000174.png', '000175.png', '000176.png', '000177.png', '000178.png', '000179.png', '000180.png', '000181.png', '000182.png', '000183.png', '000184.png', '000185.png', '000186.png', '000187.png', '000188.png', '000189.png', '000190.png', '000191.png', '000192.png', '000193.png', '000194.png', '000195.png', '000196.png', '000197.png', '000198.png', '000199.png', '000200.png', '000201.png', '000202.png', '000203.png', '000204.png', '000205.png', '000206.png', '000207.png', '000208.png', '000209.png', '000210.png', '000211.png', '000212.png', '000213.png', '000214.png', '000215.png', '000216.png', '000217.png', '000218.png', '000219.png', '000220.png', '000221.png', '000222.png', '000223.png', '000224.png', '000225.png', '000226.png', '000227.png', '000228.png', '000229.png', '000230.png', '000231.png', '000232.png', '000233.png', '000234.png', '000235.png', '000236.png', '000237.png', '000238.png', '000239.png', '000240.png', '000241.png', '000242.png', '000243.png', '000244.png', '000245.png', '000246.png', '000247.png', '000248.png', '000249.png', '000250.png', '000251.png', '000252.png', '000253.png', '000254.png', '000255.png', '000256.png', '000257.png', '000258.png', '000259.png', '000260.png', '000261.png', '000262.png', '000263.png', '000264.png', '000265.png', '000266.png', '000267.png', '000268.png', '000269.png', '000270.png', '000271.png', '000272.png', '000273.png', '000274.png', '000275.png', '000276.png', '000277.png', '000278.png', '000279.png', '000280.png', '000281.png', '000282.png', '000283.png', '000284.png', '000285.png', '000286.png', '000287.png', '000288.png', '000289.png', '000290.png', '000291.png', '000292.png', '000293.png', '000294.png', '000295.png', '000296.png', '000297.png', '000298.png', '000299.png', '000300.png', '000301.png', '000302.png', '000303.png', '000304.png', '000305.png', '000306.png', '000307.png', '000308.png', '000309.png', '000310.png', '000311.png', '000312.png', '000313.png', '000314.png', '000315.png', '000316.png', '000317.png', '000318.png', '000319.png', '000320.png', '000321.png', '000322.png', '000323.png', '000324.png', '000325.png', '000326.png', '000327.png', '000328.png', '000329.png', '000330.png', '000331.png', '000332.png', '000333.png', '000334.png', '000335.png', '000336.png', '000337.png', '000338.png', '000339.png', '000340.png', '000341.png', '000342.png', '000343.png', '000344.png', '000345.png', '000346.png', '000347.png', '000348.png', '000349.png', '000350.png', '000351.png', '000352.png', '000353.png', '000354.png', '000355.png', '000356.png', '000357.png', '000358.png', '000359.png', '000360.png', '000361.png', '000362.png', '000363.png', '000364.png', '000365.png', '000366.png', '000367.png', '000368.png', '000369.png', '000370.png', '000371.png', '000372.png', '000373.png', '000374.png', '000375.png', '000376.png', '000377.png', '000378.png', '000379.png', '000380.png', '000381.png', '000382.png', '000383.png', '000384.png', '000385.png', '000386.png', '000387.png', '000388.png', '000389.png', '000390.png', '000391.png', '000392.png', '000393.png', '000394.png', '000395.png', '000396.png', '000397.png', '000398.png', '000399.png', '000400.png', '000401.png', '000402.png', '000403.png', '000404.png', '000405.png', '000406.png', '000407.png', '000408.png', '000409.png', '000410.png', '000411.png', '000412.png', '000413.png', '000414.png', '000415.png', '000416.png', '000417.png', '000418.png', '000419.png', '000420.png', '000421.png', '000422.png', '000423.png', '000424.png', '000425.png', '000426.png', '000427.png', '000428.png', '000429.png', '000430.png', '000431.png', '000432.png', '000433.png', '000434.png', '000435.png', '000436.png', '000437.png', '000438.png', '000439.png', '000440.png', '000441.png', '000442.png', '000443.png', '000444.png', '000445.png', '000446.png', '000447.png', '000448.png', '000449.png', '000450.png', '000451.png', '000452.png', '000453.png', '000454.png', '000455.png', '000456.png', '000457.png', '000458.png', '000459.png', '000460.png', '000461.png', '000462.png', '000463.png', '000464.png', '000465.png', '000466.png', '000467.png', '000468.png', '000469.png', '000470.png', '000471.png', '000472.png', '000473.png', '000474.png', '000475.png', '000476.png', '000477.png', '000478.png', '000479.png', '000480.png', '000481.png', '000482.png', '000483.png', '000484.png', '000485.png', '000486.png', '000487.png', '000488.png', '000489.png', '000490.png', '000491.png', '000492.png', '000493.png', '000494.png', '000495.png', '000496.png', '000497.png', '000498.png', '000499.png']\n",
            "['000500.png', '000501.png', '000502.png', '000503.png', '000504.png', '000505.png', '000506.png', '000507.png', '000508.png', '000509.png', '000510.png', '000511.png', '000512.png', '000513.png', '000514.png', '000515.png', '000516.png', '000517.png', '000518.png', '000519.png', '000520.png', '000521.png', '000522.png', '000523.png', '000524.png', '000525.png', '000526.png', '000527.png', '000528.png', '000529.png', '000530.png', '000531.png', '000532.png', '000533.png', '000534.png', '000535.png', '000536.png', '000537.png', '000538.png', '000539.png', '000540.png', '000541.png', '000542.png', '000543.png', '000544.png', '000545.png', '000546.png', '000547.png', '000548.png', '000549.png', '000550.png', '000551.png', '000552.png', '000553.png', '000554.png', '000555.png', '000556.png', '000557.png', '000558.png', '000559.png', '000560.png', '000561.png', '000562.png', '000563.png', '000564.png', '000565.png', '000566.png', '000567.png', '000568.png', '000569.png', '000570.png', '000571.png', '000572.png', '000573.png', '000574.png', '000575.png', '000576.png', '000577.png', '000578.png', '000579.png', '000580.png', '000581.png', '000582.png', '000583.png', '000584.png', '000585.png', '000586.png', '000587.png', '000588.png', '000589.png', '000590.png', '000591.png', '000592.png', '000593.png', '000594.png', '000595.png', '000596.png', '000597.png', '000598.png', '000599.png', '000600.png', '000601.png', '000602.png', '000603.png', '000604.png', '000605.png', '000606.png', '000607.png', '000608.png', '000609.png', '000610.png', '000611.png', '000612.png', '000613.png', '000614.png', '000615.png', '000616.png', '000617.png', '000618.png', '000619.png', '000620.png', '000621.png', '000622.png', '000623.png', '000624.png', '000625.png', '000626.png', '000627.png', '000628.png', '000629.png', '000630.png', '000631.png', '000632.png', '000633.png', '000634.png', '000635.png', '000636.png', '000637.png', '000638.png', '000639.png', '000640.png', '000641.png', '000642.png', '000643.png', '000644.png', '000645.png', '000646.png', '000647.png', '000648.png', '000649.png', '000650.png', '000651.png', '000652.png', '000653.png', '000654.png', '000655.png', '000656.png', '000657.png', '000658.png', '000659.png', '000660.png', '000661.png', '000662.png', '000663.png', '000664.png', '000665.png', '000666.png', '000667.png', '000668.png', '000669.png', '000670.png', '000671.png', '000672.png', '000673.png', '000674.png', '000675.png', '000676.png', '000677.png', '000678.png', '000679.png', '000680.png', '000681.png', '000682.png', '000683.png', '000684.png', '000685.png', '000686.png', '000687.png', '000688.png', '000689.png', '000690.png', '000691.png', '000692.png', '000693.png', '000694.png', '000695.png', '000696.png', '000697.png', '000698.png', '000699.png']\n"
          ]
        }
      ]
    },
    {
      "cell_type": "code",
      "source": [
        "from ultralytics import YOLO\n",
        "\n",
        "model = YOLO('yolov5lu.pt')\n",
        "\n",
        "results = model.train(data='data.yaml', epochs=30, batch=16, imgsz=640)"
      ],
      "metadata": {
        "colab": {
          "base_uri": "https://localhost:8080/"
        },
        "id": "ggzNBCirjSED",
        "outputId": "66ebb7a4-10ce-48fb-b4f5-8705d451df80"
      },
      "execution_count": 8,
      "outputs": [
        {
          "metadata": {
            "tags": null
          },
          "name": "stdout",
          "output_type": "stream",
          "text": [
            "Ultralytics 8.3.55 🚀 Python-3.10.12 torch-2.5.1+cu121 CUDA:0 (Tesla T4, 15102MiB)\n",
            "\u001b[34m\u001b[1mengine/trainer: \u001b[0mtask=detect, mode=train, model=yolov5lu.pt, data=data.yaml, epochs=30, time=None, patience=100, batch=16, imgsz=640, save=True, save_period=-1, cache=False, device=None, workers=8, project=None, name=train2, exist_ok=False, pretrained=True, optimizer=auto, verbose=True, seed=0, deterministic=True, single_cls=False, rect=False, cos_lr=False, close_mosaic=10, resume=False, amp=True, fraction=1.0, profile=False, freeze=None, multi_scale=False, overlap_mask=True, mask_ratio=4, dropout=0.0, val=True, split=val, save_json=False, save_hybrid=False, conf=None, iou=0.7, max_det=300, half=False, dnn=False, plots=True, source=None, vid_stride=1, stream_buffer=False, visualize=False, augment=False, agnostic_nms=False, classes=None, retina_masks=False, embed=None, show=False, save_frames=False, save_txt=False, save_conf=False, save_crop=False, show_labels=True, show_conf=True, show_boxes=True, line_width=None, format=torchscript, keras=False, optimize=False, int8=False, dynamic=False, simplify=True, opset=None, workspace=None, nms=False, lr0=0.01, lrf=0.01, momentum=0.937, weight_decay=0.0005, warmup_epochs=3.0, warmup_momentum=0.8, warmup_bias_lr=0.1, box=7.5, cls=0.5, dfl=1.5, pose=12.0, kobj=1.0, nbs=64, hsv_h=0.015, hsv_s=0.7, hsv_v=0.4, degrees=0.0, translate=0.1, scale=0.5, shear=0.0, perspective=0.0, flipud=0.0, fliplr=0.5, bgr=0.0, mosaic=1.0, mixup=0.0, copy_paste=0.0, copy_paste_mode=flip, auto_augment=randaugment, erasing=0.4, crop_fraction=1.0, cfg=None, tracker=botsort.yaml, save_dir=runs/detect/train2\n",
            "Downloading https://ultralytics.com/assets/Arial.ttf to '/root/.config/Ultralytics/Arial.ttf'...\n"
          ]
        },
        {
          "metadata": {
            "tags": null
          },
          "name": "stderr",
          "output_type": "stream",
          "text": [
            "100%|██████████| 755k/755k [00:00<00:00, 22.8MB/s]\n"
          ]
        },
        {
          "metadata": {
            "tags": null
          },
          "name": "stdout",
          "output_type": "stream",
          "text": [
            "Overriding model.yaml nc=80 with nc=9\n",
            "\n",
            "                   from  n    params  module                                       arguments                     \n",
            "  0                  -1  1      7040  ultralytics.nn.modules.conv.Conv             [3, 64, 6, 2, 2]              \n",
            "  1                  -1  1     73984  ultralytics.nn.modules.conv.Conv             [64, 128, 3, 2]               \n",
            "  2                  -1  3    156928  ultralytics.nn.modules.block.C3              [128, 128, 3]                 \n",
            "  3                  -1  1    295424  ultralytics.nn.modules.conv.Conv             [128, 256, 3, 2]              \n",
            "  4                  -1  6   1118208  ultralytics.nn.modules.block.C3              [256, 256, 6]                 \n",
            "  5                  -1  1   1180672  ultralytics.nn.modules.conv.Conv             [256, 512, 3, 2]              \n",
            "  6                  -1  9   6433792  ultralytics.nn.modules.block.C3              [512, 512, 9]                 \n",
            "  7                  -1  1   4720640  ultralytics.nn.modules.conv.Conv             [512, 1024, 3, 2]             \n",
            "  8                  -1  3   9971712  ultralytics.nn.modules.block.C3              [1024, 1024, 3]               \n",
            "  9                  -1  1   2624512  ultralytics.nn.modules.block.SPPF            [1024, 1024, 5]               \n",
            " 10                  -1  1    525312  ultralytics.nn.modules.conv.Conv             [1024, 512, 1, 1]             \n",
            " 11                  -1  1         0  torch.nn.modules.upsampling.Upsample         [None, 2, 'nearest']          \n",
            " 12             [-1, 6]  1         0  ultralytics.nn.modules.conv.Concat           [1]                           \n",
            " 13                  -1  3   2757632  ultralytics.nn.modules.block.C3              [1024, 512, 3, False]         \n",
            " 14                  -1  1    131584  ultralytics.nn.modules.conv.Conv             [512, 256, 1, 1]              \n",
            " 15                  -1  1         0  torch.nn.modules.upsampling.Upsample         [None, 2, 'nearest']          \n",
            " 16             [-1, 4]  1         0  ultralytics.nn.modules.conv.Concat           [1]                           \n",
            " 17                  -1  3    690688  ultralytics.nn.modules.block.C3              [512, 256, 3, False]          \n",
            " 18                  -1  1    590336  ultralytics.nn.modules.conv.Conv             [256, 256, 3, 2]              \n",
            " 19            [-1, 14]  1         0  ultralytics.nn.modules.conv.Concat           [1]                           \n",
            " 20                  -1  3   2495488  ultralytics.nn.modules.block.C3              [512, 512, 3, False]          \n",
            " 21                  -1  1   2360320  ultralytics.nn.modules.conv.Conv             [512, 512, 3, 2]              \n",
            " 22            [-1, 10]  1         0  ultralytics.nn.modules.conv.Concat           [1]                           \n",
            " 23                  -1  3   9971712  ultralytics.nn.modules.block.C3              [1024, 1024, 3, False]        \n",
            " 24        [17, 20, 23]  1   7064299  ultralytics.nn.modules.head.Detect           [9, [256, 512, 1024]]         \n",
            "YOLOv5l summary: 416 layers, 53,170,283 parameters, 53,170,267 gradients, 135.3 GFLOPs\n",
            "\n",
            "Transferred 685/691 items from pretrained weights\n",
            "\u001b[34m\u001b[1mTensorBoard: \u001b[0mStart with 'tensorboard --logdir runs/detect/train2', view at http://localhost:6006/\n",
            "Freezing layer 'model.24.dfl.conv.weight'\n",
            "\u001b[34m\u001b[1mAMP: \u001b[0mrunning Automatic Mixed Precision (AMP) checks...\n",
            "Downloading https://github.com/ultralytics/assets/releases/download/v8.3.0/yolo11n.pt to 'yolo11n.pt'...\n"
          ]
        },
        {
          "metadata": {
            "tags": null
          },
          "name": "stderr",
          "output_type": "stream",
          "text": [
            "100%|██████████| 5.35M/5.35M [00:00<00:00, 95.1MB/s]\n"
          ]
        },
        {
          "metadata": {
            "tags": null
          },
          "name": "stdout",
          "output_type": "stream",
          "text": [
            "\u001b[34m\u001b[1mAMP: \u001b[0mchecks passed ✅\n"
          ]
        },
        {
          "metadata": {
            "tags": null
          },
          "name": "stderr",
          "output_type": "stream",
          "text": [
            "\u001b[34m\u001b[1mtrain: \u001b[0mScanning /content/drive/MyDrive/dataset_folder/dataset/train/labels... 500 images, 0 backgrounds, 0 corrupt: 100%|██████████| 500/500 [00:05<00:00, 85.40it/s] \n"
          ]
        },
        {
          "metadata": {
            "tags": null
          },
          "name": "stdout",
          "output_type": "stream",
          "text": [
            "\u001b[34m\u001b[1mtrain: \u001b[0mNew cache created: /content/drive/MyDrive/dataset_folder/dataset/train/labels.cache\n",
            "\u001b[34m\u001b[1malbumentations: \u001b[0mBlur(p=0.01, blur_limit=(3, 7)), MedianBlur(p=0.01, blur_limit=(3, 7)), ToGray(p=0.01, num_output_channels=3, method='weighted_average'), CLAHE(p=0.01, clip_limit=(1.0, 4.0), tile_grid_size=(8, 8))\n"
          ]
        },
        {
          "metadata": {
            "tags": null
          },
          "name": "stderr",
          "output_type": "stream",
          "text": [
            "/usr/local/lib/python3.10/dist-packages/albumentations/__init__.py:24: UserWarning: A new version of Albumentations is available: 1.4.24 (you have 1.4.20). Upgrade using: pip install -U albumentations. To disable automatic update checks, set the environment variable NO_ALBUMENTATIONS_UPDATE to 1.\n",
            "  check_for_updates()\n",
            "\u001b[34m\u001b[1mval: \u001b[0mScanning /content/drive/MyDrive/dataset_folder/dataset/val/labels... 200 images, 0 backgrounds, 0 corrupt: 100%|██████████| 200/200 [00:03<00:00, 62.46it/s] \n"
          ]
        },
        {
          "metadata": {
            "tags": null
          },
          "name": "stdout",
          "output_type": "stream",
          "text": [
            "\u001b[34m\u001b[1mval: \u001b[0mNew cache created: /content/drive/MyDrive/dataset_folder/dataset/val/labels.cache\n",
            "Plotting labels to runs/detect/train2/labels.jpg... \n",
            "\u001b[34m\u001b[1moptimizer:\u001b[0m 'optimizer=auto' found, ignoring 'lr0=0.01' and 'momentum=0.937' and determining best 'optimizer', 'lr0' and 'momentum' automatically... \n",
            "\u001b[34m\u001b[1moptimizer:\u001b[0m AdamW(lr=0.000769, momentum=0.9) with parameter groups 113 weight(decay=0.0), 120 weight(decay=0.0005), 119 bias(decay=0.0)\n",
            "\u001b[34m\u001b[1mTensorBoard: \u001b[0mmodel graph visualization added ✅\n",
            "Image sizes 640 train, 640 val\n",
            "Using 2 dataloader workers\n",
            "Logging results to \u001b[1mruns/detect/train2\u001b[0m\n",
            "Starting training for 30 epochs...\n",
            "\n",
            "      Epoch    GPU_mem   box_loss   cls_loss   dfl_loss  Instances       Size\n"
          ]
        },
        {
          "metadata": {
            "tags": null
          },
          "name": "stderr",
          "output_type": "stream",
          "text": [
            "       1/30      10.9G      1.363      1.885      1.145         32        640: 100%|██████████| 32/32 [00:25<00:00,  1.24it/s]\n",
            "                 Class     Images  Instances      Box(P          R      mAP50  mAP50-95): 100%|██████████| 7/7 [00:04<00:00,  1.45it/s]"
          ]
        },
        {
          "metadata": {
            "tags": null
          },
          "name": "stdout",
          "output_type": "stream",
          "text": [
            "                   all        200       1038      0.615      0.338      0.378      0.223\n"
          ]
        },
        {
          "metadata": {
            "tags": null
          },
          "name": "stderr",
          "output_type": "stream",
          "text": [
            "\n"
          ]
        },
        {
          "metadata": {
            "tags": null
          },
          "name": "stdout",
          "output_type": "stream",
          "text": [
            "\n",
            "      Epoch    GPU_mem   box_loss   cls_loss   dfl_loss  Instances       Size\n"
          ]
        },
        {
          "metadata": {
            "tags": null
          },
          "name": "stderr",
          "output_type": "stream",
          "text": [
            "       2/30      11.1G      1.261      1.235      1.122         46        640: 100%|██████████| 32/32 [00:23<00:00,  1.38it/s]\n",
            "                 Class     Images  Instances      Box(P          R      mAP50  mAP50-95): 100%|██████████| 7/7 [00:02<00:00,  2.91it/s]"
          ]
        },
        {
          "metadata": {
            "tags": null
          },
          "name": "stdout",
          "output_type": "stream",
          "text": [
            "                   all        200       1038      0.381      0.453      0.383       0.21\n"
          ]
        },
        {
          "metadata": {
            "tags": null
          },
          "name": "stderr",
          "output_type": "stream",
          "text": [
            "\n"
          ]
        },
        {
          "metadata": {
            "tags": null
          },
          "name": "stdout",
          "output_type": "stream",
          "text": [
            "\n",
            "      Epoch    GPU_mem   box_loss   cls_loss   dfl_loss  Instances       Size\n"
          ]
        },
        {
          "metadata": {
            "tags": null
          },
          "name": "stderr",
          "output_type": "stream",
          "text": [
            "       3/30        11G      1.305      1.171      1.146         69        640: 100%|██████████| 32/32 [00:23<00:00,  1.33it/s]\n",
            "                 Class     Images  Instances      Box(P          R      mAP50  mAP50-95): 100%|██████████| 7/7 [00:02<00:00,  2.45it/s]\n"
          ]
        },
        {
          "metadata": {
            "tags": null
          },
          "name": "stdout",
          "output_type": "stream",
          "text": [
            "                   all        200       1038      0.396       0.41      0.332      0.193\n",
            "\n",
            "      Epoch    GPU_mem   box_loss   cls_loss   dfl_loss  Instances       Size\n"
          ]
        },
        {
          "metadata": {
            "tags": null
          },
          "name": "stderr",
          "output_type": "stream",
          "text": [
            "       4/30      10.8G      1.293      1.185      1.147         68        640: 100%|██████████| 32/32 [00:23<00:00,  1.35it/s]\n",
            "                 Class     Images  Instances      Box(P          R      mAP50  mAP50-95): 100%|██████████| 7/7 [00:02<00:00,  2.46it/s]"
          ]
        },
        {
          "metadata": {
            "tags": null
          },
          "name": "stdout",
          "output_type": "stream",
          "text": [
            "                   all        200       1038      0.411      0.278      0.299      0.147\n"
          ]
        },
        {
          "metadata": {
            "tags": null
          },
          "name": "stderr",
          "output_type": "stream",
          "text": [
            "\n"
          ]
        },
        {
          "metadata": {
            "tags": null
          },
          "name": "stdout",
          "output_type": "stream",
          "text": [
            "\n",
            "      Epoch    GPU_mem   box_loss   cls_loss   dfl_loss  Instances       Size\n"
          ]
        },
        {
          "metadata": {
            "tags": null
          },
          "name": "stderr",
          "output_type": "stream",
          "text": [
            "       5/30      10.8G      1.277      1.116       1.15         13        640: 100%|██████████| 32/32 [00:24<00:00,  1.31it/s]\n",
            "                 Class     Images  Instances      Box(P          R      mAP50  mAP50-95): 100%|██████████| 7/7 [00:02<00:00,  2.62it/s]"
          ]
        },
        {
          "metadata": {
            "tags": null
          },
          "name": "stdout",
          "output_type": "stream",
          "text": [
            "                   all        200       1038       0.39      0.388      0.361      0.211\n"
          ]
        },
        {
          "metadata": {
            "tags": null
          },
          "name": "stderr",
          "output_type": "stream",
          "text": [
            "\n"
          ]
        },
        {
          "metadata": {
            "tags": null
          },
          "name": "stdout",
          "output_type": "stream",
          "text": [
            "\n",
            "      Epoch    GPU_mem   box_loss   cls_loss   dfl_loss  Instances       Size\n"
          ]
        },
        {
          "metadata": {
            "tags": null
          },
          "name": "stderr",
          "output_type": "stream",
          "text": [
            "       6/30      10.8G      1.201     0.9736      1.091         52        640: 100%|██████████| 32/32 [00:24<00:00,  1.33it/s]\n",
            "                 Class     Images  Instances      Box(P          R      mAP50  mAP50-95): 100%|██████████| 7/7 [00:04<00:00,  1.73it/s]"
          ]
        },
        {
          "metadata": {
            "tags": null
          },
          "name": "stdout",
          "output_type": "stream",
          "text": [
            "                   all        200       1038      0.545      0.396      0.401       0.24\n"
          ]
        },
        {
          "metadata": {
            "tags": null
          },
          "name": "stderr",
          "output_type": "stream",
          "text": [
            "\n"
          ]
        },
        {
          "metadata": {
            "tags": null
          },
          "name": "stdout",
          "output_type": "stream",
          "text": [
            "\n",
            "      Epoch    GPU_mem   box_loss   cls_loss   dfl_loss  Instances       Size\n"
          ]
        },
        {
          "metadata": {
            "tags": null
          },
          "name": "stderr",
          "output_type": "stream",
          "text": [
            "       7/30      11.1G       1.24     0.9939      1.125         61        640: 100%|██████████| 32/32 [00:23<00:00,  1.37it/s]\n",
            "                 Class     Images  Instances      Box(P          R      mAP50  mAP50-95): 100%|██████████| 7/7 [00:03<00:00,  2.00it/s]"
          ]
        },
        {
          "metadata": {
            "tags": null
          },
          "name": "stdout",
          "output_type": "stream",
          "text": [
            "                   all        200       1038      0.615      0.414      0.484      0.269\n"
          ]
        },
        {
          "metadata": {
            "tags": null
          },
          "name": "stderr",
          "output_type": "stream",
          "text": [
            "\n"
          ]
        },
        {
          "metadata": {
            "tags": null
          },
          "name": "stdout",
          "output_type": "stream",
          "text": [
            "\n",
            "      Epoch    GPU_mem   box_loss   cls_loss   dfl_loss  Instances       Size\n"
          ]
        },
        {
          "metadata": {
            "tags": null
          },
          "name": "stderr",
          "output_type": "stream",
          "text": [
            "       8/30      11.1G      1.207       0.97      1.101         50        640: 100%|██████████| 32/32 [00:23<00:00,  1.35it/s]\n",
            "                 Class     Images  Instances      Box(P          R      mAP50  mAP50-95): 100%|██████████| 7/7 [00:02<00:00,  2.51it/s]\n"
          ]
        },
        {
          "metadata": {
            "tags": null
          },
          "name": "stdout",
          "output_type": "stream",
          "text": [
            "                   all        200       1038      0.658      0.449      0.519      0.286\n",
            "\n",
            "      Epoch    GPU_mem   box_loss   cls_loss   dfl_loss  Instances       Size\n"
          ]
        },
        {
          "metadata": {
            "tags": null
          },
          "name": "stderr",
          "output_type": "stream",
          "text": [
            "       9/30      11.1G      1.158     0.9004      1.083         31        640: 100%|██████████| 32/32 [00:23<00:00,  1.35it/s]\n",
            "                 Class     Images  Instances      Box(P          R      mAP50  mAP50-95): 100%|██████████| 7/7 [00:02<00:00,  2.50it/s]"
          ]
        },
        {
          "metadata": {
            "tags": null
          },
          "name": "stdout",
          "output_type": "stream",
          "text": [
            "                   all        200       1038      0.593      0.443      0.433      0.251\n"
          ]
        },
        {
          "metadata": {
            "tags": null
          },
          "name": "stderr",
          "output_type": "stream",
          "text": [
            "\n"
          ]
        },
        {
          "metadata": {
            "tags": null
          },
          "name": "stdout",
          "output_type": "stream",
          "text": [
            "\n",
            "      Epoch    GPU_mem   box_loss   cls_loss   dfl_loss  Instances       Size\n"
          ]
        },
        {
          "metadata": {
            "tags": null
          },
          "name": "stderr",
          "output_type": "stream",
          "text": [
            "      10/30      11.1G       1.18     0.9087      1.084        108        640: 100%|██████████| 32/32 [00:23<00:00,  1.36it/s]\n",
            "                 Class     Images  Instances      Box(P          R      mAP50  mAP50-95): 100%|██████████| 7/7 [00:02<00:00,  2.88it/s]"
          ]
        },
        {
          "metadata": {
            "tags": null
          },
          "name": "stdout",
          "output_type": "stream",
          "text": [
            "                   all        200       1038      0.585      0.462      0.487      0.285\n"
          ]
        },
        {
          "metadata": {
            "tags": null
          },
          "name": "stderr",
          "output_type": "stream",
          "text": [
            "\n"
          ]
        },
        {
          "metadata": {
            "tags": null
          },
          "name": "stdout",
          "output_type": "stream",
          "text": [
            "\n",
            "      Epoch    GPU_mem   box_loss   cls_loss   dfl_loss  Instances       Size\n"
          ]
        },
        {
          "metadata": {
            "tags": null
          },
          "name": "stderr",
          "output_type": "stream",
          "text": [
            "      11/30        11G      1.109     0.8707      1.061         28        640: 100%|██████████| 32/32 [00:23<00:00,  1.34it/s]\n",
            "                 Class     Images  Instances      Box(P          R      mAP50  mAP50-95): 100%|██████████| 7/7 [00:02<00:00,  2.87it/s]"
          ]
        },
        {
          "metadata": {
            "tags": null
          },
          "name": "stdout",
          "output_type": "stream",
          "text": [
            "                   all        200       1038      0.541      0.518      0.492      0.288\n"
          ]
        },
        {
          "metadata": {
            "tags": null
          },
          "name": "stderr",
          "output_type": "stream",
          "text": [
            "\n"
          ]
        },
        {
          "metadata": {
            "tags": null
          },
          "name": "stdout",
          "output_type": "stream",
          "text": [
            "\n",
            "      Epoch    GPU_mem   box_loss   cls_loss   dfl_loss  Instances       Size\n"
          ]
        },
        {
          "output_type": "stream",
          "name": "stderr",
          "text": [
            "      12/30        11G      1.103     0.8437      1.053         42        640: 100%|██████████| 32/32 [00:23<00:00,  1.35it/s]\n",
            "                 Class     Images  Instances      Box(P          R      mAP50  mAP50-95): 100%|██████████| 7/7 [00:04<00:00,  1.73it/s]"
          ]
        },
        {
          "output_type": "stream",
          "name": "stdout",
          "text": [
            "                   all        200       1038      0.659      0.443      0.543      0.324\n"
          ]
        },
        {
          "output_type": "stream",
          "name": "stderr",
          "text": [
            "\n"
          ]
        },
        {
          "output_type": "stream",
          "name": "stdout",
          "text": [
            "\n",
            "      Epoch    GPU_mem   box_loss   cls_loss   dfl_loss  Instances       Size\n"
          ]
        },
        {
          "output_type": "stream",
          "name": "stderr",
          "text": [
            "      13/30      11.1G      1.086     0.8058      1.051         36        640: 100%|██████████| 32/32 [00:23<00:00,  1.36it/s]\n",
            "                 Class     Images  Instances      Box(P          R      mAP50  mAP50-95): 100%|██████████| 7/7 [00:03<00:00,  2.19it/s]"
          ]
        },
        {
          "output_type": "stream",
          "name": "stdout",
          "text": [
            "                   all        200       1038      0.677      0.517      0.583      0.337\n"
          ]
        },
        {
          "output_type": "stream",
          "name": "stderr",
          "text": [
            "\n"
          ]
        },
        {
          "output_type": "stream",
          "name": "stdout",
          "text": [
            "\n",
            "      Epoch    GPU_mem   box_loss   cls_loss   dfl_loss  Instances       Size\n"
          ]
        },
        {
          "output_type": "stream",
          "name": "stderr",
          "text": [
            "      14/30      11.1G      1.068     0.7658      1.035         57        640: 100%|██████████| 32/32 [00:23<00:00,  1.35it/s]\n",
            "                 Class     Images  Instances      Box(P          R      mAP50  mAP50-95): 100%|██████████| 7/7 [00:02<00:00,  2.74it/s]"
          ]
        },
        {
          "output_type": "stream",
          "name": "stdout",
          "text": [
            "                   all        200       1038      0.591       0.53      0.562      0.342\n"
          ]
        },
        {
          "output_type": "stream",
          "name": "stderr",
          "text": [
            "\n"
          ]
        },
        {
          "output_type": "stream",
          "name": "stdout",
          "text": [
            "\n",
            "      Epoch    GPU_mem   box_loss   cls_loss   dfl_loss  Instances       Size\n"
          ]
        },
        {
          "output_type": "stream",
          "name": "stderr",
          "text": [
            "      15/30      11.2G      1.067     0.7672       1.02         50        640: 100%|██████████| 32/32 [00:23<00:00,  1.34it/s]\n",
            "                 Class     Images  Instances      Box(P          R      mAP50  mAP50-95): 100%|██████████| 7/7 [00:02<00:00,  2.89it/s]"
          ]
        },
        {
          "output_type": "stream",
          "name": "stdout",
          "text": [
            "                   all        200       1038      0.742      0.534      0.603      0.354\n"
          ]
        },
        {
          "output_type": "stream",
          "name": "stderr",
          "text": [
            "\n"
          ]
        },
        {
          "output_type": "stream",
          "name": "stdout",
          "text": [
            "\n",
            "      Epoch    GPU_mem   box_loss   cls_loss   dfl_loss  Instances       Size\n"
          ]
        },
        {
          "output_type": "stream",
          "name": "stderr",
          "text": [
            "      16/30      11.2G      1.035     0.7415      1.023         34        640: 100%|██████████| 32/32 [00:23<00:00,  1.33it/s]\n",
            "                 Class     Images  Instances      Box(P          R      mAP50  mAP50-95): 100%|██████████| 7/7 [00:04<00:00,  1.74it/s]"
          ]
        },
        {
          "output_type": "stream",
          "name": "stdout",
          "text": [
            "                   all        200       1038      0.675      0.539      0.591      0.366\n"
          ]
        },
        {
          "output_type": "stream",
          "name": "stderr",
          "text": [
            "\n"
          ]
        },
        {
          "output_type": "stream",
          "name": "stdout",
          "text": [
            "\n",
            "      Epoch    GPU_mem   box_loss   cls_loss   dfl_loss  Instances       Size\n"
          ]
        },
        {
          "output_type": "stream",
          "name": "stderr",
          "text": [
            "      17/30        11G      1.021     0.7203      1.014         57        640: 100%|██████████| 32/32 [00:23<00:00,  1.35it/s]\n",
            "                 Class     Images  Instances      Box(P          R      mAP50  mAP50-95): 100%|██████████| 7/7 [00:03<00:00,  2.18it/s]"
          ]
        },
        {
          "output_type": "stream",
          "name": "stdout",
          "text": [
            "                   all        200       1038      0.645      0.573      0.594      0.359\n"
          ]
        },
        {
          "output_type": "stream",
          "name": "stderr",
          "text": [
            "\n"
          ]
        },
        {
          "output_type": "stream",
          "name": "stdout",
          "text": [
            "\n",
            "      Epoch    GPU_mem   box_loss   cls_loss   dfl_loss  Instances       Size\n"
          ]
        },
        {
          "output_type": "stream",
          "name": "stderr",
          "text": [
            "      18/30      11.1G      1.004     0.7012      1.013         21        640: 100%|██████████| 32/32 [00:23<00:00,  1.35it/s]\n",
            "                 Class     Images  Instances      Box(P          R      mAP50  mAP50-95): 100%|██████████| 7/7 [00:02<00:00,  2.84it/s]"
          ]
        },
        {
          "output_type": "stream",
          "name": "stdout",
          "text": [
            "                   all        200       1038      0.683      0.535      0.623      0.379\n"
          ]
        },
        {
          "output_type": "stream",
          "name": "stderr",
          "text": [
            "\n"
          ]
        },
        {
          "output_type": "stream",
          "name": "stdout",
          "text": [
            "\n",
            "      Epoch    GPU_mem   box_loss   cls_loss   dfl_loss  Instances       Size\n"
          ]
        },
        {
          "output_type": "stream",
          "name": "stderr",
          "text": [
            "      19/30      11.1G      0.996     0.6811      1.004         58        640: 100%|██████████| 32/32 [00:24<00:00,  1.32it/s]\n",
            "                 Class     Images  Instances      Box(P          R      mAP50  mAP50-95): 100%|██████████| 7/7 [00:02<00:00,  2.78it/s]\n"
          ]
        },
        {
          "output_type": "stream",
          "name": "stdout",
          "text": [
            "                   all        200       1038      0.699      0.626       0.68      0.395\n",
            "\n",
            "      Epoch    GPU_mem   box_loss   cls_loss   dfl_loss  Instances       Size\n"
          ]
        },
        {
          "output_type": "stream",
          "name": "stderr",
          "text": [
            "      20/30        11G     0.9963     0.6814      1.011         51        640: 100%|██████████| 32/32 [00:24<00:00,  1.33it/s]\n",
            "                 Class     Images  Instances      Box(P          R      mAP50  mAP50-95): 100%|██████████| 7/7 [00:04<00:00,  1.58it/s]"
          ]
        },
        {
          "output_type": "stream",
          "name": "stdout",
          "text": [
            "                   all        200       1038      0.712      0.571      0.659      0.398\n"
          ]
        },
        {
          "output_type": "stream",
          "name": "stderr",
          "text": [
            "\n"
          ]
        },
        {
          "output_type": "stream",
          "name": "stdout",
          "text": [
            "Closing dataloader mosaic\n",
            "\u001b[34m\u001b[1malbumentations: \u001b[0mBlur(p=0.01, blur_limit=(3, 7)), MedianBlur(p=0.01, blur_limit=(3, 7)), ToGray(p=0.01, num_output_channels=3, method='weighted_average'), CLAHE(p=0.01, clip_limit=(1.0, 4.0), tile_grid_size=(8, 8))\n",
            "\n",
            "      Epoch    GPU_mem   box_loss   cls_loss   dfl_loss  Instances       Size\n"
          ]
        },
        {
          "output_type": "stream",
          "name": "stderr",
          "text": [
            "      21/30      11.1G     0.9766     0.6875     0.9989         10        640: 100%|██████████| 32/32 [00:25<00:00,  1.27it/s]\n",
            "                 Class     Images  Instances      Box(P          R      mAP50  mAP50-95): 100%|██████████| 7/7 [00:03<00:00,  1.76it/s]"
          ]
        },
        {
          "output_type": "stream",
          "name": "stdout",
          "text": [
            "                   all        200       1038      0.744      0.548      0.622      0.359\n"
          ]
        },
        {
          "output_type": "stream",
          "name": "stderr",
          "text": [
            "\n"
          ]
        },
        {
          "output_type": "stream",
          "name": "stdout",
          "text": [
            "\n",
            "      Epoch    GPU_mem   box_loss   cls_loss   dfl_loss  Instances       Size\n"
          ]
        },
        {
          "output_type": "stream",
          "name": "stderr",
          "text": [
            "      22/30      11.1G     0.9496     0.6423     0.9865         25        640: 100%|██████████| 32/32 [00:23<00:00,  1.35it/s]\n",
            "                 Class     Images  Instances      Box(P          R      mAP50  mAP50-95): 100%|██████████| 7/7 [00:02<00:00,  2.70it/s]"
          ]
        },
        {
          "output_type": "stream",
          "name": "stdout",
          "text": [
            "                   all        200       1038      0.664      0.554      0.591      0.371\n"
          ]
        },
        {
          "output_type": "stream",
          "name": "stderr",
          "text": [
            "\n"
          ]
        },
        {
          "output_type": "stream",
          "name": "stdout",
          "text": [
            "\n",
            "      Epoch    GPU_mem   box_loss   cls_loss   dfl_loss  Instances       Size\n"
          ]
        },
        {
          "output_type": "stream",
          "name": "stderr",
          "text": [
            "      23/30      11.1G      0.969     0.6511      0.994         30        640: 100%|██████████| 32/32 [00:24<00:00,  1.32it/s]\n",
            "                 Class     Images  Instances      Box(P          R      mAP50  mAP50-95): 100%|██████████| 7/7 [00:02<00:00,  2.35it/s]\n"
          ]
        },
        {
          "output_type": "stream",
          "name": "stdout",
          "text": [
            "                   all        200       1038      0.552      0.642      0.643      0.406\n",
            "\n",
            "      Epoch    GPU_mem   box_loss   cls_loss   dfl_loss  Instances       Size\n"
          ]
        },
        {
          "output_type": "stream",
          "name": "stderr",
          "text": [
            "      24/30      11.1G     0.9431     0.6348     0.9874         34        640: 100%|██████████| 32/32 [00:23<00:00,  1.35it/s]\n",
            "                 Class     Images  Instances      Box(P          R      mAP50  mAP50-95): 100%|██████████| 7/7 [00:04<00:00,  1.65it/s]"
          ]
        },
        {
          "output_type": "stream",
          "name": "stdout",
          "text": [
            "                   all        200       1038      0.718        0.6      0.638      0.401\n"
          ]
        },
        {
          "output_type": "stream",
          "name": "stderr",
          "text": [
            "\n"
          ]
        },
        {
          "output_type": "stream",
          "name": "stdout",
          "text": [
            "\n",
            "      Epoch    GPU_mem   box_loss   cls_loss   dfl_loss  Instances       Size\n"
          ]
        },
        {
          "output_type": "stream",
          "name": "stderr",
          "text": [
            "      25/30      11.1G     0.9243     0.6021     0.9793         17        640: 100%|██████████| 32/32 [00:23<00:00,  1.36it/s]\n",
            "                 Class     Images  Instances      Box(P          R      mAP50  mAP50-95): 100%|██████████| 7/7 [00:02<00:00,  2.75it/s]"
          ]
        },
        {
          "output_type": "stream",
          "name": "stdout",
          "text": [
            "                   all        200       1038      0.712      0.584      0.635      0.405\n"
          ]
        },
        {
          "output_type": "stream",
          "name": "stderr",
          "text": [
            "\n"
          ]
        },
        {
          "output_type": "stream",
          "name": "stdout",
          "text": [
            "\n",
            "      Epoch    GPU_mem   box_loss   cls_loss   dfl_loss  Instances       Size\n"
          ]
        },
        {
          "output_type": "stream",
          "name": "stderr",
          "text": [
            "      26/30      11.1G     0.9063     0.5968     0.9644          9        640: 100%|██████████| 32/32 [00:23<00:00,  1.34it/s]\n",
            "                 Class     Images  Instances      Box(P          R      mAP50  mAP50-95): 100%|██████████| 7/7 [00:02<00:00,  2.78it/s]"
          ]
        },
        {
          "output_type": "stream",
          "name": "stdout",
          "text": [
            "                   all        200       1038      0.703      0.615      0.659      0.418\n"
          ]
        },
        {
          "output_type": "stream",
          "name": "stderr",
          "text": [
            "\n"
          ]
        },
        {
          "output_type": "stream",
          "name": "stdout",
          "text": [
            "\n",
            "      Epoch    GPU_mem   box_loss   cls_loss   dfl_loss  Instances       Size\n"
          ]
        },
        {
          "output_type": "stream",
          "name": "stderr",
          "text": [
            "      27/30      11.1G      0.895     0.5678     0.9594         18        640: 100%|██████████| 32/32 [00:24<00:00,  1.30it/s]\n",
            "                 Class     Images  Instances      Box(P          R      mAP50  mAP50-95): 100%|██████████| 7/7 [00:03<00:00,  2.00it/s]\n"
          ]
        },
        {
          "output_type": "stream",
          "name": "stdout",
          "text": [
            "                   all        200       1038      0.807      0.535      0.662      0.429\n",
            "\n",
            "      Epoch    GPU_mem   box_loss   cls_loss   dfl_loss  Instances       Size\n"
          ]
        },
        {
          "output_type": "stream",
          "name": "stderr",
          "text": [
            "      28/30      11.1G     0.8661     0.5537     0.9546         22        640: 100%|██████████| 32/32 [00:23<00:00,  1.34it/s]\n",
            "                 Class     Images  Instances      Box(P          R      mAP50  mAP50-95): 100%|██████████| 7/7 [00:04<00:00,  1.63it/s]"
          ]
        },
        {
          "output_type": "stream",
          "name": "stdout",
          "text": [
            "                   all        200       1038       0.73      0.553      0.658      0.428\n"
          ]
        },
        {
          "output_type": "stream",
          "name": "stderr",
          "text": [
            "\n"
          ]
        },
        {
          "output_type": "stream",
          "name": "stdout",
          "text": [
            "\n",
            "      Epoch    GPU_mem   box_loss   cls_loss   dfl_loss  Instances       Size\n"
          ]
        },
        {
          "output_type": "stream",
          "name": "stderr",
          "text": [
            "      29/30      11.1G     0.8688     0.5542     0.9525         20        640: 100%|██████████| 32/32 [00:23<00:00,  1.36it/s]\n",
            "                 Class     Images  Instances      Box(P          R      mAP50  mAP50-95): 100%|██████████| 7/7 [00:02<00:00,  2.54it/s]"
          ]
        },
        {
          "output_type": "stream",
          "name": "stdout",
          "text": [
            "                   all        200       1038       0.58      0.669      0.664      0.432\n"
          ]
        },
        {
          "output_type": "stream",
          "name": "stderr",
          "text": [
            "\n"
          ]
        },
        {
          "output_type": "stream",
          "name": "stdout",
          "text": [
            "\n",
            "      Epoch    GPU_mem   box_loss   cls_loss   dfl_loss  Instances       Size\n"
          ]
        },
        {
          "output_type": "stream",
          "name": "stderr",
          "text": [
            "      30/30      11.1G      0.852     0.5374     0.9404          7        640: 100%|██████████| 32/32 [00:23<00:00,  1.36it/s]\n",
            "                 Class     Images  Instances      Box(P          R      mAP50  mAP50-95): 100%|██████████| 7/7 [00:02<00:00,  2.36it/s]"
          ]
        },
        {
          "output_type": "stream",
          "name": "stdout",
          "text": [
            "                   all        200       1038      0.778      0.608       0.67      0.432\n"
          ]
        },
        {
          "output_type": "stream",
          "name": "stderr",
          "text": [
            "\n"
          ]
        },
        {
          "output_type": "stream",
          "name": "stdout",
          "text": [
            "\n",
            "30 epochs completed in 0.278 hours.\n",
            "Optimizer stripped from runs/detect/train2/weights/last.pt, 106.8MB\n",
            "Optimizer stripped from runs/detect/train2/weights/best.pt, 106.8MB\n",
            "\n",
            "Validating runs/detect/train2/weights/best.pt...\n",
            "Ultralytics 8.3.55 🚀 Python-3.10.12 torch-2.5.1+cu121 CUDA:0 (Tesla T4, 15102MiB)\n",
            "YOLOv5l summary (fused): 303 layers, 53,138,347 parameters, 0 gradients, 134.7 GFLOPs\n"
          ]
        },
        {
          "output_type": "stream",
          "name": "stderr",
          "text": [
            "                 Class     Images  Instances      Box(P          R      mAP50  mAP50-95): 100%|██████████| 7/7 [00:03<00:00,  1.87it/s]\n"
          ]
        },
        {
          "output_type": "stream",
          "name": "stdout",
          "text": [
            "                   all        200       1038      0.783      0.604       0.67      0.432\n",
            "                   Car        186        763      0.889      0.831      0.915      0.679\n",
            "            Pedestrian         35         98      0.734      0.479      0.554      0.266\n",
            "                   Van         53         74      0.732      0.581      0.676      0.483\n",
            "               Cyclist         27         37      0.828       0.52      0.611      0.354\n",
            "                 Truck         26         28      0.786      0.714      0.731      0.559\n",
            "                  Misc         19         24      0.888      0.458       0.56      0.341\n",
            "                  Tram          7          9      0.604       0.85      0.785      0.607\n",
            "        Person_sitting          3          5        0.8        0.4      0.527      0.163\n",
            "Speed: 0.1ms preprocess, 5.3ms inference, 0.0ms loss, 2.5ms postprocess per image\n",
            "Results saved to \u001b[1mruns/detect/train2\u001b[0m\n"
          ]
        }
      ]
    },
    {
      "cell_type": "code",
      "source": [
        "from ultralytics import YOLO\n",
        "model = YOLO('runs/detect/train2/weights/best.pt')\n",
        "\n",
        "results = model ('video.mp4', save=True)"
      ],
      "metadata": {
        "colab": {
          "base_uri": "https://localhost:8080/"
        },
        "id": "9kfXkL5Pm58S",
        "outputId": "8d974647-8f20-4530-cd7e-92b4f9cdba1c"
      },
      "execution_count": 11,
      "outputs": [
        {
          "output_type": "stream",
          "name": "stdout",
          "text": [
            "\n",
            "\n",
            "WARNING ⚠️ inference results will accumulate in RAM unless `stream=True` is passed, causing potential out-of-memory\n",
            "errors for large sources or long-running streams and videos. See https://docs.ultralytics.com/modes/predict/ for help.\n",
            "\n",
            "Example:\n",
            "    results = model(source=..., stream=True)  # generator of Results objects\n",
            "    for r in results:\n",
            "        boxes = r.boxes  # Boxes object for bbox outputs\n",
            "        masks = r.masks  # Masks object for segment masks outputs\n",
            "        probs = r.probs  # Class probabilities for classification outputs\n",
            "\n",
            "video 1/1 (frame 1/1332) /content/video.mp4: 384x640 7 Cars, 2 Pedestrians, 1 Cyclist, 47.8ms\n",
            "video 1/1 (frame 2/1332) /content/video.mp4: 384x640 7 Cars, 2 Pedestrians, 1 Cyclist, 37.4ms\n",
            "video 1/1 (frame 3/1332) /content/video.mp4: 384x640 7 Cars, 1 Pedestrian, 1 Cyclist, 1 Misc, 27.9ms\n",
            "video 1/1 (frame 4/1332) /content/video.mp4: 384x640 7 Cars, 1 Pedestrian, 1 Van, 1 Cyclist, 27.9ms\n",
            "video 1/1 (frame 5/1332) /content/video.mp4: 384x640 6 Cars, 1 Pedestrian, 1 Van, 1 Cyclist, 27.6ms\n",
            "video 1/1 (frame 6/1332) /content/video.mp4: 384x640 6 Cars, 2 Pedestrians, 1 Van, 1 Cyclist, 26.8ms\n",
            "video 1/1 (frame 7/1332) /content/video.mp4: 384x640 6 Cars, 2 Pedestrians, 1 Van, 1 Cyclist, 22.6ms\n",
            "video 1/1 (frame 8/1332) /content/video.mp4: 384x640 6 Cars, 1 Pedestrian, 1 Van, 1 Cyclist, 22.6ms\n",
            "video 1/1 (frame 9/1332) /content/video.mp4: 384x640 7 Cars, 1 Pedestrian, 1 Cyclist, 22.1ms\n",
            "video 1/1 (frame 10/1332) /content/video.mp4: 384x640 5 Cars, 1 Pedestrian, 1 Van, 1 Cyclist, 22.1ms\n",
            "video 1/1 (frame 11/1332) /content/video.mp4: 384x640 7 Cars, 1 Pedestrian, 1 Cyclist, 19.8ms\n",
            "video 1/1 (frame 12/1332) /content/video.mp4: 384x640 6 Cars, 1 Pedestrian, 1 Cyclist, 1 Misc, 19.9ms\n",
            "video 1/1 (frame 13/1332) /content/video.mp4: 384x640 7 Cars, 1 Pedestrian, 1 Cyclist, 1 Misc, 19.8ms\n",
            "video 1/1 (frame 14/1332) /content/video.mp4: 384x640 6 Cars, 1 Cyclist, 1 Misc, 19.7ms\n",
            "video 1/1 (frame 15/1332) /content/video.mp4: 384x640 7 Cars, 1 Cyclist, 19.5ms\n",
            "video 1/1 (frame 16/1332) /content/video.mp4: 384x640 7 Cars, 1 Pedestrian, 1 Cyclist, 19.5ms\n",
            "video 1/1 (frame 17/1332) /content/video.mp4: 384x640 6 Cars, 1 Cyclist, 19.3ms\n",
            "video 1/1 (frame 18/1332) /content/video.mp4: 384x640 7 Cars, 1 Cyclist, 1 Misc, 19.5ms\n",
            "video 1/1 (frame 19/1332) /content/video.mp4: 384x640 7 Cars, 1 Cyclist, 1 Misc, 20.1ms\n",
            "video 1/1 (frame 20/1332) /content/video.mp4: 384x640 6 Cars, 1 Cyclist, 19.5ms\n",
            "video 1/1 (frame 21/1332) /content/video.mp4: 384x640 7 Cars, 1 Pedestrian, 1 Cyclist, 19.2ms\n",
            "video 1/1 (frame 22/1332) /content/video.mp4: 384x640 6 Cars, 1 Cyclist, 19.6ms\n",
            "video 1/1 (frame 23/1332) /content/video.mp4: 384x640 5 Cars, 1 Cyclist, 19.5ms\n",
            "video 1/1 (frame 24/1332) /content/video.mp4: 384x640 5 Cars, 1 Cyclist, 18.6ms\n",
            "video 1/1 (frame 25/1332) /content/video.mp4: 384x640 5 Cars, 1 Cyclist, 17.9ms\n",
            "video 1/1 (frame 26/1332) /content/video.mp4: 384x640 5 Cars, 2 Cyclists, 17.8ms\n",
            "video 1/1 (frame 27/1332) /content/video.mp4: 384x640 5 Cars, 2 Cyclists, 18.2ms\n",
            "video 1/1 (frame 28/1332) /content/video.mp4: 384x640 6 Cars, 1 Cyclist, 19.3ms\n",
            "video 1/1 (frame 29/1332) /content/video.mp4: 384x640 4 Cars, 1 Cyclist, 18.6ms\n",
            "video 1/1 (frame 30/1332) /content/video.mp4: 384x640 4 Cars, 1 Cyclist, 18.6ms\n",
            "video 1/1 (frame 31/1332) /content/video.mp4: 384x640 4 Cars, 1 Cyclist, 18.4ms\n",
            "video 1/1 (frame 32/1332) /content/video.mp4: 384x640 4 Cars, 1 Cyclist, 18.2ms\n",
            "video 1/1 (frame 33/1332) /content/video.mp4: 384x640 4 Cars, 1 Van, 1 Cyclist, 18.7ms\n",
            "video 1/1 (frame 34/1332) /content/video.mp4: 384x640 4 Cars, 1 Pedestrian, 1 Van, 1 Cyclist, 18.9ms\n",
            "video 1/1 (frame 35/1332) /content/video.mp4: 384x640 4 Cars, 1 Pedestrian, 1 Van, 1 Cyclist, 18.7ms\n",
            "video 1/1 (frame 36/1332) /content/video.mp4: 384x640 4 Cars, 1 Van, 1 Cyclist, 18.7ms\n",
            "video 1/1 (frame 37/1332) /content/video.mp4: 384x640 4 Cars, 1 Pedestrian, 1 Van, 1 Cyclist, 18.7ms\n",
            "video 1/1 (frame 38/1332) /content/video.mp4: 384x640 5 Cars, 2 Pedestrians, 1 Van, 1 Cyclist, 17.8ms\n",
            "video 1/1 (frame 39/1332) /content/video.mp4: 384x640 6 Cars, 1 Pedestrian, 1 Van, 1 Cyclist, 18.7ms\n",
            "video 1/1 (frame 40/1332) /content/video.mp4: 384x640 6 Cars, 3 Pedestrians, 1 Van, 1 Cyclist, 17.8ms\n",
            "video 1/1 (frame 41/1332) /content/video.mp4: 384x640 6 Cars, 3 Pedestrians, 1 Van, 2 Cyclists, 18.8ms\n",
            "video 1/1 (frame 42/1332) /content/video.mp4: 384x640 6 Cars, 3 Pedestrians, 1 Van, 2 Cyclists, 18.7ms\n",
            "video 1/1 (frame 43/1332) /content/video.mp4: 384x640 6 Cars, 2 Pedestrians, 1 Van, 2 Cyclists, 1 Misc, 17.9ms\n",
            "video 1/1 (frame 44/1332) /content/video.mp4: 384x640 5 Cars, 1 Pedestrian, 1 Van, 3 Cyclists, 1 Misc, 18.6ms\n",
            "video 1/1 (frame 45/1332) /content/video.mp4: 384x640 5 Cars, 3 Pedestrians, 1 Van, 2 Cyclists, 1 Misc, 18.7ms\n",
            "video 1/1 (frame 46/1332) /content/video.mp4: 384x640 5 Cars, 3 Pedestrians, 1 Van, 2 Cyclists, 1 Misc, 18.2ms\n",
            "video 1/1 (frame 47/1332) /content/video.mp4: 384x640 5 Cars, 2 Pedestrians, 1 Van, 2 Cyclists, 1 Misc, 18.2ms\n",
            "video 1/1 (frame 48/1332) /content/video.mp4: 384x640 6 Cars, 2 Pedestrians, 1 Van, 2 Cyclists, 18.7ms\n",
            "video 1/1 (frame 49/1332) /content/video.mp4: 384x640 5 Cars, 3 Pedestrians, 1 Van, 2 Cyclists, 18.5ms\n",
            "video 1/1 (frame 50/1332) /content/video.mp4: 384x640 5 Cars, 1 Pedestrian, 1 Van, 2 Cyclists, 1 Misc, 18.0ms\n",
            "video 1/1 (frame 51/1332) /content/video.mp4: 384x640 6 Cars, 1 Pedestrian, 1 Van, 2 Cyclists, 1 Misc, 18.3ms\n",
            "video 1/1 (frame 52/1332) /content/video.mp4: 384x640 6 Cars, 1 Pedestrian, 1 Van, 2 Cyclists, 1 Misc, 18.8ms\n",
            "video 1/1 (frame 53/1332) /content/video.mp4: 384x640 6 Cars, 1 Pedestrian, 1 Van, 2 Cyclists, 18.9ms\n",
            "video 1/1 (frame 54/1332) /content/video.mp4: 384x640 5 Cars, 1 Pedestrian, 1 Van, 2 Cyclists, 1 Misc, 18.1ms\n",
            "video 1/1 (frame 55/1332) /content/video.mp4: 384x640 5 Cars, 1 Pedestrian, 1 Van, 2 Cyclists, 18.8ms\n",
            "video 1/1 (frame 56/1332) /content/video.mp4: 384x640 5 Cars, 1 Pedestrian, 2 Cyclists, 1 Misc, 18.9ms\n",
            "video 1/1 (frame 57/1332) /content/video.mp4: 384x640 5 Cars, 1 Pedestrian, 2 Cyclists, 1 Misc, 18.8ms\n",
            "video 1/1 (frame 58/1332) /content/video.mp4: 384x640 5 Cars, 1 Pedestrian, 2 Cyclists, 1 Misc, 18.6ms\n",
            "video 1/1 (frame 59/1332) /content/video.mp4: 384x640 6 Cars, 1 Pedestrian, 2 Cyclists, 1 Misc, 17.9ms\n",
            "video 1/1 (frame 60/1332) /content/video.mp4: 384x640 6 Cars, 1 Pedestrian, 2 Cyclists, 1 Misc, 18.5ms\n",
            "video 1/1 (frame 61/1332) /content/video.mp4: 384x640 5 Cars, 1 Pedestrian, 1 Cyclist, 1 Misc, 18.0ms\n",
            "video 1/1 (frame 62/1332) /content/video.mp4: 384x640 5 Cars, 1 Pedestrian, 1 Cyclist, 18.7ms\n",
            "video 1/1 (frame 63/1332) /content/video.mp4: 384x640 5 Cars, 1 Pedestrian, 1 Cyclist, 18.0ms\n",
            "video 1/1 (frame 64/1332) /content/video.mp4: 384x640 5 Cars, 1 Pedestrian, 1 Cyclist, 18.2ms\n",
            "video 1/1 (frame 65/1332) /content/video.mp4: 384x640 6 Cars, 1 Pedestrian, 2 Cyclists, 18.5ms\n",
            "video 1/1 (frame 66/1332) /content/video.mp4: 384x640 6 Cars, 1 Pedestrian, 2 Cyclists, 18.8ms\n",
            "video 1/1 (frame 67/1332) /content/video.mp4: 384x640 5 Cars, 2 Pedestrians, 2 Cyclists, 18.2ms\n",
            "video 1/1 (frame 68/1332) /content/video.mp4: 384x640 5 Cars, 3 Pedestrians, 1 Cyclist, 17.9ms\n",
            "video 1/1 (frame 69/1332) /content/video.mp4: 384x640 5 Cars, 3 Pedestrians, 1 Cyclist, 18.7ms\n",
            "video 1/1 (frame 70/1332) /content/video.mp4: 384x640 5 Cars, 3 Pedestrians, 1 Cyclist, 18.4ms\n",
            "video 1/1 (frame 71/1332) /content/video.mp4: 384x640 6 Cars, 2 Pedestrians, 1 Cyclist, 18.0ms\n",
            "video 1/1 (frame 72/1332) /content/video.mp4: 384x640 8 Cars, 2 Pedestrians, 1 Cyclist, 18.7ms\n",
            "video 1/1 (frame 73/1332) /content/video.mp4: 384x640 8 Cars, 2 Pedestrians, 1 Cyclist, 18.8ms\n",
            "video 1/1 (frame 74/1332) /content/video.mp4: 384x640 7 Cars, 3 Pedestrians, 1 Cyclist, 18.7ms\n",
            "video 1/1 (frame 75/1332) /content/video.mp4: 384x640 7 Cars, 3 Pedestrians, 1 Cyclist, 21.0ms\n",
            "video 1/1 (frame 76/1332) /content/video.mp4: 384x640 7 Cars, 2 Pedestrians, 1 Cyclist, 1 Misc, 18.8ms\n",
            "video 1/1 (frame 77/1332) /content/video.mp4: 384x640 7 Cars, 2 Pedestrians, 1 Cyclist, 1 Misc, 19.2ms\n",
            "video 1/1 (frame 78/1332) /content/video.mp4: 384x640 9 Cars, 1 Pedestrian, 1 Cyclist, 1 Misc, 18.8ms\n",
            "video 1/1 (frame 79/1332) /content/video.mp4: 384x640 9 Cars, 2 Pedestrians, 1 Cyclist, 19.2ms\n",
            "video 1/1 (frame 80/1332) /content/video.mp4: 384x640 8 Cars, 1 Pedestrian, 1 Cyclist, 19.3ms\n",
            "video 1/1 (frame 81/1332) /content/video.mp4: 384x640 8 Cars, 1 Pedestrian, 1 Cyclist, 19.2ms\n",
            "video 1/1 (frame 82/1332) /content/video.mp4: 384x640 7 Cars, 1 Pedestrian, 2 Cyclists, 19.2ms\n",
            "video 1/1 (frame 83/1332) /content/video.mp4: 384x640 7 Cars, 2 Pedestrians, 1 Cyclist, 19.6ms\n",
            "video 1/1 (frame 84/1332) /content/video.mp4: 384x640 8 Cars, 3 Pedestrians, 2 Cyclists, 19.2ms\n",
            "video 1/1 (frame 85/1332) /content/video.mp4: 384x640 7 Cars, 3 Pedestrians, 1 Cyclist, 1 Misc, 19.2ms\n",
            "video 1/1 (frame 86/1332) /content/video.mp4: 384x640 7 Cars, 3 Pedestrians, 1 Cyclist, 1 Misc, 19.2ms\n",
            "video 1/1 (frame 87/1332) /content/video.mp4: 384x640 7 Cars, 2 Pedestrians, 2 Cyclists, 19.1ms\n",
            "video 1/1 (frame 88/1332) /content/video.mp4: 384x640 8 Cars, 2 Pedestrians, 1 Cyclist, 19.1ms\n",
            "video 1/1 (frame 89/1332) /content/video.mp4: 384x640 6 Cars, 1 Pedestrian, 3 Cyclists, 1 Misc, 19.2ms\n",
            "video 1/1 (frame 90/1332) /content/video.mp4: 384x640 7 Cars, 1 Pedestrian, 3 Cyclists, 19.2ms\n",
            "video 1/1 (frame 91/1332) /content/video.mp4: 384x640 5 Cars, 2 Pedestrians, 3 Cyclists, 19.2ms\n",
            "video 1/1 (frame 92/1332) /content/video.mp4: 384x640 5 Cars, 2 Pedestrians, 3 Cyclists, 19.2ms\n",
            "video 1/1 (frame 93/1332) /content/video.mp4: 384x640 5 Cars, 2 Pedestrians, 3 Cyclists, 1 Misc, 19.2ms\n",
            "video 1/1 (frame 94/1332) /content/video.mp4: 384x640 5 Cars, 2 Pedestrians, 2 Cyclists, 19.2ms\n",
            "video 1/1 (frame 95/1332) /content/video.mp4: 384x640 5 Cars, 2 Pedestrians, 2 Cyclists, 19.2ms\n",
            "video 1/1 (frame 96/1332) /content/video.mp4: 384x640 5 Cars, 2 Pedestrians, 2 Cyclists, 1 Misc, 19.2ms\n",
            "video 1/1 (frame 97/1332) /content/video.mp4: 384x640 5 Cars, 1 Pedestrian, 2 Cyclists, 19.1ms\n",
            "video 1/1 (frame 98/1332) /content/video.mp4: 384x640 5 Cars, 1 Pedestrian, 2 Cyclists, 19.2ms\n",
            "video 1/1 (frame 99/1332) /content/video.mp4: 384x640 5 Cars, 1 Pedestrian, 3 Cyclists, 1 Misc, 19.2ms\n",
            "video 1/1 (frame 100/1332) /content/video.mp4: 384x640 5 Cars, 2 Pedestrians, 2 Cyclists, 19.2ms\n",
            "video 1/1 (frame 101/1332) /content/video.mp4: 384x640 5 Cars, 1 Pedestrian, 2 Cyclists, 19.2ms\n",
            "video 1/1 (frame 102/1332) /content/video.mp4: 384x640 5 Cars, 1 Pedestrian, 2 Cyclists, 1 Misc, 19.2ms\n",
            "video 1/1 (frame 103/1332) /content/video.mp4: 384x640 5 Cars, 2 Pedestrians, 2 Cyclists, 1 Misc, 19.5ms\n",
            "video 1/1 (frame 104/1332) /content/video.mp4: 384x640 5 Cars, 1 Pedestrian, 2 Cyclists, 19.3ms\n",
            "video 1/1 (frame 105/1332) /content/video.mp4: 384x640 5 Cars, 1 Pedestrian, 2 Cyclists, 19.1ms\n",
            "video 1/1 (frame 106/1332) /content/video.mp4: 384x640 5 Cars, 1 Pedestrian, 2 Cyclists, 1 Misc, 19.2ms\n",
            "video 1/1 (frame 107/1332) /content/video.mp4: 384x640 5 Cars, 1 Pedestrian, 2 Cyclists, 1 Misc, 19.2ms\n",
            "video 1/1 (frame 108/1332) /content/video.mp4: 384x640 4 Cars, 1 Pedestrian, 2 Cyclists, 1 Misc, 19.2ms\n",
            "video 1/1 (frame 109/1332) /content/video.mp4: 384x640 4 Cars, 1 Pedestrian, 2 Cyclists, 1 Misc, 19.2ms\n",
            "video 1/1 (frame 110/1332) /content/video.mp4: 384x640 4 Cars, 1 Pedestrian, 2 Cyclists, 19.2ms\n",
            "video 1/1 (frame 111/1332) /content/video.mp4: 384x640 4 Cars, 1 Pedestrian, 2 Cyclists, 1 Misc, 19.1ms\n",
            "video 1/1 (frame 112/1332) /content/video.mp4: 384x640 5 Cars, 1 Pedestrian, 3 Cyclists, 1 Misc, 19.6ms\n",
            "video 1/1 (frame 113/1332) /content/video.mp4: 384x640 4 Cars, 1 Pedestrian, 3 Cyclists, 1 Misc, 18.9ms\n",
            "video 1/1 (frame 114/1332) /content/video.mp4: 384x640 4 Cars, 1 Pedestrian, 3 Cyclists, 18.8ms\n",
            "video 1/1 (frame 115/1332) /content/video.mp4: 384x640 4 Cars, 1 Pedestrian, 3 Cyclists, 18.7ms\n",
            "video 1/1 (frame 116/1332) /content/video.mp4: 384x640 4 Cars, 1 Pedestrian, 3 Cyclists, 1 Misc, 18.8ms\n",
            "video 1/1 (frame 117/1332) /content/video.mp4: 384x640 4 Cars, 1 Pedestrian, 3 Cyclists, 18.8ms\n",
            "video 1/1 (frame 118/1332) /content/video.mp4: 384x640 4 Cars, 1 Pedestrian, 3 Cyclists, 18.1ms\n",
            "video 1/1 (frame 119/1332) /content/video.mp4: 384x640 4 Cars, 1 Pedestrian, 3 Cyclists, 18.0ms\n",
            "video 1/1 (frame 120/1332) /content/video.mp4: 384x640 4 Cars, 1 Pedestrian, 3 Cyclists, 18.7ms\n",
            "video 1/1 (frame 121/1332) /content/video.mp4: 384x640 4 Cars, 1 Pedestrian, 3 Cyclists, 18.1ms\n",
            "video 1/1 (frame 122/1332) /content/video.mp4: 384x640 6 Cars, 2 Pedestrians, 3 Cyclists, 18.8ms\n",
            "video 1/1 (frame 123/1332) /content/video.mp4: 384x640 5 Cars, 1 Pedestrian, 3 Cyclists, 18.1ms\n",
            "video 1/1 (frame 124/1332) /content/video.mp4: 384x640 5 Cars, 1 Pedestrian, 4 Cyclists, 18.2ms\n",
            "video 1/1 (frame 125/1332) /content/video.mp4: 384x640 4 Cars, 2 Pedestrians, 4 Cyclists, 18.5ms\n",
            "video 1/1 (frame 126/1332) /content/video.mp4: 384x640 4 Cars, 2 Pedestrians, 4 Cyclists, 18.0ms\n",
            "video 1/1 (frame 127/1332) /content/video.mp4: 384x640 5 Cars, 2 Pedestrians, 3 Cyclists, 18.8ms\n",
            "video 1/1 (frame 128/1332) /content/video.mp4: 384x640 5 Cars, 2 Pedestrians, 3 Cyclists, 18.1ms\n",
            "video 1/1 (frame 129/1332) /content/video.mp4: 384x640 5 Cars, 2 Pedestrians, 3 Cyclists, 18.0ms\n",
            "video 1/1 (frame 130/1332) /content/video.mp4: 384x640 6 Cars, 3 Pedestrians, 3 Cyclists, 18.7ms\n",
            "video 1/1 (frame 131/1332) /content/video.mp4: 384x640 5 Cars, 3 Pedestrians, 3 Cyclists, 1 Misc, 18.0ms\n",
            "video 1/1 (frame 132/1332) /content/video.mp4: 384x640 5 Cars, 3 Pedestrians, 3 Cyclists, 1 Misc, 18.4ms\n",
            "video 1/1 (frame 133/1332) /content/video.mp4: 384x640 5 Cars, 4 Pedestrians, 3 Cyclists, 18.7ms\n",
            "video 1/1 (frame 134/1332) /content/video.mp4: 384x640 5 Cars, 3 Pedestrians, 2 Cyclists, 18.1ms\n",
            "video 1/1 (frame 135/1332) /content/video.mp4: 384x640 5 Cars, 3 Pedestrians, 2 Cyclists, 18.6ms\n",
            "video 1/1 (frame 136/1332) /content/video.mp4: 384x640 5 Cars, 3 Pedestrians, 3 Cyclists, 1 Misc, 18.7ms\n",
            "video 1/1 (frame 137/1332) /content/video.mp4: 384x640 5 Cars, 3 Pedestrians, 4 Cyclists, 18.2ms\n",
            "video 1/1 (frame 138/1332) /content/video.mp4: 384x640 5 Cars, 3 Pedestrians, 4 Cyclists, 18.7ms\n",
            "video 1/1 (frame 139/1332) /content/video.mp4: 384x640 5 Cars, 3 Pedestrians, 4 Cyclists, 18.8ms\n",
            "video 1/1 (frame 140/1332) /content/video.mp4: 384x640 5 Cars, 3 Pedestrians, 3 Cyclists, 19.0ms\n",
            "video 1/1 (frame 141/1332) /content/video.mp4: 384x640 5 Cars, 2 Pedestrians, 3 Cyclists, 18.9ms\n",
            "video 1/1 (frame 142/1332) /content/video.mp4: 384x640 5 Cars, 1 Pedestrian, 3 Cyclists, 18.8ms\n",
            "video 1/1 (frame 143/1332) /content/video.mp4: 384x640 5 Cars, 1 Pedestrian, 3 Cyclists, 18.8ms\n",
            "video 1/1 (frame 144/1332) /content/video.mp4: 384x640 5 Cars, 1 Pedestrian, 3 Cyclists, 18.9ms\n",
            "video 1/1 (frame 145/1332) /content/video.mp4: 384x640 5 Cars, 2 Pedestrians, 2 Cyclists, 19.0ms\n",
            "video 1/1 (frame 146/1332) /content/video.mp4: 384x640 5 Cars, 2 Pedestrians, 2 Cyclists, 18.8ms\n",
            "video 1/1 (frame 147/1332) /content/video.mp4: 384x640 5 Cars, 1 Pedestrian, 3 Cyclists, 19.0ms\n",
            "video 1/1 (frame 148/1332) /content/video.mp4: 384x640 5 Cars, 2 Pedestrians, 2 Cyclists, 18.8ms\n",
            "video 1/1 (frame 149/1332) /content/video.mp4: 384x640 5 Cars, 2 Pedestrians, 1 Cyclist, 18.9ms\n",
            "video 1/1 (frame 150/1332) /content/video.mp4: 384x640 5 Cars, 2 Pedestrians, 1 Cyclist, 19.7ms\n",
            "video 1/1 (frame 151/1332) /content/video.mp4: 384x640 5 Cars, 3 Cyclists, 18.8ms\n",
            "video 1/1 (frame 152/1332) /content/video.mp4: 384x640 5 Cars, 1 Pedestrian, 1 Cyclist, 18.9ms\n",
            "video 1/1 (frame 153/1332) /content/video.mp4: 384x640 5 Cars, 1 Pedestrian, 2 Cyclists, 18.8ms\n",
            "video 1/1 (frame 154/1332) /content/video.mp4: 384x640 5 Cars, 1 Pedestrian, 1 Cyclist, 18.9ms\n",
            "video 1/1 (frame 155/1332) /content/video.mp4: 384x640 5 Cars, 1 Pedestrian, 2 Cyclists, 18.8ms\n",
            "video 1/1 (frame 156/1332) /content/video.mp4: 384x640 4 Cars, 1 Pedestrian, 2 Cyclists, 19.1ms\n",
            "video 1/1 (frame 157/1332) /content/video.mp4: 384x640 4 Cars, 1 Pedestrian, 2 Cyclists, 18.5ms\n",
            "video 1/1 (frame 158/1332) /content/video.mp4: 384x640 4 Cars, 1 Cyclist, 18.5ms\n",
            "video 1/1 (frame 159/1332) /content/video.mp4: 384x640 4 Cars, 1 Pedestrian, 2 Cyclists, 18.6ms\n",
            "video 1/1 (frame 160/1332) /content/video.mp4: 384x640 4 Cars, 1 Pedestrian, 2 Cyclists, 18.8ms\n",
            "video 1/1 (frame 161/1332) /content/video.mp4: 384x640 4 Cars, 1 Pedestrian, 18.5ms\n",
            "video 1/1 (frame 162/1332) /content/video.mp4: 384x640 4 Cars, 1 Pedestrian, 1 Cyclist, 18.4ms\n",
            "video 1/1 (frame 163/1332) /content/video.mp4: 384x640 3 Cars, 1 Pedestrian, 1 Cyclist, 21.1ms\n",
            "video 1/1 (frame 164/1332) /content/video.mp4: 384x640 3 Cars, 1 Pedestrian, 21.9ms\n",
            "video 1/1 (frame 165/1332) /content/video.mp4: 384x640 3 Cars, 1 Pedestrian, 1 Cyclist, 23.9ms\n",
            "video 1/1 (frame 166/1332) /content/video.mp4: 384x640 3 Cars, 1 Cyclist, 18.5ms\n",
            "video 1/1 (frame 167/1332) /content/video.mp4: 384x640 3 Cars, 2 Cyclists, 23.3ms\n",
            "video 1/1 (frame 168/1332) /content/video.mp4: 384x640 3 Cars, 1 Pedestrian, 2 Cyclists, 18.6ms\n",
            "video 1/1 (frame 169/1332) /content/video.mp4: 384x640 3 Cars, 1 Pedestrian, 2 Cyclists, 18.6ms\n",
            "video 1/1 (frame 170/1332) /content/video.mp4: 384x640 3 Cars, 2 Pedestrians, 3 Cyclists, 18.7ms\n",
            "video 1/1 (frame 171/1332) /content/video.mp4: 384x640 3 Cars, 2 Pedestrians, 3 Cyclists, 20.6ms\n",
            "video 1/1 (frame 172/1332) /content/video.mp4: 384x640 3 Cars, 1 Pedestrian, 3 Cyclists, 18.5ms\n",
            "video 1/1 (frame 173/1332) /content/video.mp4: 384x640 3 Cars, 2 Pedestrians, 3 Cyclists, 18.5ms\n",
            "video 1/1 (frame 174/1332) /content/video.mp4: 384x640 3 Cars, 2 Pedestrians, 4 Cyclists, 18.5ms\n",
            "video 1/1 (frame 175/1332) /content/video.mp4: 384x640 3 Cars, 2 Pedestrians, 2 Cyclists, 18.5ms\n",
            "video 1/1 (frame 176/1332) /content/video.mp4: 384x640 3 Cars, 2 Pedestrians, 4 Cyclists, 18.5ms\n",
            "video 1/1 (frame 177/1332) /content/video.mp4: 384x640 3 Cars, 2 Pedestrians, 4 Cyclists, 18.5ms\n",
            "video 1/1 (frame 178/1332) /content/video.mp4: 384x640 3 Cars, 2 Pedestrians, 3 Cyclists, 1 Misc, 18.6ms\n",
            "video 1/1 (frame 179/1332) /content/video.mp4: 384x640 3 Cars, 2 Pedestrians, 2 Cyclists, 21.8ms\n",
            "video 1/1 (frame 180/1332) /content/video.mp4: 384x640 3 Cars, 4 Cyclists, 1 Misc, 18.5ms\n",
            "video 1/1 (frame 181/1332) /content/video.mp4: 384x640 3 Cars, 3 Cyclists, 19.6ms\n",
            "video 1/1 (frame 182/1332) /content/video.mp4: 384x640 3 Cars, 3 Cyclists, 20.1ms\n",
            "video 1/1 (frame 183/1332) /content/video.mp4: 384x640 3 Cars, 1 Pedestrian, 2 Cyclists, 22.2ms\n",
            "video 1/1 (frame 184/1332) /content/video.mp4: 384x640 3 Cars, 3 Cyclists, 22.5ms\n",
            "video 1/1 (frame 185/1332) /content/video.mp4: 384x640 3 Cars, 1 Pedestrian, 2 Cyclists, 18.4ms\n",
            "video 1/1 (frame 186/1332) /content/video.mp4: 384x640 3 Cars, 1 Pedestrian, 4 Cyclists, 21.6ms\n",
            "video 1/1 (frame 187/1332) /content/video.mp4: 384x640 3 Cars, 1 Pedestrian, 2 Cyclists, 22.1ms\n",
            "video 1/1 (frame 188/1332) /content/video.mp4: 384x640 3 Cars, 1 Pedestrian, 2 Cyclists, 18.5ms\n",
            "video 1/1 (frame 189/1332) /content/video.mp4: 384x640 3 Cars, 1 Pedestrian, 3 Cyclists, 18.5ms\n",
            "video 1/1 (frame 190/1332) /content/video.mp4: 384x640 3 Cars, 1 Pedestrian, 2 Cyclists, 20.3ms\n",
            "video 1/1 (frame 191/1332) /content/video.mp4: 384x640 3 Cars, 1 Pedestrian, 3 Cyclists, 20.2ms\n",
            "video 1/1 (frame 192/1332) /content/video.mp4: 384x640 3 Cars, 1 Pedestrian, 5 Cyclists, 20.1ms\n",
            "video 1/1 (frame 193/1332) /content/video.mp4: 384x640 3 Cars, 1 Pedestrian, 2 Cyclists, 20.6ms\n",
            "video 1/1 (frame 194/1332) /content/video.mp4: 384x640 3 Cars, 1 Pedestrian, 2 Cyclists, 20.6ms\n",
            "video 1/1 (frame 195/1332) /content/video.mp4: 384x640 3 Cars, 1 Pedestrian, 2 Cyclists, 20.4ms\n",
            "video 1/1 (frame 196/1332) /content/video.mp4: 384x640 3 Cars, 2 Cyclists, 27.8ms\n",
            "video 1/1 (frame 197/1332) /content/video.mp4: 384x640 3 Cars, 1 Pedestrian, 2 Cyclists, 20.8ms\n",
            "video 1/1 (frame 198/1332) /content/video.mp4: 384x640 3 Cars, 1 Pedestrian, 2 Cyclists, 20.4ms\n",
            "video 1/1 (frame 199/1332) /content/video.mp4: 384x640 3 Cars, 1 Pedestrian, 2 Cyclists, 21.0ms\n",
            "video 1/1 (frame 200/1332) /content/video.mp4: 384x640 3 Cars, 1 Pedestrian, 2 Cyclists, 21.3ms\n",
            "video 1/1 (frame 201/1332) /content/video.mp4: 384x640 3 Cars, 1 Pedestrian, 3 Cyclists, 20.9ms\n",
            "video 1/1 (frame 202/1332) /content/video.mp4: 384x640 4 Cars, 2 Cyclists, 20.8ms\n",
            "video 1/1 (frame 203/1332) /content/video.mp4: 384x640 4 Cars, 1 Pedestrian, 2 Cyclists, 1 Misc, 20.8ms\n",
            "video 1/1 (frame 204/1332) /content/video.mp4: 384x640 4 Cars, 3 Cyclists, 20.8ms\n",
            "video 1/1 (frame 205/1332) /content/video.mp4: 384x640 4 Cars, 3 Cyclists, 23.3ms\n",
            "video 1/1 (frame 206/1332) /content/video.mp4: 384x640 4 Cars, 1 Pedestrian, 3 Cyclists, 23.4ms\n",
            "video 1/1 (frame 207/1332) /content/video.mp4: 384x640 4 Cars, 4 Cyclists, 24.3ms\n",
            "video 1/1 (frame 208/1332) /content/video.mp4: 384x640 4 Cars, 4 Cyclists, 25.2ms\n",
            "video 1/1 (frame 209/1332) /content/video.mp4: 384x640 3 Cars, 1 Pedestrian, 4 Cyclists, 25.3ms\n",
            "video 1/1 (frame 210/1332) /content/video.mp4: 384x640 3 Cars, 1 Pedestrian, 4 Cyclists, 23.1ms\n",
            "video 1/1 (frame 211/1332) /content/video.mp4: 384x640 3 Cars, 1 Pedestrian, 4 Cyclists, 24.3ms\n",
            "video 1/1 (frame 212/1332) /content/video.mp4: 384x640 3 Cars, 1 Pedestrian, 4 Cyclists, 22.5ms\n",
            "video 1/1 (frame 213/1332) /content/video.mp4: 384x640 3 Cars, 1 Pedestrian, 3 Cyclists, 24.7ms\n",
            "video 1/1 (frame 214/1332) /content/video.mp4: 384x640 3 Cars, 1 Pedestrian, 4 Cyclists, 1 Misc, 21.4ms\n",
            "video 1/1 (frame 215/1332) /content/video.mp4: 384x640 3 Cars, 1 Pedestrian, 3 Cyclists, 1 Misc, 22.2ms\n",
            "video 1/1 (frame 216/1332) /content/video.mp4: 384x640 3 Cars, 1 Pedestrian, 3 Cyclists, 21.7ms\n",
            "video 1/1 (frame 217/1332) /content/video.mp4: 384x640 3 Cars, 1 Pedestrian, 2 Cyclists, 21.4ms\n",
            "video 1/1 (frame 218/1332) /content/video.mp4: 384x640 3 Cars, 1 Pedestrian, 3 Cyclists, 21.5ms\n",
            "video 1/1 (frame 219/1332) /content/video.mp4: 384x640 3 Cars, 3 Cyclists, 24.0ms\n",
            "video 1/1 (frame 220/1332) /content/video.mp4: 384x640 3 Cars, 1 Pedestrian, 3 Cyclists, 23.5ms\n",
            "video 1/1 (frame 221/1332) /content/video.mp4: 384x640 3 Cars, 1 Pedestrian, 3 Cyclists, 22.5ms\n",
            "video 1/1 (frame 222/1332) /content/video.mp4: 384x640 3 Cars, 1 Pedestrian, 3 Cyclists, 22.6ms\n",
            "video 1/1 (frame 223/1332) /content/video.mp4: 384x640 3 Cars, 1 Pedestrian, 2 Cyclists, 22.5ms\n",
            "video 1/1 (frame 224/1332) /content/video.mp4: 384x640 3 Cars, 2 Pedestrians, 2 Cyclists, 22.5ms\n",
            "video 1/1 (frame 225/1332) /content/video.mp4: 384x640 3 Cars, 1 Pedestrian, 2 Cyclists, 1 Misc, 22.2ms\n",
            "video 1/1 (frame 226/1332) /content/video.mp4: 384x640 3 Cars, 2 Pedestrians, 4 Cyclists, 21.9ms\n",
            "video 1/1 (frame 227/1332) /content/video.mp4: 384x640 3 Cars, 2 Pedestrians, 3 Cyclists, 29.2ms\n",
            "video 1/1 (frame 228/1332) /content/video.mp4: 384x640 3 Cars, 2 Pedestrians, 3 Cyclists, 22.3ms\n",
            "video 1/1 (frame 229/1332) /content/video.mp4: 384x640 3 Cars, 3 Pedestrians, 4 Cyclists, 22.6ms\n",
            "video 1/1 (frame 230/1332) /content/video.mp4: 384x640 3 Cars, 2 Pedestrians, 4 Cyclists, 22.2ms\n",
            "video 1/1 (frame 231/1332) /content/video.mp4: 384x640 2 Cars, 3 Pedestrians, 3 Cyclists, 22.1ms\n",
            "video 1/1 (frame 232/1332) /content/video.mp4: 384x640 2 Cars, 3 Pedestrians, 3 Cyclists, 22.2ms\n",
            "video 1/1 (frame 233/1332) /content/video.mp4: 384x640 2 Cars, 1 Pedestrian, 2 Cyclists, 22.1ms\n",
            "video 1/1 (frame 234/1332) /content/video.mp4: 384x640 2 Cars, 1 Pedestrian, 2 Cyclists, 22.1ms\n",
            "video 1/1 (frame 235/1332) /content/video.mp4: 384x640 2 Cars, 3 Pedestrians, 3 Cyclists, 24.9ms\n",
            "video 1/1 (frame 236/1332) /content/video.mp4: 384x640 2 Cars, 1 Pedestrian, 2 Cyclists, 23.0ms\n",
            "video 1/1 (frame 237/1332) /content/video.mp4: 384x640 2 Cars, 1 Pedestrian, 1 Cyclist, 22.3ms\n",
            "video 1/1 (frame 238/1332) /content/video.mp4: 384x640 2 Cars, 1 Pedestrian, 2 Cyclists, 22.2ms\n",
            "video 1/1 (frame 239/1332) /content/video.mp4: 384x640 2 Cars, 2 Cyclists, 22.1ms\n",
            "video 1/1 (frame 240/1332) /content/video.mp4: 384x640 2 Cars, 2 Cyclists, 21.6ms\n",
            "video 1/1 (frame 241/1332) /content/video.mp4: 384x640 2 Cars, 2 Cyclists, 21.7ms\n",
            "video 1/1 (frame 242/1332) /content/video.mp4: 384x640 2 Cars, 1 Cyclist, 27.4ms\n",
            "video 1/1 (frame 243/1332) /content/video.mp4: 384x640 2 Cars, 1 Pedestrian, 2 Cyclists, 21.5ms\n",
            "video 1/1 (frame 244/1332) /content/video.mp4: 384x640 2 Cars, 3 Cyclists, 23.1ms\n",
            "video 1/1 (frame 245/1332) /content/video.mp4: 384x640 2 Cars, 3 Cyclists, 21.4ms\n",
            "video 1/1 (frame 246/1332) /content/video.mp4: 384x640 2 Cars, 2 Cyclists, 21.5ms\n",
            "video 1/1 (frame 247/1332) /content/video.mp4: 384x640 3 Cars, 1 Pedestrian, 3 Cyclists, 21.4ms\n",
            "video 1/1 (frame 248/1332) /content/video.mp4: 384x640 2 Cars, 1 Pedestrian, 2 Cyclists, 21.4ms\n",
            "video 1/1 (frame 249/1332) /content/video.mp4: 384x640 3 Cars, 1 Misc, 20.4ms\n",
            "video 1/1 (frame 250/1332) /content/video.mp4: 384x640 3 Cars, 1 Misc, 20.4ms\n",
            "video 1/1 (frame 251/1332) /content/video.mp4: 384x640 3 Cars, 1 Pedestrian, 1 Cyclist, 20.1ms\n",
            "video 1/1 (frame 252/1332) /content/video.mp4: 384x640 5 Cars, 1 Pedestrian, 1 Cyclist, 3 Miscs, 20.6ms\n",
            "video 1/1 (frame 253/1332) /content/video.mp4: 384x640 5 Cars, 2 Pedestrians, 1 Cyclist, 20.4ms\n",
            "video 1/1 (frame 254/1332) /content/video.mp4: 384x640 5 Cars, 3 Pedestrians, 1 Cyclist, 1 Misc, 20.6ms\n",
            "video 1/1 (frame 255/1332) /content/video.mp4: 384x640 5 Cars, 3 Pedestrians, 1 Cyclist, 20.5ms\n",
            "video 1/1 (frame 256/1332) /content/video.mp4: 384x640 5 Cars, 3 Pedestrians, 1 Cyclist, 25.0ms\n",
            "video 1/1 (frame 257/1332) /content/video.mp4: 384x640 5 Cars, 3 Pedestrians, 1 Cyclist, 21.5ms\n",
            "video 1/1 (frame 258/1332) /content/video.mp4: 384x640 7 Cars, 3 Pedestrians, 1 Cyclist, 2 Miscs, 20.2ms\n",
            "video 1/1 (frame 259/1332) /content/video.mp4: 384x640 5 Cars, 2 Pedestrians, 1 Cyclist, 21.5ms\n",
            "video 1/1 (frame 260/1332) /content/video.mp4: 384x640 5 Cars, 2 Pedestrians, 1 Cyclist, 26.4ms\n",
            "video 1/1 (frame 261/1332) /content/video.mp4: 384x640 5 Cars, 2 Pedestrians, 1 Cyclist, 20.2ms\n",
            "video 1/1 (frame 262/1332) /content/video.mp4: 384x640 6 Cars, 3 Pedestrians, 1 Cyclist, 20.4ms\n",
            "video 1/1 (frame 263/1332) /content/video.mp4: 384x640 5 Cars, 1 Pedestrian, 1 Cyclist, 20.3ms\n",
            "video 1/1 (frame 264/1332) /content/video.mp4: 384x640 4 Cars, 2 Pedestrians, 20.4ms\n",
            "video 1/1 (frame 265/1332) /content/video.mp4: 384x640 4 Cars, 2 Pedestrians, 20.4ms\n",
            "video 1/1 (frame 266/1332) /content/video.mp4: 384x640 3 Cars, 2 Pedestrians, 20.4ms\n",
            "video 1/1 (frame 267/1332) /content/video.mp4: 384x640 4 Cars, 2 Pedestrians, 20.4ms\n",
            "video 1/1 (frame 268/1332) /content/video.mp4: 384x640 5 Cars, 3 Pedestrians, 20.4ms\n",
            "video 1/1 (frame 269/1332) /content/video.mp4: 384x640 5 Cars, 3 Pedestrians, 22.5ms\n",
            "video 1/1 (frame 270/1332) /content/video.mp4: 384x640 5 Cars, 2 Pedestrians, 21.7ms\n",
            "video 1/1 (frame 271/1332) /content/video.mp4: 384x640 5 Cars, 2 Pedestrians, 1 Cyclist, 21.0ms\n",
            "video 1/1 (frame 272/1332) /content/video.mp4: 384x640 5 Cars, 2 Pedestrians, 1 Cyclist, 25.3ms\n",
            "video 1/1 (frame 273/1332) /content/video.mp4: 384x640 5 Cars, 2 Pedestrians, 1 Cyclist, 20.2ms\n",
            "video 1/1 (frame 274/1332) /content/video.mp4: 384x640 5 Cars, 1 Cyclist, 20.3ms\n",
            "video 1/1 (frame 275/1332) /content/video.mp4: 384x640 5 Cars, 1 Cyclist, 20.3ms\n",
            "video 1/1 (frame 276/1332) /content/video.mp4: 384x640 4 Cars, 1 Pedestrian, 1 Cyclist, 20.4ms\n",
            "video 1/1 (frame 277/1332) /content/video.mp4: 384x640 3 Cars, 1 Pedestrian, 1 Cyclist, 20.6ms\n",
            "video 1/1 (frame 278/1332) /content/video.mp4: 384x640 3 Cars, 1 Cyclist, 20.2ms\n",
            "video 1/1 (frame 279/1332) /content/video.mp4: 384x640 3 Cars, 1 Cyclist, 20.1ms\n",
            "video 1/1 (frame 280/1332) /content/video.mp4: 384x640 4 Cars, 1 Cyclist, 20.1ms\n",
            "video 1/1 (frame 281/1332) /content/video.mp4: 384x640 3 Cars, 2 Pedestrians, 2 Cyclists, 20.2ms\n",
            "video 1/1 (frame 282/1332) /content/video.mp4: 384x640 3 Cars, 1 Pedestrian, 1 Cyclist, 20.2ms\n",
            "video 1/1 (frame 283/1332) /content/video.mp4: 384x640 3 Cars, 1 Pedestrian, 1 Cyclist, 20.0ms\n",
            "video 1/1 (frame 284/1332) /content/video.mp4: 384x640 3 Cars, 1 Pedestrian, 1 Cyclist, 20.3ms\n",
            "video 1/1 (frame 285/1332) /content/video.mp4: 384x640 3 Cars, 1 Pedestrian, 1 Cyclist, 20.7ms\n",
            "video 1/1 (frame 286/1332) /content/video.mp4: 384x640 3 Cars, 2 Pedestrians, 1 Cyclist, 19.5ms\n",
            "video 1/1 (frame 287/1332) /content/video.mp4: 384x640 3 Cars, 2 Pedestrians, 18.6ms\n",
            "video 1/1 (frame 288/1332) /content/video.mp4: 384x640 3 Cars, 1 Pedestrian, 18.8ms\n",
            "video 1/1 (frame 289/1332) /content/video.mp4: 384x640 3 Cars, 2 Pedestrians, 18.6ms\n",
            "video 1/1 (frame 290/1332) /content/video.mp4: 384x640 3 Cars, 1 Pedestrian, 19.1ms\n",
            "video 1/1 (frame 291/1332) /content/video.mp4: 384x640 3 Cars, 1 Pedestrian, 2 Cyclists, 18.7ms\n",
            "video 1/1 (frame 292/1332) /content/video.mp4: 384x640 3 Cars, 1 Pedestrian, 1 Cyclist, 18.7ms\n",
            "video 1/1 (frame 293/1332) /content/video.mp4: 384x640 3 Cars, 1 Pedestrian, 1 Cyclist, 18.9ms\n",
            "video 1/1 (frame 294/1332) /content/video.mp4: 384x640 3 Cars, 1 Pedestrian, 2 Cyclists, 19.0ms\n",
            "video 1/1 (frame 295/1332) /content/video.mp4: 384x640 3 Cars, 1 Pedestrian, 3 Cyclists, 18.7ms\n",
            "video 1/1 (frame 296/1332) /content/video.mp4: 384x640 3 Cars, 1 Pedestrian, 3 Cyclists, 19.0ms\n",
            "video 1/1 (frame 297/1332) /content/video.mp4: 384x640 4 Cars, 1 Pedestrian, 3 Cyclists, 18.8ms\n",
            "video 1/1 (frame 298/1332) /content/video.mp4: 384x640 3 Cars, 1 Pedestrian, 1 Cyclist, 20.3ms\n",
            "video 1/1 (frame 299/1332) /content/video.mp4: 384x640 2 Cars, 2 Cyclists, 19.3ms\n",
            "video 1/1 (frame 300/1332) /content/video.mp4: 384x640 2 Cars, 1 Pedestrian, 2 Cyclists, 18.7ms\n",
            "video 1/1 (frame 301/1332) /content/video.mp4: 384x640 2 Cars, 1 Pedestrian, 2 Cyclists, 18.7ms\n",
            "video 1/1 (frame 302/1332) /content/video.mp4: 384x640 3 Cars, 2 Cyclists, 19.0ms\n",
            "video 1/1 (frame 303/1332) /content/video.mp4: 384x640 3 Cars, 1 Pedestrian, 2 Cyclists, 20.9ms\n",
            "video 1/1 (frame 304/1332) /content/video.mp4: 384x640 3 Cars, 1 Cyclist, 18.6ms\n",
            "video 1/1 (frame 305/1332) /content/video.mp4: 384x640 2 Cars, 1 Pedestrian, 2 Cyclists, 18.3ms\n",
            "video 1/1 (frame 306/1332) /content/video.mp4: 384x640 3 Cars, 2 Cyclists, 17.9ms\n",
            "video 1/1 (frame 307/1332) /content/video.mp4: 384x640 3 Cars, 2 Cyclists, 18.3ms\n",
            "video 1/1 (frame 308/1332) /content/video.mp4: 384x640 3 Cars, 2 Cyclists, 18.8ms\n",
            "video 1/1 (frame 309/1332) /content/video.mp4: 384x640 3 Cars, 1 Pedestrian, 2 Cyclists, 18.8ms\n",
            "video 1/1 (frame 310/1332) /content/video.mp4: 384x640 2 Cars, 3 Cyclists, 18.2ms\n",
            "video 1/1 (frame 311/1332) /content/video.mp4: 384x640 2 Cars, 2 Cyclists, 18.6ms\n",
            "video 1/1 (frame 312/1332) /content/video.mp4: 384x640 2 Cars, 2 Cyclists, 22.7ms\n",
            "video 1/1 (frame 313/1332) /content/video.mp4: 384x640 2 Cars, 2 Cyclists, 18.8ms\n",
            "video 1/1 (frame 314/1332) /content/video.mp4: 384x640 2 Cars, 2 Cyclists, 18.0ms\n",
            "video 1/1 (frame 315/1332) /content/video.mp4: 384x640 2 Cars, 2 Cyclists, 17.9ms\n",
            "video 1/1 (frame 316/1332) /content/video.mp4: 384x640 2 Cars, 2 Cyclists, 19.4ms\n",
            "video 1/1 (frame 317/1332) /content/video.mp4: 384x640 2 Cars, 1 Pedestrian, 2 Cyclists, 1 Misc, 18.9ms\n",
            "video 1/1 (frame 318/1332) /content/video.mp4: 384x640 2 Cars, 1 Pedestrian, 2 Cyclists, 18.4ms\n",
            "video 1/1 (frame 319/1332) /content/video.mp4: 384x640 2 Cars, 1 Pedestrian, 2 Cyclists, 19.0ms\n",
            "video 1/1 (frame 320/1332) /content/video.mp4: 384x640 2 Cars, 1 Pedestrian, 3 Cyclists, 18.6ms\n",
            "video 1/1 (frame 321/1332) /content/video.mp4: 384x640 2 Cars, 1 Pedestrian, 4 Cyclists, 18.7ms\n",
            "video 1/1 (frame 322/1332) /content/video.mp4: 384x640 2 Cars, 1 Pedestrian, 3 Cyclists, 18.0ms\n",
            "video 1/1 (frame 323/1332) /content/video.mp4: 384x640 2 Cars, 1 Pedestrian, 3 Cyclists, 18.4ms\n",
            "video 1/1 (frame 324/1332) /content/video.mp4: 384x640 2 Cars, 1 Pedestrian, 3 Cyclists, 18.7ms\n",
            "video 1/1 (frame 325/1332) /content/video.mp4: 384x640 3 Cars, 1 Pedestrian, 4 Cyclists, 18.8ms\n",
            "video 1/1 (frame 326/1332) /content/video.mp4: 384x640 3 Cars, 2 Pedestrians, 4 Cyclists, 18.2ms\n",
            "video 1/1 (frame 327/1332) /content/video.mp4: 384x640 2 Cars, 1 Pedestrian, 6 Cyclists, 18.1ms\n",
            "video 1/1 (frame 328/1332) /content/video.mp4: 384x640 2 Cars, 1 Pedestrian, 6 Cyclists, 19.0ms\n",
            "video 1/1 (frame 329/1332) /content/video.mp4: 384x640 2 Cars, 1 Cyclist, 18.3ms\n",
            "video 1/1 (frame 330/1332) /content/video.mp4: 384x640 2 Cars, 1 Cyclist, 18.2ms\n",
            "video 1/1 (frame 331/1332) /content/video.mp4: 384x640 2 Cars, 20.0ms\n",
            "video 1/1 (frame 332/1332) /content/video.mp4: 384x640 2 Cars, 1 Cyclist, 17.8ms\n",
            "video 1/1 (frame 333/1332) /content/video.mp4: 384x640 2 Cars, 18.1ms\n",
            "video 1/1 (frame 334/1332) /content/video.mp4: 384x640 2 Cars, 1 Van, 1 Cyclist, 18.9ms\n",
            "video 1/1 (frame 335/1332) /content/video.mp4: 384x640 2 Cars, 1 Van, 1 Cyclist, 21.8ms\n",
            "video 1/1 (frame 336/1332) /content/video.mp4: 384x640 2 Cars, 1 Van, 1 Cyclist, 18.6ms\n",
            "video 1/1 (frame 337/1332) /content/video.mp4: 384x640 1 Car, 1 Van, 1 Cyclist, 18.9ms\n",
            "video 1/1 (frame 338/1332) /content/video.mp4: 384x640 1 Car, 1 Van, 1 Cyclist, 19.1ms\n",
            "video 1/1 (frame 339/1332) /content/video.mp4: 384x640 1 Car, 1 Cyclist, 18.6ms\n",
            "video 1/1 (frame 340/1332) /content/video.mp4: 384x640 1 Car, 1 Cyclist, 18.6ms\n",
            "video 1/1 (frame 341/1332) /content/video.mp4: 384x640 1 Car, 1 Cyclist, 1 Misc, 18.5ms\n",
            "video 1/1 (frame 342/1332) /content/video.mp4: 384x640 1 Car, 1 Cyclist, 18.1ms\n",
            "video 1/1 (frame 343/1332) /content/video.mp4: 384x640 1 Car, 1 Cyclist, 19.0ms\n",
            "video 1/1 (frame 344/1332) /content/video.mp4: 384x640 1 Car, 1 Cyclist, 19.0ms\n",
            "video 1/1 (frame 345/1332) /content/video.mp4: 384x640 1 Car, 1 Cyclist, 18.9ms\n",
            "video 1/1 (frame 346/1332) /content/video.mp4: 384x640 1 Car, 1 Cyclist, 19.0ms\n",
            "video 1/1 (frame 347/1332) /content/video.mp4: 384x640 1 Car, 1 Cyclist, 18.8ms\n",
            "video 1/1 (frame 348/1332) /content/video.mp4: 384x640 1 Car, 1 Cyclist, 18.5ms\n",
            "video 1/1 (frame 349/1332) /content/video.mp4: 384x640 2 Cars, 1 Cyclist, 18.5ms\n",
            "video 1/1 (frame 350/1332) /content/video.mp4: 384x640 1 Car, 1 Cyclist, 19.8ms\n",
            "video 1/1 (frame 351/1332) /content/video.mp4: 384x640 2 Cars, 1 Cyclist, 1 Misc, 18.5ms\n",
            "video 1/1 (frame 352/1332) /content/video.mp4: 384x640 2 Cars, 1 Cyclist, 1 Misc, 18.5ms\n",
            "video 1/1 (frame 353/1332) /content/video.mp4: 384x640 2 Cars, 1 Cyclist, 1 Misc, 18.2ms\n",
            "video 1/1 (frame 354/1332) /content/video.mp4: 384x640 1 Car, 1 Cyclist, 1 Misc, 18.2ms\n",
            "video 1/1 (frame 355/1332) /content/video.mp4: 384x640 1 Cyclist, 1 Misc, 18.8ms\n",
            "video 1/1 (frame 356/1332) /content/video.mp4: 384x640 1 Car, 1 Cyclist, 1 Misc, 19.0ms\n",
            "video 1/1 (frame 357/1332) /content/video.mp4: 384x640 1 Van, 1 Cyclist, 19.0ms\n",
            "video 1/1 (frame 358/1332) /content/video.mp4: 384x640 1 Car, 1 Van, 1 Cyclist, 19.0ms\n",
            "video 1/1 (frame 359/1332) /content/video.mp4: 384x640 1 Car, 1 Van, 18.8ms\n",
            "video 1/1 (frame 360/1332) /content/video.mp4: 384x640 1 Car, 1 Van, 19.3ms\n",
            "video 1/1 (frame 361/1332) /content/video.mp4: 384x640 1 Van, 19.7ms\n",
            "video 1/1 (frame 362/1332) /content/video.mp4: 384x640 1 Van, 18.5ms\n",
            "video 1/1 (frame 363/1332) /content/video.mp4: 384x640 1 Van, 18.9ms\n",
            "video 1/1 (frame 364/1332) /content/video.mp4: 384x640 1 Car, 1 Van, 18.5ms\n",
            "video 1/1 (frame 365/1332) /content/video.mp4: 384x640 1 Car, 1 Van, 1 Misc, 18.5ms\n",
            "video 1/1 (frame 366/1332) /content/video.mp4: 384x640 1 Car, 1 Van, 1 Misc, 23.4ms\n",
            "video 1/1 (frame 367/1332) /content/video.mp4: 384x640 1 Car, 1 Misc, 18.5ms\n",
            "video 1/1 (frame 368/1332) /content/video.mp4: 384x640 1 Car, 2 Miscs, 18.7ms\n",
            "video 1/1 (frame 369/1332) /content/video.mp4: 384x640 1 Car, 1 Van, 2 Miscs, 18.6ms\n",
            "video 1/1 (frame 370/1332) /content/video.mp4: 384x640 2 Cars, 2 Miscs, 18.5ms\n",
            "video 1/1 (frame 371/1332) /content/video.mp4: 384x640 3 Cars, 2 Miscs, 18.1ms\n",
            "video 1/1 (frame 372/1332) /content/video.mp4: 384x640 2 Cars, 2 Miscs, 18.2ms\n",
            "video 1/1 (frame 373/1332) /content/video.mp4: 384x640 2 Cars, 2 Miscs, 18.7ms\n",
            "video 1/1 (frame 374/1332) /content/video.mp4: 384x640 2 Cars, 2 Miscs, 18.7ms\n",
            "video 1/1 (frame 375/1332) /content/video.mp4: 384x640 2 Cars, 2 Miscs, 18.9ms\n",
            "video 1/1 (frame 376/1332) /content/video.mp4: 384x640 2 Cars, 2 Miscs, 18.9ms\n",
            "video 1/1 (frame 377/1332) /content/video.mp4: 384x640 2 Cars, 2 Miscs, 18.5ms\n",
            "video 1/1 (frame 378/1332) /content/video.mp4: 384x640 2 Cars, 2 Miscs, 18.1ms\n",
            "video 1/1 (frame 379/1332) /content/video.mp4: 384x640 2 Cars, 1 Misc, 18.3ms\n",
            "video 1/1 (frame 380/1332) /content/video.mp4: 384x640 2 Cars, 1 Misc, 18.5ms\n",
            "video 1/1 (frame 381/1332) /content/video.mp4: 384x640 2 Cars, 1 Misc, 18.5ms\n",
            "video 1/1 (frame 382/1332) /content/video.mp4: 384x640 2 Cars, 1 Misc, 20.5ms\n",
            "video 1/1 (frame 383/1332) /content/video.mp4: 384x640 3 Cars, 1 Misc, 23.5ms\n",
            "video 1/1 (frame 384/1332) /content/video.mp4: 384x640 3 Cars, 1 Misc, 18.2ms\n",
            "video 1/1 (frame 385/1332) /content/video.mp4: 384x640 4 Cars, 1 Misc, 18.5ms\n",
            "video 1/1 (frame 386/1332) /content/video.mp4: 384x640 4 Cars, 1 Misc, 19.3ms\n",
            "video 1/1 (frame 387/1332) /content/video.mp4: 384x640 4 Cars, 1 Misc, 20.1ms\n",
            "video 1/1 (frame 388/1332) /content/video.mp4: 384x640 2 Cars, 1 Misc, 19.0ms\n",
            "video 1/1 (frame 389/1332) /content/video.mp4: 384x640 2 Cars, 1 Misc, 19.1ms\n",
            "video 1/1 (frame 390/1332) /content/video.mp4: 384x640 2 Cars, 1 Misc, 19.4ms\n",
            "video 1/1 (frame 391/1332) /content/video.mp4: 384x640 2 Cars, 1 Misc, 18.6ms\n",
            "video 1/1 (frame 392/1332) /content/video.mp4: 384x640 2 Cars, 1 Misc, 19.9ms\n",
            "video 1/1 (frame 393/1332) /content/video.mp4: 384x640 2 Cars, 1 Misc, 18.5ms\n",
            "video 1/1 (frame 394/1332) /content/video.mp4: 384x640 2 Cars, 1 Misc, 18.6ms\n",
            "video 1/1 (frame 395/1332) /content/video.mp4: 384x640 2 Cars, 1 Misc, 18.6ms\n",
            "video 1/1 (frame 396/1332) /content/video.mp4: 384x640 2 Cars, 1 Misc, 19.0ms\n",
            "video 1/1 (frame 397/1332) /content/video.mp4: 384x640 2 Cars, 1 Misc, 18.2ms\n",
            "video 1/1 (frame 398/1332) /content/video.mp4: 384x640 2 Cars, 1 Misc, 18.8ms\n",
            "video 1/1 (frame 399/1332) /content/video.mp4: 384x640 2 Cars, 1 Misc, 19.0ms\n",
            "video 1/1 (frame 400/1332) /content/video.mp4: 384x640 2 Cars, 1 Misc, 19.7ms\n",
            "video 1/1 (frame 401/1332) /content/video.mp4: 384x640 2 Cars, 1 Misc, 19.0ms\n",
            "video 1/1 (frame 402/1332) /content/video.mp4: 384x640 2 Cars, 1 Misc, 18.8ms\n",
            "video 1/1 (frame 403/1332) /content/video.mp4: 384x640 2 Cars, 1 Misc, 19.1ms\n",
            "video 1/1 (frame 404/1332) /content/video.mp4: 384x640 2 Cars, 1 Misc, 18.8ms\n",
            "video 1/1 (frame 405/1332) /content/video.mp4: 384x640 2 Cars, 1 Misc, 18.8ms\n",
            "video 1/1 (frame 406/1332) /content/video.mp4: 384x640 2 Cars, 1 Misc, 18.5ms\n",
            "video 1/1 (frame 407/1332) /content/video.mp4: 384x640 2 Cars, 1 Misc, 20.9ms\n",
            "video 1/1 (frame 408/1332) /content/video.mp4: 384x640 2 Cars, 1 Misc, 18.1ms\n",
            "video 1/1 (frame 409/1332) /content/video.mp4: 384x640 2 Cars, 1 Misc, 19.6ms\n",
            "video 1/1 (frame 410/1332) /content/video.mp4: 384x640 2 Cars, 1 Misc, 19.1ms\n",
            "video 1/1 (frame 411/1332) /content/video.mp4: 384x640 2 Cars, 1 Misc, 18.8ms\n",
            "video 1/1 (frame 412/1332) /content/video.mp4: 384x640 3 Cars, 1 Misc, 18.0ms\n",
            "video 1/1 (frame 413/1332) /content/video.mp4: 384x640 3 Cars, 1 Misc, 20.9ms\n",
            "video 1/1 (frame 414/1332) /content/video.mp4: 384x640 3 Cars, 1 Misc, 19.0ms\n",
            "video 1/1 (frame 415/1332) /content/video.mp4: 384x640 3 Cars, 1 Misc, 19.2ms\n",
            "video 1/1 (frame 416/1332) /content/video.mp4: 384x640 3 Cars, 1 Misc, 19.1ms\n",
            "video 1/1 (frame 417/1332) /content/video.mp4: 384x640 3 Cars, 1 Misc, 19.1ms\n",
            "video 1/1 (frame 418/1332) /content/video.mp4: 384x640 3 Cars, 1 Misc, 18.9ms\n",
            "video 1/1 (frame 419/1332) /content/video.mp4: 384x640 3 Cars, 1 Misc, 18.6ms\n",
            "video 1/1 (frame 420/1332) /content/video.mp4: 384x640 3 Cars, 1 Misc, 18.2ms\n",
            "video 1/1 (frame 421/1332) /content/video.mp4: 384x640 3 Cars, 1 Misc, 18.1ms\n",
            "video 1/1 (frame 422/1332) /content/video.mp4: 384x640 3 Cars, 1 Misc, 18.4ms\n",
            "video 1/1 (frame 423/1332) /content/video.mp4: 384x640 4 Cars, 1 Misc, 19.0ms\n",
            "video 1/1 (frame 424/1332) /content/video.mp4: 384x640 3 Cars, 1 Cyclist, 1 Misc, 18.8ms\n",
            "video 1/1 (frame 425/1332) /content/video.mp4: 384x640 3 Cars, 1 Cyclist, 1 Misc, 18.3ms\n",
            "video 1/1 (frame 426/1332) /content/video.mp4: 384x640 3 Cars, 1 Cyclist, 1 Misc, 17.9ms\n",
            "video 1/1 (frame 427/1332) /content/video.mp4: 384x640 3 Cars, 1 Cyclist, 1 Misc, 18.5ms\n",
            "video 1/1 (frame 428/1332) /content/video.mp4: 384x640 4 Cars, 1 Cyclist, 1 Misc, 19.2ms\n",
            "video 1/1 (frame 429/1332) /content/video.mp4: 384x640 3 Cars, 1 Misc, 18.7ms\n",
            "video 1/1 (frame 430/1332) /content/video.mp4: 384x640 3 Cars, 1 Van, 1 Misc, 18.2ms\n",
            "video 1/1 (frame 431/1332) /content/video.mp4: 384x640 3 Cars, 1 Misc, 18.2ms\n",
            "video 1/1 (frame 432/1332) /content/video.mp4: 384x640 3 Cars, 1 Misc, 19.1ms\n",
            "video 1/1 (frame 433/1332) /content/video.mp4: 384x640 2 Cars, 1 Misc, 19.7ms\n",
            "video 1/1 (frame 434/1332) /content/video.mp4: 384x640 3 Cars, 1 Misc, 18.1ms\n",
            "video 1/1 (frame 435/1332) /content/video.mp4: 384x640 2 Cars, 1 Misc, 18.9ms\n",
            "video 1/1 (frame 436/1332) /content/video.mp4: 384x640 2 Cars, 1 Misc, 18.9ms\n",
            "video 1/1 (frame 437/1332) /content/video.mp4: 384x640 2 Cars, 2 Miscs, 20.5ms\n",
            "video 1/1 (frame 438/1332) /content/video.mp4: 384x640 2 Cars, 2 Miscs, 18.7ms\n",
            "video 1/1 (frame 439/1332) /content/video.mp4: 384x640 2 Cars, 2 Miscs, 18.5ms\n",
            "video 1/1 (frame 440/1332) /content/video.mp4: 384x640 2 Cars, 2 Miscs, 18.2ms\n",
            "video 1/1 (frame 441/1332) /content/video.mp4: 384x640 3 Cars, 1 Misc, 18.7ms\n",
            "video 1/1 (frame 442/1332) /content/video.mp4: 384x640 3 Cars, 1 Misc, 18.7ms\n",
            "video 1/1 (frame 443/1332) /content/video.mp4: 384x640 3 Cars, 1 Misc, 18.6ms\n",
            "video 1/1 (frame 444/1332) /content/video.mp4: 384x640 3 Cars, 1 Misc, 18.8ms\n",
            "video 1/1 (frame 445/1332) /content/video.mp4: 384x640 2 Cars, 1 Misc, 18.7ms\n",
            "video 1/1 (frame 446/1332) /content/video.mp4: 384x640 2 Cars, 2 Miscs, 18.9ms\n",
            "video 1/1 (frame 447/1332) /content/video.mp4: 384x640 2 Cars, 1 Misc, 19.2ms\n",
            "video 1/1 (frame 448/1332) /content/video.mp4: 384x640 2 Cars, 1 Misc, 18.5ms\n",
            "video 1/1 (frame 449/1332) /content/video.mp4: 384x640 2 Cars, 2 Miscs, 18.2ms\n",
            "video 1/1 (frame 450/1332) /content/video.mp4: 384x640 2 Cars, 1 Cyclist, 1 Misc, 18.5ms\n",
            "video 1/1 (frame 451/1332) /content/video.mp4: 384x640 2 Cars, 1 Misc, 19.0ms\n",
            "video 1/1 (frame 452/1332) /content/video.mp4: 384x640 2 Cars, 1 Misc, 19.1ms\n",
            "video 1/1 (frame 453/1332) /content/video.mp4: 384x640 2 Cars, 2 Miscs, 18.8ms\n",
            "video 1/1 (frame 454/1332) /content/video.mp4: 384x640 2 Cars, 1 Misc, 18.1ms\n",
            "video 1/1 (frame 455/1332) /content/video.mp4: 384x640 2 Cars, 2 Miscs, 18.7ms\n",
            "video 1/1 (frame 456/1332) /content/video.mp4: 384x640 2 Cars, 2 Miscs, 18.3ms\n",
            "video 1/1 (frame 457/1332) /content/video.mp4: 384x640 2 Cars, 2 Miscs, 18.6ms\n",
            "video 1/1 (frame 458/1332) /content/video.mp4: 384x640 3 Cars, 2 Miscs, 19.1ms\n",
            "video 1/1 (frame 459/1332) /content/video.mp4: 384x640 3 Cars, 2 Miscs, 18.3ms\n",
            "video 1/1 (frame 460/1332) /content/video.mp4: 384x640 1 Car, 1 Misc, 18.3ms\n",
            "video 1/1 (frame 461/1332) /content/video.mp4: 384x640 1 Car, 2 Miscs, 18.7ms\n",
            "video 1/1 (frame 462/1332) /content/video.mp4: 384x640 1 Car, 1 Cyclist, 2 Miscs, 19.0ms\n",
            "video 1/1 (frame 463/1332) /content/video.mp4: 384x640 1 Car, 1 Misc, 18.8ms\n",
            "video 1/1 (frame 464/1332) /content/video.mp4: 384x640 2 Cars, 1 Misc, 19.3ms\n",
            "video 1/1 (frame 465/1332) /content/video.mp4: 384x640 2 Cars, 19.0ms\n",
            "video 1/1 (frame 466/1332) /content/video.mp4: 384x640 2 Cars, 19.1ms\n",
            "video 1/1 (frame 467/1332) /content/video.mp4: 384x640 1 Car, 1 Cyclist, 1 Misc, 18.9ms\n",
            "video 1/1 (frame 468/1332) /content/video.mp4: 384x640 2 Cars, 1 Cyclist, 1 Misc, 19.1ms\n",
            "video 1/1 (frame 469/1332) /content/video.mp4: 384x640 1 Car, 1 Cyclist, 1 Misc, 18.9ms\n",
            "video 1/1 (frame 470/1332) /content/video.mp4: 384x640 3 Cars, 18.8ms\n",
            "video 1/1 (frame 471/1332) /content/video.mp4: 384x640 3 Cars, 18.4ms\n",
            "video 1/1 (frame 472/1332) /content/video.mp4: 384x640 2 Cars, 1 Misc, 18.3ms\n",
            "video 1/1 (frame 473/1332) /content/video.mp4: 384x640 2 Cars, 1 Van, 1 Misc, 18.6ms\n",
            "video 1/1 (frame 474/1332) /content/video.mp4: 384x640 2 Cars, 1 Misc, 18.8ms\n",
            "video 1/1 (frame 475/1332) /content/video.mp4: 384x640 2 Cars, 1 Misc, 18.5ms\n",
            "video 1/1 (frame 476/1332) /content/video.mp4: 384x640 1 Car, 6 Pedestrians, 3 Cyclists, 18.5ms\n",
            "video 1/1 (frame 477/1332) /content/video.mp4: 384x640 1 Car, 6 Pedestrians, 3 Cyclists, 19.2ms\n",
            "video 1/1 (frame 478/1332) /content/video.mp4: 384x640 1 Car, 4 Pedestrians, 1 Cyclist, 18.0ms\n",
            "video 1/1 (frame 479/1332) /content/video.mp4: 384x640 1 Car, 5 Pedestrians, 2 Cyclists, 19.1ms\n",
            "video 1/1 (frame 480/1332) /content/video.mp4: 384x640 1 Car, 5 Pedestrians, 1 Cyclist, 19.2ms\n",
            "video 1/1 (frame 481/1332) /content/video.mp4: 384x640 1 Car, 2 Pedestrians, 1 Cyclist, 18.9ms\n",
            "video 1/1 (frame 482/1332) /content/video.mp4: 384x640 1 Car, 2 Pedestrians, 2 Cyclists, 18.9ms\n",
            "video 1/1 (frame 483/1332) /content/video.mp4: 384x640 1 Car, 2 Pedestrians, 1 Cyclist, 20.3ms\n",
            "video 1/1 (frame 484/1332) /content/video.mp4: 384x640 1 Car, 2 Pedestrians, 1 Cyclist, 19.0ms\n",
            "video 1/1 (frame 485/1332) /content/video.mp4: 384x640 1 Car, 1 Pedestrian, 19.0ms\n",
            "video 1/1 (frame 486/1332) /content/video.mp4: 384x640 1 Car, 1 Pedestrian, 2 Cyclists, 18.9ms\n",
            "video 1/1 (frame 487/1332) /content/video.mp4: 384x640 1 Car, 1 Pedestrian, 2 Cyclists, 18.8ms\n",
            "video 1/1 (frame 488/1332) /content/video.mp4: 384x640 1 Car, 1 Pedestrian, 2 Cyclists, 19.0ms\n",
            "video 1/1 (frame 489/1332) /content/video.mp4: 384x640 1 Car, 3 Pedestrians, 3 Cyclists, 19.1ms\n",
            "video 1/1 (frame 490/1332) /content/video.mp4: 384x640 1 Car, 3 Pedestrians, 2 Cyclists, 19.1ms\n",
            "video 1/1 (frame 491/1332) /content/video.mp4: 384x640 1 Car, 1 Pedestrian, 1 Cyclist, 18.9ms\n",
            "video 1/1 (frame 492/1332) /content/video.mp4: 384x640 1 Car, 1 Pedestrian, 19.1ms\n",
            "video 1/1 (frame 493/1332) /content/video.mp4: 384x640 1 Car, 3 Pedestrians, 19.2ms\n",
            "video 1/1 (frame 494/1332) /content/video.mp4: 384x640 1 Car, 3 Pedestrians, 18.8ms\n",
            "video 1/1 (frame 495/1332) /content/video.mp4: 384x640 1 Car, 4 Pedestrians, 2 Cyclists, 19.1ms\n",
            "video 1/1 (frame 496/1332) /content/video.mp4: 384x640 1 Car, 4 Pedestrians, 2 Cyclists, 19.1ms\n",
            "video 1/1 (frame 497/1332) /content/video.mp4: 384x640 1 Car, 2 Pedestrians, 3 Cyclists, 19.1ms\n",
            "video 1/1 (frame 498/1332) /content/video.mp4: 384x640 1 Car, 4 Pedestrians, 3 Cyclists, 18.8ms\n",
            "video 1/1 (frame 499/1332) /content/video.mp4: 384x640 1 Car, 4 Pedestrians, 3 Cyclists, 23.2ms\n",
            "video 1/1 (frame 500/1332) /content/video.mp4: 384x640 1 Car, 3 Pedestrians, 4 Cyclists, 30.5ms\n",
            "video 1/1 (frame 501/1332) /content/video.mp4: 384x640 1 Car, 3 Pedestrians, 3 Cyclists, 22.7ms\n",
            "video 1/1 (frame 502/1332) /content/video.mp4: 384x640 1 Car, 2 Pedestrians, 5 Cyclists, 25.0ms\n",
            "video 1/1 (frame 503/1332) /content/video.mp4: 384x640 1 Car, 2 Pedestrians, 5 Cyclists, 18.0ms\n",
            "video 1/1 (frame 504/1332) /content/video.mp4: 384x640 1 Car, 3 Pedestrians, 5 Cyclists, 21.2ms\n",
            "video 1/1 (frame 505/1332) /content/video.mp4: 384x640 1 Car, 3 Pedestrians, 5 Cyclists, 22.9ms\n",
            "video 1/1 (frame 506/1332) /content/video.mp4: 384x640 1 Car, 4 Pedestrians, 2 Cyclists, 18.9ms\n",
            "video 1/1 (frame 507/1332) /content/video.mp4: 384x640 1 Car, 2 Pedestrians, 1 Cyclist, 27.0ms\n",
            "video 1/1 (frame 508/1332) /content/video.mp4: 384x640 1 Car, 2 Pedestrians, 1 Cyclist, 1 Truck, 17.8ms\n",
            "video 1/1 (frame 509/1332) /content/video.mp4: 384x640 1 Car, 2 Pedestrians, 1 Cyclist, 18.5ms\n",
            "video 1/1 (frame 510/1332) /content/video.mp4: 384x640 1 Car, 21.8ms\n",
            "video 1/1 (frame 511/1332) /content/video.mp4: 384x640 1 Car, 18.0ms\n",
            "video 1/1 (frame 512/1332) /content/video.mp4: 384x640 1 Car, 2 Pedestrians, 18.9ms\n",
            "video 1/1 (frame 513/1332) /content/video.mp4: 384x640 1 Car, 2 Pedestrians, 17.9ms\n",
            "video 1/1 (frame 514/1332) /content/video.mp4: 384x640 1 Car, 2 Pedestrians, 20.0ms\n",
            "video 1/1 (frame 515/1332) /content/video.mp4: 384x640 1 Car, 20.7ms\n",
            "video 1/1 (frame 516/1332) /content/video.mp4: 384x640 1 Car, 18.2ms\n",
            "video 1/1 (frame 517/1332) /content/video.mp4: 384x640 1 Car, 19.1ms\n",
            "video 1/1 (frame 518/1332) /content/video.mp4: 384x640 1 Car, 2 Pedestrians, 23.8ms\n",
            "video 1/1 (frame 519/1332) /content/video.mp4: 384x640 1 Car, 2 Pedestrians, 20.1ms\n",
            "video 1/1 (frame 520/1332) /content/video.mp4: 384x640 1 Car, 1 Pedestrian, 1 Cyclist, 18.1ms\n",
            "video 1/1 (frame 521/1332) /content/video.mp4: 384x640 1 Car, 1 Pedestrian, 1 Cyclist, 18.7ms\n",
            "video 1/1 (frame 522/1332) /content/video.mp4: 384x640 1 Car, 1 Pedestrian, 18.0ms\n",
            "video 1/1 (frame 523/1332) /content/video.mp4: 384x640 1 Car, 1 Pedestrian, 1 Cyclist, 20.8ms\n",
            "video 1/1 (frame 524/1332) /content/video.mp4: 384x640 1 Car, 1 Pedestrian, 21.1ms\n",
            "video 1/1 (frame 525/1332) /content/video.mp4: 384x640 1 Car, 1 Pedestrian, 1 Cyclist, 17.9ms\n",
            "video 1/1 (frame 526/1332) /content/video.mp4: 384x640 1 Car, 1 Pedestrian, 1 Cyclist, 23.8ms\n",
            "video 1/1 (frame 527/1332) /content/video.mp4: 384x640 1 Car, 19.9ms\n",
            "video 1/1 (frame 528/1332) /content/video.mp4: 384x640 1 Car, 17.9ms\n",
            "video 1/1 (frame 529/1332) /content/video.mp4: 384x640 1 Car, 19.9ms\n",
            "video 1/1 (frame 530/1332) /content/video.mp4: 384x640 1 Car, 1 Pedestrian, 18.5ms\n",
            "video 1/1 (frame 531/1332) /content/video.mp4: 384x640 1 Car, 1 Pedestrian, 1 Cyclist, 19.9ms\n",
            "video 1/1 (frame 532/1332) /content/video.mp4: 384x640 1 Car, 19.9ms\n",
            "video 1/1 (frame 533/1332) /content/video.mp4: 384x640 1 Car, 1 Cyclist, 19.9ms\n",
            "video 1/1 (frame 534/1332) /content/video.mp4: 384x640 1 Car, 1 Cyclist, 19.8ms\n",
            "video 1/1 (frame 535/1332) /content/video.mp4: 384x640 1 Car, 1 Cyclist, 19.9ms\n",
            "video 1/1 (frame 536/1332) /content/video.mp4: 384x640 1 Car, 1 Cyclist, 19.9ms\n",
            "video 1/1 (frame 537/1332) /content/video.mp4: 384x640 1 Car, 1 Cyclist, 21.2ms\n",
            "video 1/1 (frame 538/1332) /content/video.mp4: 384x640 1 Car, 1 Cyclist, 24.7ms\n",
            "video 1/1 (frame 539/1332) /content/video.mp4: 384x640 1 Car, 1 Cyclist, 20.4ms\n",
            "video 1/1 (frame 540/1332) /content/video.mp4: 384x640 1 Car, 1 Cyclist, 20.2ms\n",
            "video 1/1 (frame 541/1332) /content/video.mp4: 384x640 1 Car, 1 Cyclist, 20.3ms\n",
            "video 1/1 (frame 542/1332) /content/video.mp4: 384x640 1 Car, 1 Pedestrian, 1 Cyclist, 20.3ms\n",
            "video 1/1 (frame 543/1332) /content/video.mp4: 384x640 1 Car, 1 Cyclist, 20.3ms\n",
            "video 1/1 (frame 544/1332) /content/video.mp4: 384x640 1 Car, 1 Cyclist, 20.2ms\n",
            "video 1/1 (frame 545/1332) /content/video.mp4: 384x640 1 Car, 1 Cyclist, 20.2ms\n",
            "video 1/1 (frame 546/1332) /content/video.mp4: 384x640 (no detections), 20.4ms\n",
            "video 1/1 (frame 547/1332) /content/video.mp4: 384x640 (no detections), 20.7ms\n",
            "video 1/1 (frame 548/1332) /content/video.mp4: 384x640 1 Pedestrian, 20.4ms\n",
            "video 1/1 (frame 549/1332) /content/video.mp4: 384x640 1 Pedestrian, 20.4ms\n",
            "video 1/1 (frame 550/1332) /content/video.mp4: 384x640 1 Pedestrian, 21.2ms\n",
            "video 1/1 (frame 551/1332) /content/video.mp4: 384x640 1 Pedestrian, 24.1ms\n",
            "video 1/1 (frame 552/1332) /content/video.mp4: 384x640 1 Pedestrian, 23.5ms\n",
            "video 1/1 (frame 553/1332) /content/video.mp4: 384x640 1 Pedestrian, 21.0ms\n",
            "video 1/1 (frame 554/1332) /content/video.mp4: 384x640 1 Pedestrian, 1 Cyclist, 25.6ms\n",
            "video 1/1 (frame 555/1332) /content/video.mp4: 384x640 1 Pedestrian, 20.3ms\n",
            "video 1/1 (frame 556/1332) /content/video.mp4: 384x640 1 Pedestrian, 1 Cyclist, 24.8ms\n",
            "video 1/1 (frame 557/1332) /content/video.mp4: 384x640 1 Pedestrian, 20.0ms\n",
            "video 1/1 (frame 558/1332) /content/video.mp4: 384x640 1 Pedestrian, 22.8ms\n",
            "video 1/1 (frame 559/1332) /content/video.mp4: 384x640 1 Pedestrian, 24.5ms\n",
            "video 1/1 (frame 560/1332) /content/video.mp4: 384x640 1 Pedestrian, 20.2ms\n",
            "video 1/1 (frame 561/1332) /content/video.mp4: 384x640 1 Pedestrian, 22.4ms\n",
            "video 1/1 (frame 562/1332) /content/video.mp4: 384x640 (no detections), 20.3ms\n",
            "video 1/1 (frame 563/1332) /content/video.mp4: 384x640 (no detections), 20.1ms\n",
            "video 1/1 (frame 564/1332) /content/video.mp4: 384x640 1 Pedestrian, 20.4ms\n",
            "video 1/1 (frame 565/1332) /content/video.mp4: 384x640 1 Pedestrian, 20.2ms\n",
            "video 1/1 (frame 566/1332) /content/video.mp4: 384x640 2 Pedestrians, 20.3ms\n",
            "video 1/1 (frame 567/1332) /content/video.mp4: 384x640 2 Pedestrians, 20.2ms\n",
            "video 1/1 (frame 568/1332) /content/video.mp4: 384x640 1 Pedestrian, 20.5ms\n",
            "video 1/1 (frame 569/1332) /content/video.mp4: 384x640 1 Pedestrian, 20.2ms\n",
            "video 1/1 (frame 570/1332) /content/video.mp4: 384x640 1 Pedestrian, 1 Cyclist, 20.2ms\n",
            "video 1/1 (frame 571/1332) /content/video.mp4: 384x640 1 Pedestrian, 2 Cyclists, 20.2ms\n",
            "video 1/1 (frame 572/1332) /content/video.mp4: 384x640 1 Cyclist, 20.1ms\n",
            "video 1/1 (frame 573/1332) /content/video.mp4: 384x640 1 Cyclist, 1 Misc, 20.2ms\n",
            "video 1/1 (frame 574/1332) /content/video.mp4: 384x640 1 Pedestrian, 21.4ms\n",
            "video 1/1 (frame 575/1332) /content/video.mp4: 384x640 1 Misc, 20.3ms\n",
            "video 1/1 (frame 576/1332) /content/video.mp4: 384x640 1 Misc, 20.1ms\n",
            "video 1/1 (frame 577/1332) /content/video.mp4: 384x640 2 Cyclists, 1 Misc, 20.3ms\n",
            "video 1/1 (frame 578/1332) /content/video.mp4: 384x640 2 Cyclists, 1 Misc, 23.1ms\n",
            "video 1/1 (frame 579/1332) /content/video.mp4: 384x640 2 Cyclists, 22.6ms\n",
            "video 1/1 (frame 580/1332) /content/video.mp4: 384x640 (no detections), 20.1ms\n",
            "video 1/1 (frame 581/1332) /content/video.mp4: 384x640 1 Misc, 20.1ms\n",
            "video 1/1 (frame 582/1332) /content/video.mp4: 384x640 1 Misc, 25.7ms\n",
            "video 1/1 (frame 583/1332) /content/video.mp4: 384x640 1 Misc, 21.6ms\n",
            "video 1/1 (frame 584/1332) /content/video.mp4: 384x640 1 Misc, 20.1ms\n",
            "video 1/1 (frame 585/1332) /content/video.mp4: 384x640 1 Cyclist, 20.2ms\n",
            "video 1/1 (frame 586/1332) /content/video.mp4: 384x640 1 Pedestrian, 25.0ms\n",
            "video 1/1 (frame 587/1332) /content/video.mp4: 384x640 1 Cyclist, 1 Misc, 20.1ms\n",
            "video 1/1 (frame 588/1332) /content/video.mp4: 384x640 1 Car, 1 Cyclist, 20.2ms\n",
            "video 1/1 (frame 589/1332) /content/video.mp4: 384x640 1 Car, 1 Cyclist, 20.3ms\n",
            "video 1/1 (frame 590/1332) /content/video.mp4: 384x640 1 Car, 1 Cyclist, 20.3ms\n",
            "video 1/1 (frame 591/1332) /content/video.mp4: 384x640 1 Cyclist, 20.1ms\n",
            "video 1/1 (frame 592/1332) /content/video.mp4: 384x640 1 Car, 2 Cyclists, 1 Misc, 27.7ms\n",
            "video 1/1 (frame 593/1332) /content/video.mp4: 384x640 1 Car, 2 Cyclists, 1 Misc, 27.0ms\n",
            "video 1/1 (frame 594/1332) /content/video.mp4: 384x640 1 Car, 1 Cyclist, 20.3ms\n",
            "video 1/1 (frame 595/1332) /content/video.mp4: 384x640 1 Car, 1 Cyclist, 20.3ms\n",
            "video 1/1 (frame 596/1332) /content/video.mp4: 384x640 1 Car, 1 Cyclist, 22.8ms\n",
            "video 1/1 (frame 597/1332) /content/video.mp4: 384x640 1 Car, 2 Cyclists, 20.3ms\n",
            "video 1/1 (frame 598/1332) /content/video.mp4: 384x640 1 Car, 2 Cyclists, 23.5ms\n",
            "video 1/1 (frame 599/1332) /content/video.mp4: 384x640 1 Car, 2 Cyclists, 20.1ms\n",
            "video 1/1 (frame 600/1332) /content/video.mp4: 384x640 1 Car, 22.2ms\n",
            "video 1/1 (frame 601/1332) /content/video.mp4: 384x640 1 Car, 21.8ms\n",
            "video 1/1 (frame 602/1332) /content/video.mp4: 384x640 1 Car, 20.9ms\n",
            "video 1/1 (frame 603/1332) /content/video.mp4: 384x640 1 Car, 20.1ms\n",
            "video 1/1 (frame 604/1332) /content/video.mp4: 384x640 1 Car, 22.7ms\n",
            "video 1/1 (frame 605/1332) /content/video.mp4: 384x640 1 Car, 21.7ms\n",
            "video 1/1 (frame 606/1332) /content/video.mp4: 384x640 1 Car, 22.9ms\n",
            "video 1/1 (frame 607/1332) /content/video.mp4: 384x640 1 Car, 21.8ms\n",
            "video 1/1 (frame 608/1332) /content/video.mp4: 384x640 1 Car, 20.2ms\n",
            "video 1/1 (frame 609/1332) /content/video.mp4: 384x640 1 Car, 26.2ms\n",
            "video 1/1 (frame 610/1332) /content/video.mp4: 384x640 1 Car, 21.4ms\n",
            "video 1/1 (frame 611/1332) /content/video.mp4: 384x640 1 Car, 1 Cyclist, 20.3ms\n",
            "video 1/1 (frame 612/1332) /content/video.mp4: 384x640 1 Car, 1 Cyclist, 20.1ms\n",
            "video 1/1 (frame 613/1332) /content/video.mp4: 384x640 1 Car, 1 Cyclist, 20.2ms\n",
            "video 1/1 (frame 614/1332) /content/video.mp4: 384x640 1 Car, 1 Cyclist, 20.3ms\n",
            "video 1/1 (frame 615/1332) /content/video.mp4: 384x640 1 Car, 1 Cyclist, 20.3ms\n",
            "video 1/1 (frame 616/1332) /content/video.mp4: 384x640 1 Car, 20.2ms\n",
            "video 1/1 (frame 617/1332) /content/video.mp4: 384x640 1 Car, 1 Misc, 30.1ms\n",
            "video 1/1 (frame 618/1332) /content/video.mp4: 384x640 1 Car, 21.2ms\n",
            "video 1/1 (frame 619/1332) /content/video.mp4: 384x640 1 Car, 20.1ms\n",
            "video 1/1 (frame 620/1332) /content/video.mp4: 384x640 1 Car, 1 Misc, 20.2ms\n",
            "video 1/1 (frame 621/1332) /content/video.mp4: 384x640 1 Car, 1 Misc, 21.9ms\n",
            "video 1/1 (frame 622/1332) /content/video.mp4: 384x640 1 Car, 20.1ms\n",
            "video 1/1 (frame 623/1332) /content/video.mp4: 384x640 1 Car, 20.2ms\n",
            "video 1/1 (frame 624/1332) /content/video.mp4: 384x640 1 Car, 20.3ms\n",
            "video 1/1 (frame 625/1332) /content/video.mp4: 384x640 1 Car, 20.4ms\n",
            "video 1/1 (frame 626/1332) /content/video.mp4: 384x640 1 Car, 20.2ms\n",
            "video 1/1 (frame 627/1332) /content/video.mp4: 384x640 1 Car, 1 Cyclist, 20.3ms\n",
            "video 1/1 (frame 628/1332) /content/video.mp4: 384x640 1 Car, 1 Cyclist, 20.3ms\n",
            "video 1/1 (frame 629/1332) /content/video.mp4: 384x640 1 Car, 1 Cyclist, 20.6ms\n",
            "video 1/1 (frame 630/1332) /content/video.mp4: 384x640 1 Car, 1 Cyclist, 20.1ms\n",
            "video 1/1 (frame 631/1332) /content/video.mp4: 384x640 2 Cars, 2 Pedestrians, 20.2ms\n",
            "video 1/1 (frame 632/1332) /content/video.mp4: 384x640 2 Cars, 1 Pedestrian, 20.2ms\n",
            "video 1/1 (frame 633/1332) /content/video.mp4: 384x640 2 Cars, 1 Pedestrian, 20.2ms\n",
            "video 1/1 (frame 634/1332) /content/video.mp4: 384x640 2 Cars, 3 Pedestrians, 20.3ms\n",
            "video 1/1 (frame 635/1332) /content/video.mp4: 384x640 2 Cars, 1 Pedestrian, 20.2ms\n",
            "video 1/1 (frame 636/1332) /content/video.mp4: 384x640 2 Cars, 1 Pedestrian, 27.4ms\n",
            "video 1/1 (frame 637/1332) /content/video.mp4: 384x640 2 Cars, 1 Pedestrian, 20.3ms\n",
            "video 1/1 (frame 638/1332) /content/video.mp4: 384x640 2 Cars, 2 Pedestrians, 22.2ms\n",
            "video 1/1 (frame 639/1332) /content/video.mp4: 384x640 2 Cars, 1 Pedestrian, 20.9ms\n",
            "video 1/1 (frame 640/1332) /content/video.mp4: 384x640 2 Cars, 1 Pedestrian, 20.3ms\n",
            "video 1/1 (frame 641/1332) /content/video.mp4: 384x640 2 Cars, 1 Pedestrian, 20.6ms\n",
            "video 1/1 (frame 642/1332) /content/video.mp4: 384x640 2 Cars, 1 Pedestrian, 1 Misc, 20.8ms\n",
            "video 1/1 (frame 643/1332) /content/video.mp4: 384x640 2 Cars, 1 Van, 23.1ms\n",
            "video 1/1 (frame 644/1332) /content/video.mp4: 384x640 2 Cars, 1 Pedestrian, 1 Van, 1 Cyclist, 21.3ms\n",
            "video 1/1 (frame 645/1332) /content/video.mp4: 384x640 2 Cars, 1 Misc, 23.9ms\n",
            "video 1/1 (frame 646/1332) /content/video.mp4: 384x640 2 Cars, 1 Misc, 22.3ms\n",
            "video 1/1 (frame 647/1332) /content/video.mp4: 384x640 2 Cars, 1 Misc, 20.2ms\n",
            "video 1/1 (frame 648/1332) /content/video.mp4: 384x640 2 Cars, 1 Misc, 20.1ms\n",
            "video 1/1 (frame 649/1332) /content/video.mp4: 384x640 2 Cars, 1 Misc, 19.9ms\n",
            "video 1/1 (frame 650/1332) /content/video.mp4: 384x640 2 Cars, 1 Misc, 20.3ms\n",
            "video 1/1 (frame 651/1332) /content/video.mp4: 384x640 2 Cars, 1 Misc, 19.7ms\n",
            "video 1/1 (frame 652/1332) /content/video.mp4: 384x640 2 Cars, 1 Misc, 20.1ms\n",
            "video 1/1 (frame 653/1332) /content/video.mp4: 384x640 2 Cars, 1 Misc, 19.2ms\n",
            "video 1/1 (frame 654/1332) /content/video.mp4: 384x640 2 Cars, 1 Misc, 19.2ms\n",
            "video 1/1 (frame 655/1332) /content/video.mp4: 384x640 2 Cars, 1 Van, 2 Cyclists, 19.1ms\n",
            "video 1/1 (frame 656/1332) /content/video.mp4: 384x640 2 Cars, 1 Van, 2 Cyclists, 19.0ms\n",
            "video 1/1 (frame 657/1332) /content/video.mp4: 384x640 2 Cars, 1 Van, 2 Cyclists, 18.7ms\n",
            "video 1/1 (frame 658/1332) /content/video.mp4: 384x640 2 Cars, 1 Truck, 18.0ms\n",
            "video 1/1 (frame 659/1332) /content/video.mp4: 384x640 2 Cars, 1 Pedestrian, 1 Van, 18.8ms\n",
            "video 1/1 (frame 660/1332) /content/video.mp4: 384x640 2 Cars, 1 Pedestrian, 1 Van, 1 Cyclist, 2 Trucks, 19.3ms\n",
            "video 1/1 (frame 661/1332) /content/video.mp4: 384x640 2 Cars, 1 Cyclist, 1 Truck, 2 Miscs, 19.2ms\n",
            "video 1/1 (frame 662/1332) /content/video.mp4: 384x640 3 Cars, 1 Van, 1 Cyclist, 1 Truck, 19.6ms\n",
            "video 1/1 (frame 663/1332) /content/video.mp4: 384x640 3 Cars, 1 Van, 1 Cyclist, 1 Truck, 18.1ms\n",
            "video 1/1 (frame 664/1332) /content/video.mp4: 384x640 5 Cars, 1 Pedestrian, 1 Van, 1 Cyclist, 1 Truck, 18.9ms\n",
            "video 1/1 (frame 665/1332) /content/video.mp4: 384x640 4 Cars, 1 Pedestrian, 2 Vans, 1 Truck, 19.1ms\n",
            "video 1/1 (frame 666/1332) /content/video.mp4: 384x640 2 Cars, 3 Pedestrians, 1 Van, 1 Misc, 20.6ms\n",
            "video 1/1 (frame 667/1332) /content/video.mp4: 384x640 2 Cars, 4 Pedestrians, 1 Van, 2 Trucks, 20.2ms\n",
            "video 1/1 (frame 668/1332) /content/video.mp4: 384x640 3 Cars, 3 Pedestrians, 2 Vans, 1 Cyclist, 1 Truck, 19.5ms\n",
            "video 1/1 (frame 669/1332) /content/video.mp4: 384x640 3 Cars, 3 Pedestrians, 2 Vans, 1 Cyclist, 1 Truck, 18.1ms\n",
            "video 1/1 (frame 670/1332) /content/video.mp4: 384x640 3 Cars, 2 Pedestrians, 1 Van, 1 Cyclist, 1 Truck, 19.0ms\n",
            "video 1/1 (frame 671/1332) /content/video.mp4: 384x640 3 Cars, 1 Pedestrian, 1 Cyclist, 1 Truck, 18.4ms\n",
            "video 1/1 (frame 672/1332) /content/video.mp4: 384x640 3 Cars, 2 Pedestrians, 1 Cyclist, 1 Truck, 18.1ms\n",
            "video 1/1 (frame 673/1332) /content/video.mp4: 384x640 3 Cars, 4 Pedestrians, 2 Vans, 1 Cyclist, 19.5ms\n",
            "video 1/1 (frame 674/1332) /content/video.mp4: 384x640 3 Cars, 4 Pedestrians, 2 Vans, 1 Cyclist, 19.1ms\n",
            "video 1/1 (frame 675/1332) /content/video.mp4: 384x640 3 Cars, 4 Pedestrians, 2 Vans, 1 Cyclist, 19.8ms\n",
            "video 1/1 (frame 676/1332) /content/video.mp4: 384x640 3 Cars, 6 Pedestrians, 1 Van, 1 Cyclist, 18.1ms\n",
            "video 1/1 (frame 677/1332) /content/video.mp4: 384x640 4 Cars, 4 Pedestrians, 1 Van, 1 Cyclist, 1 Truck, 18.5ms\n",
            "video 1/1 (frame 678/1332) /content/video.mp4: 384x640 3 Cars, 5 Pedestrians, 1 Van, 1 Cyclist, 1 Truck, 19.4ms\n",
            "video 1/1 (frame 679/1332) /content/video.mp4: 384x640 3 Cars, 4 Pedestrians, 1 Van, 1 Cyclist, 20.9ms\n",
            "video 1/1 (frame 680/1332) /content/video.mp4: 384x640 3 Cars, 4 Pedestrians, 1 Van, 1 Cyclist, 18.5ms\n",
            "video 1/1 (frame 681/1332) /content/video.mp4: 384x640 2 Cars, 4 Pedestrians, 1 Van, 1 Truck, 19.0ms\n",
            "video 1/1 (frame 682/1332) /content/video.mp4: 384x640 1 Car, 6 Pedestrians, 2 Vans, 18.4ms\n",
            "video 1/1 (frame 683/1332) /content/video.mp4: 384x640 1 Car, 4 Pedestrians, 1 Van, 18.5ms\n",
            "video 1/1 (frame 684/1332) /content/video.mp4: 384x640 1 Car, 3 Pedestrians, 1 Cyclist, 19.3ms\n",
            "video 1/1 (frame 685/1332) /content/video.mp4: 384x640 2 Cars, 5 Pedestrians, 1 Truck, 19.6ms\n",
            "video 1/1 (frame 686/1332) /content/video.mp4: 384x640 2 Cars, 6 Pedestrians, 19.1ms\n",
            "video 1/1 (frame 687/1332) /content/video.mp4: 384x640 1 Car, 2 Pedestrians, 19.0ms\n",
            "video 1/1 (frame 688/1332) /content/video.mp4: 384x640 2 Cars, 3 Pedestrians, 21.2ms\n",
            "video 1/1 (frame 689/1332) /content/video.mp4: 384x640 2 Cars, 2 Pedestrians, 21.3ms\n",
            "video 1/1 (frame 690/1332) /content/video.mp4: 384x640 2 Cars, 3 Pedestrians, 19.1ms\n",
            "video 1/1 (frame 691/1332) /content/video.mp4: 384x640 2 Cars, 5 Pedestrians, 1 Van, 19.4ms\n",
            "video 1/1 (frame 692/1332) /content/video.mp4: 384x640 2 Cars, 5 Pedestrians, 1 Van, 19.9ms\n",
            "video 1/1 (frame 693/1332) /content/video.mp4: 384x640 2 Cars, 4 Pedestrians, 1 Van, 18.8ms\n",
            "video 1/1 (frame 694/1332) /content/video.mp4: 384x640 3 Cars, 4 Pedestrians, 1 Van, 18.3ms\n",
            "video 1/1 (frame 695/1332) /content/video.mp4: 384x640 3 Cars, 3 Pedestrians, 18.5ms\n",
            "video 1/1 (frame 696/1332) /content/video.mp4: 384x640 3 Cars, 5 Pedestrians, 2 Cyclists, 19.1ms\n",
            "video 1/1 (frame 697/1332) /content/video.mp4: 384x640 3 Cars, 5 Pedestrians, 2 Cyclists, 19.6ms\n",
            "video 1/1 (frame 698/1332) /content/video.mp4: 384x640 3 Cars, 5 Pedestrians, 1 Van, 18.7ms\n",
            "video 1/1 (frame 699/1332) /content/video.mp4: 384x640 2 Cars, 6 Pedestrians, 1 Van, 1 Cyclist, 18.2ms\n",
            "video 1/1 (frame 700/1332) /content/video.mp4: 384x640 3 Cars, 5 Pedestrians, 1 Cyclist, 18.7ms\n",
            "video 1/1 (frame 701/1332) /content/video.mp4: 384x640 3 Cars, 5 Pedestrians, 1 Cyclist, 19.2ms\n",
            "video 1/1 (frame 702/1332) /content/video.mp4: 384x640 1 Car, 5 Pedestrians, 18.3ms\n",
            "video 1/1 (frame 703/1332) /content/video.mp4: 384x640 1 Car, 5 Pedestrians, 1 Misc, 18.8ms\n",
            "video 1/1 (frame 704/1332) /content/video.mp4: 384x640 4 Cars, 4 Pedestrians, 1 Cyclist, 1 Misc, 20.8ms\n",
            "video 1/1 (frame 705/1332) /content/video.mp4: 384x640 4 Cars, 3 Pedestrians, 1 Cyclist, 1 Misc, 19.0ms\n",
            "video 1/1 (frame 706/1332) /content/video.mp4: 384x640 4 Cars, 4 Pedestrians, 1 Cyclist, 1 Misc, 18.2ms\n",
            "video 1/1 (frame 707/1332) /content/video.mp4: 384x640 5 Cars, 3 Pedestrians, 1 Van, 1 Cyclist, 1 Misc, 18.3ms\n",
            "video 1/1 (frame 708/1332) /content/video.mp4: 384x640 4 Cars, 1 Pedestrian, 1 Van, 1 Cyclist, 19.2ms\n",
            "video 1/1 (frame 709/1332) /content/video.mp4: 384x640 4 Cars, 1 Pedestrian, 1 Van, 1 Cyclist, 18.6ms\n",
            "video 1/1 (frame 710/1332) /content/video.mp4: 384x640 3 Cars, 4 Pedestrians, 1 Van, 1 Cyclist, 18.9ms\n",
            "video 1/1 (frame 711/1332) /content/video.mp4: 384x640 2 Cars, 3 Pedestrians, 1 Cyclist, 21.4ms\n",
            "video 1/1 (frame 712/1332) /content/video.mp4: 384x640 3 Cars, 1 Van, 1 Cyclist, 1 Misc, 19.2ms\n",
            "video 1/1 (frame 713/1332) /content/video.mp4: 384x640 2 Cars, 1 Pedestrian, 1 Van, 1 Cyclist, 1 Misc, 19.2ms\n",
            "video 1/1 (frame 714/1332) /content/video.mp4: 384x640 3 Cars, 2 Pedestrians, 1 Van, 1 Cyclist, 1 Misc, 18.9ms\n",
            "video 1/1 (frame 715/1332) /content/video.mp4: 384x640 3 Cars, 2 Pedestrians, 1 Van, 1 Cyclist, 1 Misc, 18.9ms\n",
            "video 1/1 (frame 716/1332) /content/video.mp4: 384x640 3 Cars, 1 Pedestrian, 1 Van, 1 Cyclist, 1 Misc, 19.0ms\n",
            "video 1/1 (frame 717/1332) /content/video.mp4: 384x640 3 Cars, 1 Cyclist, 1 Misc, 19.2ms\n",
            "video 1/1 (frame 718/1332) /content/video.mp4: 384x640 3 Cars, 1 Pedestrian, 1 Cyclist, 19.0ms\n",
            "video 1/1 (frame 719/1332) /content/video.mp4: 384x640 3 Cars, 1 Pedestrian, 19.3ms\n",
            "video 1/1 (frame 720/1332) /content/video.mp4: 384x640 3 Cars, 1 Pedestrian, 19.0ms\n",
            "video 1/1 (frame 721/1332) /content/video.mp4: 384x640 3 Cars, 4 Pedestrians, 1 Van, 1 Misc, 19.4ms\n",
            "video 1/1 (frame 722/1332) /content/video.mp4: 384x640 3 Cars, 1 Pedestrian, 1 Van, 1 Cyclist, 19.1ms\n",
            "video 1/1 (frame 723/1332) /content/video.mp4: 384x640 3 Cars, 2 Pedestrians, 2 Cyclists, 1 Misc, 19.9ms\n",
            "video 1/1 (frame 724/1332) /content/video.mp4: 384x640 3 Cars, 4 Pedestrians, 3 Cyclists, 18.7ms\n",
            "video 1/1 (frame 725/1332) /content/video.mp4: 384x640 3 Cars, 4 Pedestrians, 1 Cyclist, 17.9ms\n",
            "video 1/1 (frame 726/1332) /content/video.mp4: 384x640 3 Cars, 4 Pedestrians, 1 Cyclist, 19.0ms\n",
            "video 1/1 (frame 727/1332) /content/video.mp4: 384x640 3 Cars, 3 Pedestrians, 1 Van, 1 Cyclist, 18.9ms\n",
            "video 1/1 (frame 728/1332) /content/video.mp4: 384x640 3 Cars, 4 Pedestrians, 2 Vans, 1 Cyclist, 18.1ms\n",
            "video 1/1 (frame 729/1332) /content/video.mp4: 384x640 4 Cars, 1 Pedestrian, 1 Van, 1 Cyclist, 18.5ms\n",
            "video 1/1 (frame 730/1332) /content/video.mp4: 384x640 2 Cars, 2 Pedestrians, 1 Van, 19.6ms\n",
            "video 1/1 (frame 731/1332) /content/video.mp4: 384x640 2 Cars, 3 Pedestrians, 19.2ms\n",
            "video 1/1 (frame 732/1332) /content/video.mp4: 384x640 2 Cars, 3 Pedestrians, 21.0ms\n",
            "video 1/1 (frame 733/1332) /content/video.mp4: 384x640 2 Cars, 3 Pedestrians, 18.1ms\n",
            "video 1/1 (frame 734/1332) /content/video.mp4: 384x640 1 Car, 3 Pedestrians, 18.8ms\n",
            "video 1/1 (frame 735/1332) /content/video.mp4: 384x640 1 Car, 3 Pedestrians, 1 Van, 18.4ms\n",
            "video 1/1 (frame 736/1332) /content/video.mp4: 384x640 2 Cars, 2 Pedestrians, 18.5ms\n",
            "video 1/1 (frame 737/1332) /content/video.mp4: 384x640 2 Cars, 2 Pedestrians, 19.1ms\n",
            "video 1/1 (frame 738/1332) /content/video.mp4: 384x640 2 Cars, 2 Pedestrians, 18.5ms\n",
            "video 1/1 (frame 739/1332) /content/video.mp4: 384x640 2 Cars, 2 Pedestrians, 19.3ms\n",
            "video 1/1 (frame 740/1332) /content/video.mp4: 384x640 2 Cars, 3 Pedestrians, 19.1ms\n",
            "video 1/1 (frame 741/1332) /content/video.mp4: 384x640 2 Cars, 2 Pedestrians, 19.2ms\n",
            "video 1/1 (frame 742/1332) /content/video.mp4: 384x640 1 Car, 2 Pedestrians, 1 Van, 19.1ms\n",
            "video 1/1 (frame 743/1332) /content/video.mp4: 384x640 2 Cars, 2 Pedestrians, 1 Van, 19.7ms\n",
            "video 1/1 (frame 744/1332) /content/video.mp4: 384x640 3 Cars, 4 Pedestrians, 18.3ms\n",
            "video 1/1 (frame 745/1332) /content/video.mp4: 384x640 2 Cars, 3 Pedestrians, 18.4ms\n",
            "video 1/1 (frame 746/1332) /content/video.mp4: 384x640 3 Cars, 4 Pedestrians, 19.1ms\n",
            "video 1/1 (frame 747/1332) /content/video.mp4: 384x640 3 Cars, 5 Pedestrians, 18.9ms\n",
            "video 1/1 (frame 748/1332) /content/video.mp4: 384x640 3 Cars, 5 Pedestrians, 18.0ms\n",
            "video 1/1 (frame 749/1332) /content/video.mp4: 384x640 1 Car, 4 Pedestrians, 1 Cyclist, 18.7ms\n",
            "video 1/1 (frame 750/1332) /content/video.mp4: 384x640 1 Car, 5 Pedestrians, 19.0ms\n",
            "video 1/1 (frame 751/1332) /content/video.mp4: 384x640 2 Pedestrians, 18.5ms\n",
            "video 1/1 (frame 752/1332) /content/video.mp4: 384x640 2 Pedestrians, 1 Cyclist, 18.1ms\n",
            "video 1/1 (frame 753/1332) /content/video.mp4: 384x640 1 Car, 2 Pedestrians, 18.8ms\n",
            "video 1/1 (frame 754/1332) /content/video.mp4: 384x640 1 Car, 2 Pedestrians, 19.8ms\n",
            "video 1/1 (frame 755/1332) /content/video.mp4: 384x640 2 Pedestrians, 1 Cyclist, 20.5ms\n",
            "video 1/1 (frame 756/1332) /content/video.mp4: 384x640 3 Pedestrians, 1 Cyclist, 18.2ms\n",
            "video 1/1 (frame 757/1332) /content/video.mp4: 384x640 1 Car, 3 Pedestrians, 19.0ms\n",
            "video 1/1 (frame 758/1332) /content/video.mp4: 384x640 3 Pedestrians, 19.5ms\n",
            "video 1/1 (frame 759/1332) /content/video.mp4: 384x640 3 Pedestrians, 19.0ms\n",
            "video 1/1 (frame 760/1332) /content/video.mp4: 384x640 3 Pedestrians, 1 Cyclist, 20.1ms\n",
            "video 1/1 (frame 761/1332) /content/video.mp4: 384x640 3 Pedestrians, 1 Cyclist, 18.8ms\n",
            "video 1/1 (frame 762/1332) /content/video.mp4: 384x640 1 Car, 4 Pedestrians, 1 Cyclist, 19.6ms\n",
            "video 1/1 (frame 763/1332) /content/video.mp4: 384x640 3 Pedestrians, 2 Cyclists, 18.9ms\n",
            "video 1/1 (frame 764/1332) /content/video.mp4: 384x640 3 Pedestrians, 1 Cyclist, 18.8ms\n",
            "video 1/1 (frame 765/1332) /content/video.mp4: 384x640 3 Pedestrians, 1 Cyclist, 18.9ms\n",
            "video 1/1 (frame 766/1332) /content/video.mp4: 384x640 3 Pedestrians, 19.6ms\n",
            "video 1/1 (frame 767/1332) /content/video.mp4: 384x640 3 Pedestrians, 19.4ms\n",
            "video 1/1 (frame 768/1332) /content/video.mp4: 384x640 2 Pedestrians, 1 Cyclist, 19.0ms\n",
            "video 1/1 (frame 769/1332) /content/video.mp4: 384x640 3 Pedestrians, 19.4ms\n",
            "video 1/1 (frame 770/1332) /content/video.mp4: 384x640 3 Pedestrians, 1 Cyclist, 19.2ms\n",
            "video 1/1 (frame 771/1332) /content/video.mp4: 384x640 3 Pedestrians, 1 Cyclist, 18.6ms\n",
            "video 1/1 (frame 772/1332) /content/video.mp4: 384x640 3 Pedestrians, 2 Cyclists, 19.3ms\n",
            "video 1/1 (frame 773/1332) /content/video.mp4: 384x640 3 Pedestrians, 1 Truck, 18.9ms\n",
            "video 1/1 (frame 774/1332) /content/video.mp4: 384x640 3 Pedestrians, 2 Cyclists, 1 Truck, 18.7ms\n",
            "video 1/1 (frame 775/1332) /content/video.mp4: 384x640 3 Pedestrians, 18.1ms\n",
            "video 1/1 (frame 776/1332) /content/video.mp4: 384x640 3 Pedestrians, 19.6ms\n",
            "video 1/1 (frame 777/1332) /content/video.mp4: 384x640 3 Pedestrians, 2 Cyclists, 18.9ms\n",
            "video 1/1 (frame 778/1332) /content/video.mp4: 384x640 3 Pedestrians, 20.3ms\n",
            "video 1/1 (frame 779/1332) /content/video.mp4: 384x640 3 Pedestrians, 25.3ms\n",
            "video 1/1 (frame 780/1332) /content/video.mp4: 384x640 2 Pedestrians, 1 Cyclist, 19.9ms\n",
            "video 1/1 (frame 781/1332) /content/video.mp4: 384x640 3 Pedestrians, 19.4ms\n",
            "video 1/1 (frame 782/1332) /content/video.mp4: 384x640 3 Pedestrians, 18.8ms\n",
            "video 1/1 (frame 783/1332) /content/video.mp4: 384x640 2 Pedestrians, 1 Cyclist, 18.7ms\n",
            "video 1/1 (frame 784/1332) /content/video.mp4: 384x640 2 Pedestrians, 1 Cyclist, 18.6ms\n",
            "video 1/1 (frame 785/1332) /content/video.mp4: 384x640 1 Pedestrian, 1 Cyclist, 19.1ms\n",
            "video 1/1 (frame 786/1332) /content/video.mp4: 384x640 2 Pedestrians, 1 Cyclist, 19.8ms\n",
            "video 1/1 (frame 787/1332) /content/video.mp4: 384x640 3 Pedestrians, 19.6ms\n",
            "video 1/1 (frame 788/1332) /content/video.mp4: 384x640 3 Pedestrians, 19.2ms\n",
            "video 1/1 (frame 789/1332) /content/video.mp4: 384x640 2 Pedestrians, 19.2ms\n",
            "video 1/1 (frame 790/1332) /content/video.mp4: 384x640 3 Pedestrians, 1 Cyclist, 19.1ms\n",
            "video 1/1 (frame 791/1332) /content/video.mp4: 384x640 2 Pedestrians, 2 Cyclists, 1 Truck, 19.5ms\n",
            "video 1/1 (frame 792/1332) /content/video.mp4: 384x640 2 Pedestrians, 1 Cyclist, 18.6ms\n",
            "video 1/1 (frame 793/1332) /content/video.mp4: 384x640 2 Pedestrians, 1 Cyclist, 18.8ms\n",
            "video 1/1 (frame 794/1332) /content/video.mp4: 384x640 2 Pedestrians, 1 Cyclist, 26.2ms\n",
            "video 1/1 (frame 795/1332) /content/video.mp4: 384x640 3 Pedestrians, 1 Cyclist, 19.1ms\n",
            "video 1/1 (frame 796/1332) /content/video.mp4: 384x640 2 Pedestrians, 1 Cyclist, 19.0ms\n",
            "video 1/1 (frame 797/1332) /content/video.mp4: 384x640 1 Pedestrian, 1 Cyclist, 20.5ms\n",
            "video 1/1 (frame 798/1332) /content/video.mp4: 384x640 1 Pedestrian, 1 Cyclist, 19.9ms\n",
            "video 1/1 (frame 799/1332) /content/video.mp4: 384x640 1 Pedestrian, 1 Cyclist, 18.5ms\n",
            "video 1/1 (frame 800/1332) /content/video.mp4: 384x640 2 Pedestrians, 1 Cyclist, 18.5ms\n",
            "video 1/1 (frame 801/1332) /content/video.mp4: 384x640 3 Pedestrians, 1 Cyclist, 19.0ms\n",
            "video 1/1 (frame 802/1332) /content/video.mp4: 384x640 3 Pedestrians, 18.1ms\n",
            "video 1/1 (frame 803/1332) /content/video.mp4: 384x640 1 Pedestrian, 18.7ms\n",
            "video 1/1 (frame 804/1332) /content/video.mp4: 384x640 1 Pedestrian, 2 Cyclists, 19.2ms\n",
            "video 1/1 (frame 805/1332) /content/video.mp4: 384x640 1 Pedestrian, 2 Cyclists, 19.2ms\n",
            "video 1/1 (frame 806/1332) /content/video.mp4: 384x640 1 Pedestrian, 1 Cyclist, 18.3ms\n",
            "video 1/1 (frame 807/1332) /content/video.mp4: 384x640 1 Pedestrian, 1 Cyclist, 18.3ms\n",
            "video 1/1 (frame 808/1332) /content/video.mp4: 384x640 1 Pedestrian, 1 Cyclist, 19.0ms\n",
            "video 1/1 (frame 809/1332) /content/video.mp4: 384x640 1 Cyclist, 19.2ms\n",
            "video 1/1 (frame 810/1332) /content/video.mp4: 384x640 1 Pedestrian, 21.9ms\n",
            "video 1/1 (frame 811/1332) /content/video.mp4: 384x640 1 Pedestrian, 21.5ms\n",
            "video 1/1 (frame 812/1332) /content/video.mp4: 384x640 1 Pedestrian, 1 Truck, 18.9ms\n",
            "video 1/1 (frame 813/1332) /content/video.mp4: 384x640 1 Pedestrian, 1 Cyclist, 1 Truck, 19.2ms\n",
            "video 1/1 (frame 814/1332) /content/video.mp4: 384x640 1 Pedestrian, 1 Cyclist, 1 Truck, 19.6ms\n",
            "video 1/1 (frame 815/1332) /content/video.mp4: 384x640 1 Cyclist, 22.2ms\n",
            "video 1/1 (frame 816/1332) /content/video.mp4: 384x640 1 Pedestrian, 1 Cyclist, 22.5ms\n",
            "video 1/1 (frame 817/1332) /content/video.mp4: 384x640 1 Cyclist, 19.7ms\n",
            "video 1/1 (frame 818/1332) /content/video.mp4: 384x640 1 Pedestrian, 19.4ms\n",
            "video 1/1 (frame 819/1332) /content/video.mp4: 384x640 1 Cyclist, 18.4ms\n",
            "video 1/1 (frame 820/1332) /content/video.mp4: 384x640 1 Cyclist, 18.9ms\n",
            "video 1/1 (frame 821/1332) /content/video.mp4: 384x640 3 Cars, 3 Pedestrians, 1 Misc, 18.6ms\n",
            "video 1/1 (frame 822/1332) /content/video.mp4: 384x640 3 Cars, 3 Pedestrians, 1 Misc, 18.8ms\n",
            "video 1/1 (frame 823/1332) /content/video.mp4: 384x640 2 Cars, 2 Pedestrians, 1 Misc, 18.4ms\n",
            "video 1/1 (frame 824/1332) /content/video.mp4: 384x640 2 Cars, 1 Pedestrian, 19.2ms\n",
            "video 1/1 (frame 825/1332) /content/video.mp4: 384x640 1 Car, 1 Pedestrian, 18.4ms\n",
            "video 1/1 (frame 826/1332) /content/video.mp4: 384x640 1 Car, 1 Pedestrian, 1 Misc, 18.8ms\n",
            "video 1/1 (frame 827/1332) /content/video.mp4: 384x640 2 Cars, 2 Pedestrians, 1 Misc, 18.3ms\n",
            "video 1/1 (frame 828/1332) /content/video.mp4: 384x640 2 Cars, 2 Pedestrians, 1 Misc, 20.8ms\n",
            "video 1/1 (frame 829/1332) /content/video.mp4: 384x640 1 Car, 2 Pedestrians, 1 Misc, 18.7ms\n",
            "video 1/1 (frame 830/1332) /content/video.mp4: 384x640 1 Car, 2 Pedestrians, 1 Misc, 18.5ms\n",
            "video 1/1 (frame 831/1332) /content/video.mp4: 384x640 1 Car, 3 Pedestrians, 1 Misc, 19.3ms\n",
            "video 1/1 (frame 832/1332) /content/video.mp4: 384x640 1 Car, 1 Pedestrian, 1 Misc, 19.2ms\n",
            "video 1/1 (frame 833/1332) /content/video.mp4: 384x640 1 Car, 1 Pedestrian, 1 Van, 1 Misc, 19.0ms\n",
            "video 1/1 (frame 834/1332) /content/video.mp4: 384x640 1 Car, 1 Pedestrian, 1 Van, 1 Misc, 20.0ms\n",
            "video 1/1 (frame 835/1332) /content/video.mp4: 384x640 1 Car, 2 Pedestrians, 1 Van, 1 Misc, 18.8ms\n",
            "video 1/1 (frame 836/1332) /content/video.mp4: 384x640 2 Cars, 3 Pedestrians, 1 Van, 18.9ms\n",
            "video 1/1 (frame 837/1332) /content/video.mp4: 384x640 2 Cars, 2 Pedestrians, 1 Van, 1 Misc, 19.2ms\n",
            "video 1/1 (frame 838/1332) /content/video.mp4: 384x640 2 Cars, 1 Pedestrian, 1 Van, 2 Miscs, 19.2ms\n",
            "video 1/1 (frame 839/1332) /content/video.mp4: 384x640 2 Cars, 1 Pedestrian, 1 Van, 2 Miscs, 19.3ms\n",
            "video 1/1 (frame 840/1332) /content/video.mp4: 384x640 1 Car, 1 Pedestrian, 1 Van, 19.3ms\n",
            "video 1/1 (frame 841/1332) /content/video.mp4: 384x640 1 Car, 1 Pedestrian, 1 Van, 1 Misc, 21.6ms\n",
            "video 1/1 (frame 842/1332) /content/video.mp4: 384x640 2 Cars, 1 Van, 1 Cyclist, 19.8ms\n",
            "video 1/1 (frame 843/1332) /content/video.mp4: 384x640 1 Car, 1 Pedestrian, 1 Van, 1 Misc, 18.9ms\n",
            "video 1/1 (frame 844/1332) /content/video.mp4: 384x640 1 Car, 1 Pedestrian, 1 Van, 1 Misc, 18.5ms\n",
            "video 1/1 (frame 845/1332) /content/video.mp4: 384x640 1 Car, 2 Pedestrians, 1 Van, 1 Misc, 20.1ms\n",
            "video 1/1 (frame 846/1332) /content/video.mp4: 384x640 1 Car, 1 Pedestrian, 1 Van, 2 Miscs, 18.8ms\n",
            "video 1/1 (frame 847/1332) /content/video.mp4: 384x640 1 Car, 1 Pedestrian, 1 Cyclist, 20.6ms\n",
            "video 1/1 (frame 848/1332) /content/video.mp4: 384x640 1 Car, 1 Pedestrian, 18.5ms\n",
            "video 1/1 (frame 849/1332) /content/video.mp4: 384x640 1 Car, 2 Pedestrians, 1 Van, 1 Misc, 19.2ms\n",
            "video 1/1 (frame 850/1332) /content/video.mp4: 384x640 1 Car, 2 Pedestrians, 1 Van, 1 Misc, 18.8ms\n",
            "video 1/1 (frame 851/1332) /content/video.mp4: 384x640 1 Car, 2 Pedestrians, 1 Van, 18.6ms\n",
            "video 1/1 (frame 852/1332) /content/video.mp4: 384x640 1 Car, 2 Pedestrians, 18.7ms\n",
            "video 1/1 (frame 853/1332) /content/video.mp4: 384x640 1 Car, 1 Pedestrian, 18.9ms\n",
            "video 1/1 (frame 854/1332) /content/video.mp4: 384x640 2 Cars, 1 Pedestrian, 19.6ms\n",
            "video 1/1 (frame 855/1332) /content/video.mp4: 384x640 2 Cars, 1 Pedestrian, 19.5ms\n",
            "video 1/1 (frame 856/1332) /content/video.mp4: 384x640 1 Car, 1 Pedestrian, 1 Van, 1 Misc, 19.5ms\n",
            "video 1/1 (frame 857/1332) /content/video.mp4: 384x640 1 Car, 1 Pedestrian, 1 Van, 18.9ms\n",
            "video 1/1 (frame 858/1332) /content/video.mp4: 384x640 1 Car, 1 Pedestrian, 18.8ms\n",
            "video 1/1 (frame 859/1332) /content/video.mp4: 384x640 1 Car, 1 Pedestrian, 20.0ms\n",
            "video 1/1 (frame 860/1332) /content/video.mp4: 384x640 1 Car, 2 Pedestrians, 19.3ms\n",
            "video 1/1 (frame 861/1332) /content/video.mp4: 384x640 1 Car, 2 Pedestrians, 19.3ms\n",
            "video 1/1 (frame 862/1332) /content/video.mp4: 384x640 1 Car, 1 Pedestrian, 19.6ms\n",
            "video 1/1 (frame 863/1332) /content/video.mp4: 384x640 1 Car, 1 Pedestrian, 19.0ms\n",
            "video 1/1 (frame 864/1332) /content/video.mp4: 384x640 1 Car, 1 Pedestrian, 19.1ms\n",
            "video 1/1 (frame 865/1332) /content/video.mp4: 384x640 1 Car, 1 Pedestrian, 20.0ms\n",
            "video 1/1 (frame 866/1332) /content/video.mp4: 384x640 1 Car, 1 Pedestrian, 18.9ms\n",
            "video 1/1 (frame 867/1332) /content/video.mp4: 384x640 1 Car, 1 Pedestrian, 20.4ms\n",
            "video 1/1 (frame 868/1332) /content/video.mp4: 384x640 1 Car, 2 Pedestrians, 18.6ms\n",
            "video 1/1 (frame 869/1332) /content/video.mp4: 384x640 1 Car, 3 Pedestrians, 18.6ms\n",
            "video 1/1 (frame 870/1332) /content/video.mp4: 384x640 2 Cars, 2 Pedestrians, 24.7ms\n",
            "video 1/1 (frame 871/1332) /content/video.mp4: 384x640 1 Car, 2 Pedestrians, 24.9ms\n",
            "video 1/1 (frame 872/1332) /content/video.mp4: 384x640 1 Car, 2 Pedestrians, 19.5ms\n",
            "video 1/1 (frame 873/1332) /content/video.mp4: 384x640 1 Car, 2 Pedestrians, 21.2ms\n",
            "video 1/1 (frame 874/1332) /content/video.mp4: 384x640 1 Car, 1 Pedestrian, 2 Cyclists, 19.0ms\n",
            "video 1/1 (frame 875/1332) /content/video.mp4: 384x640 1 Car, 20.2ms\n",
            "video 1/1 (frame 876/1332) /content/video.mp4: 384x640 1 Car, 18.8ms\n",
            "video 1/1 (frame 877/1332) /content/video.mp4: 384x640 1 Car, 1 Pedestrian, 20.6ms\n",
            "video 1/1 (frame 878/1332) /content/video.mp4: 384x640 1 Car, 1 Pedestrian, 19.9ms\n",
            "video 1/1 (frame 879/1332) /content/video.mp4: 384x640 1 Car, 1 Cyclist, 20.2ms\n",
            "video 1/1 (frame 880/1332) /content/video.mp4: 384x640 1 Car, 1 Cyclist, 18.3ms\n",
            "video 1/1 (frame 881/1332) /content/video.mp4: 384x640 1 Car, 20.5ms\n",
            "video 1/1 (frame 882/1332) /content/video.mp4: 384x640 1 Car, 18.9ms\n",
            "video 1/1 (frame 883/1332) /content/video.mp4: 384x640 1 Car, 1 Cyclist, 18.4ms\n",
            "video 1/1 (frame 884/1332) /content/video.mp4: 384x640 2 Cars, 18.9ms\n",
            "video 1/1 (frame 885/1332) /content/video.mp4: 384x640 1 Car, 2 Cyclists, 18.6ms\n",
            "video 1/1 (frame 886/1332) /content/video.mp4: 384x640 1 Car, 21.0ms\n",
            "video 1/1 (frame 887/1332) /content/video.mp4: 384x640 1 Car, 1 Cyclist, 18.4ms\n",
            "video 1/1 (frame 888/1332) /content/video.mp4: 384x640 1 Car, 1 Cyclist, 20.5ms\n",
            "video 1/1 (frame 889/1332) /content/video.mp4: 384x640 1 Car, 1 Cyclist, 19.0ms\n",
            "video 1/1 (frame 890/1332) /content/video.mp4: 384x640 1 Car, 19.9ms\n",
            "video 1/1 (frame 891/1332) /content/video.mp4: 384x640 1 Car, 18.6ms\n",
            "video 1/1 (frame 892/1332) /content/video.mp4: 384x640 1 Car, 1 Pedestrian, 21.4ms\n",
            "video 1/1 (frame 893/1332) /content/video.mp4: 384x640 2 Cars, 2 Pedestrians, 1 Van, 20.9ms\n",
            "video 1/1 (frame 894/1332) /content/video.mp4: 384x640 1 Car, 2 Pedestrians, 19.6ms\n",
            "video 1/1 (frame 895/1332) /content/video.mp4: 384x640 1 Car, 2 Pedestrians, 1 Van, 19.8ms\n",
            "video 1/1 (frame 896/1332) /content/video.mp4: 384x640 1 Car, 2 Pedestrians, 1 Van, 23.6ms\n",
            "video 1/1 (frame 897/1332) /content/video.mp4: 384x640 1 Car, 1 Pedestrian, 1 Van, 1 Cyclist, 18.4ms\n",
            "video 1/1 (frame 898/1332) /content/video.mp4: 384x640 1 Car, 2 Vans, 1 Cyclist, 18.4ms\n",
            "video 1/1 (frame 899/1332) /content/video.mp4: 384x640 2 Vans, 1 Cyclist, 19.2ms\n",
            "video 1/1 (frame 900/1332) /content/video.mp4: 384x640 1 Car, 1 Pedestrian, 1 Van, 1 Cyclist, 20.6ms\n",
            "video 1/1 (frame 901/1332) /content/video.mp4: 384x640 1 Car, 1 Pedestrian, 1 Van, 1 Cyclist, 18.8ms\n",
            "video 1/1 (frame 902/1332) /content/video.mp4: 384x640 1 Car, 1 Pedestrian, 1 Van, 1 Cyclist, 20.0ms\n",
            "video 1/1 (frame 903/1332) /content/video.mp4: 384x640 1 Car, 1 Pedestrian, 1 Van, 20.3ms\n",
            "video 1/1 (frame 904/1332) /content/video.mp4: 384x640 1 Car, 1 Van, 1 Cyclist, 20.5ms\n",
            "video 1/1 (frame 905/1332) /content/video.mp4: 384x640 1 Car, 1 Van, 34.5ms\n",
            "video 1/1 (frame 906/1332) /content/video.mp4: 384x640 1 Car, 1 Van, 22.1ms\n",
            "video 1/1 (frame 907/1332) /content/video.mp4: 384x640 1 Car, 1 Van, 1 Cyclist, 22.6ms\n",
            "video 1/1 (frame 908/1332) /content/video.mp4: 384x640 1 Car, 1 Van, 20.2ms\n",
            "video 1/1 (frame 909/1332) /content/video.mp4: 384x640 1 Car, 1 Van, 1 Cyclist, 1 Misc, 21.0ms\n",
            "video 1/1 (frame 910/1332) /content/video.mp4: 384x640 1 Car, 1 Van, 1 Cyclist, 20.2ms\n",
            "video 1/1 (frame 911/1332) /content/video.mp4: 384x640 1 Car, 1 Van, 1 Cyclist, 20.5ms\n",
            "video 1/1 (frame 912/1332) /content/video.mp4: 384x640 2 Cars, 1 Pedestrian, 1 Van, 1 Cyclist, 20.2ms\n",
            "video 1/1 (frame 913/1332) /content/video.mp4: 384x640 2 Cars, 1 Pedestrian, 1 Van, 1 Cyclist, 20.2ms\n",
            "video 1/1 (frame 914/1332) /content/video.mp4: 384x640 2 Cars, 2 Pedestrians, 1 Van, 1 Cyclist, 20.3ms\n",
            "video 1/1 (frame 915/1332) /content/video.mp4: 384x640 2 Cars, 2 Pedestrians, 1 Van, 20.0ms\n",
            "video 1/1 (frame 916/1332) /content/video.mp4: 384x640 2 Cars, 1 Van, 20.0ms\n",
            "video 1/1 (frame 917/1332) /content/video.mp4: 384x640 2 Cars, 2 Pedestrians, 1 Van, 1 Cyclist, 20.3ms\n",
            "video 1/1 (frame 918/1332) /content/video.mp4: 384x640 2 Cars, 2 Pedestrians, 1 Van, 1 Cyclist, 21.5ms\n",
            "video 1/1 (frame 919/1332) /content/video.mp4: 384x640 1 Car, 2 Pedestrians, 1 Van, 20.2ms\n",
            "video 1/1 (frame 920/1332) /content/video.mp4: 384x640 2 Cars, 2 Pedestrians, 1 Van, 20.0ms\n",
            "video 1/1 (frame 921/1332) /content/video.mp4: 384x640 1 Car, 1 Pedestrian, 1 Van, 20.5ms\n",
            "video 1/1 (frame 922/1332) /content/video.mp4: 384x640 1 Car, 2 Pedestrians, 1 Van, 1 Misc, 20.9ms\n",
            "video 1/1 (frame 923/1332) /content/video.mp4: 384x640 1 Car, 2 Pedestrians, 1 Van, 1 Misc, 26.9ms\n",
            "video 1/1 (frame 924/1332) /content/video.mp4: 384x640 1 Car, 2 Pedestrians, 1 Van, 1 Misc, 23.5ms\n",
            "video 1/1 (frame 925/1332) /content/video.mp4: 384x640 2 Cars, 1 Pedestrian, 1 Van, 24.6ms\n",
            "video 1/1 (frame 926/1332) /content/video.mp4: 384x640 2 Cars, 1 Pedestrian, 1 Van, 22.5ms\n",
            "video 1/1 (frame 927/1332) /content/video.mp4: 384x640 2 Cars, 1 Pedestrian, 1 Van, 20.6ms\n",
            "video 1/1 (frame 928/1332) /content/video.mp4: 384x640 1 Car, 1 Pedestrian, 1 Van, 21.1ms\n",
            "video 1/1 (frame 929/1332) /content/video.mp4: 384x640 2 Cars, 1 Pedestrian, 1 Van, 1 Misc, 20.3ms\n",
            "video 1/1 (frame 930/1332) /content/video.mp4: 384x640 2 Cars, 1 Pedestrian, 1 Van, 1 Misc, 20.7ms\n",
            "video 1/1 (frame 931/1332) /content/video.mp4: 384x640 2 Cars, 1 Pedestrian, 1 Van, 1 Misc, 20.3ms\n",
            "video 1/1 (frame 932/1332) /content/video.mp4: 384x640 2 Cars, 1 Pedestrian, 1 Van, 1 Misc, 20.3ms\n",
            "video 1/1 (frame 933/1332) /content/video.mp4: 384x640 2 Cars, 1 Pedestrian, 1 Van, 20.2ms\n",
            "video 1/1 (frame 934/1332) /content/video.mp4: 384x640 2 Cars, 1 Van, 21.2ms\n",
            "video 1/1 (frame 935/1332) /content/video.mp4: 384x640 2 Cars, 1 Van, 20.2ms\n",
            "video 1/1 (frame 936/1332) /content/video.mp4: 384x640 2 Cars, 1 Van, 1 Misc, 20.0ms\n",
            "video 1/1 (frame 937/1332) /content/video.mp4: 384x640 2 Cars, 1 Pedestrian, 1 Van, 1 Misc, 20.2ms\n",
            "video 1/1 (frame 938/1332) /content/video.mp4: 384x640 1 Car, 1 Pedestrian, 1 Van, 1 Misc, 20.2ms\n",
            "video 1/1 (frame 939/1332) /content/video.mp4: 384x640 2 Cars, 1 Pedestrian, 1 Van, 1 Misc, 20.1ms\n",
            "video 1/1 (frame 940/1332) /content/video.mp4: 384x640 1 Car, 1 Pedestrian, 1 Van, 20.3ms\n",
            "video 1/1 (frame 941/1332) /content/video.mp4: 384x640 1 Car, 1 Van, 20.3ms\n",
            "video 1/1 (frame 942/1332) /content/video.mp4: 384x640 1 Car, 1 Van, 1 Misc, 23.6ms\n",
            "video 1/1 (frame 943/1332) /content/video.mp4: 384x640 1 Car, 1 Van, 1 Cyclist, 23.5ms\n",
            "video 1/1 (frame 944/1332) /content/video.mp4: 384x640 1 Car, 1 Van, 1 Cyclist, 20.2ms\n",
            "video 1/1 (frame 945/1332) /content/video.mp4: 384x640 2 Cars, 1 Pedestrian, 1 Van, 1 Cyclist, 1 Misc, 20.1ms\n",
            "video 1/1 (frame 946/1332) /content/video.mp4: 384x640 2 Cars, 1 Pedestrian, 1 Van, 1 Cyclist, 1 Misc, 20.1ms\n",
            "video 1/1 (frame 947/1332) /content/video.mp4: 384x640 2 Cars, 1 Pedestrian, 1 Van, 1 Cyclist, 1 Misc, 21.3ms\n",
            "video 1/1 (frame 948/1332) /content/video.mp4: 384x640 1 Car, 1 Pedestrian, 1 Van, 1 Cyclist, 1 Misc, 20.1ms\n",
            "video 1/1 (frame 949/1332) /content/video.mp4: 384x640 1 Car, 1 Pedestrian, 1 Van, 1 Cyclist, 20.4ms\n",
            "video 1/1 (frame 950/1332) /content/video.mp4: 384x640 1 Car, 1 Pedestrian, 1 Van, 1 Cyclist, 20.3ms\n",
            "video 1/1 (frame 951/1332) /content/video.mp4: 384x640 1 Car, 1 Van, 1 Cyclist, 20.2ms\n",
            "video 1/1 (frame 952/1332) /content/video.mp4: 384x640 1 Car, 1 Van, 1 Cyclist, 20.2ms\n",
            "video 1/1 (frame 953/1332) /content/video.mp4: 384x640 1 Car, 1 Van, 1 Cyclist, 20.3ms\n",
            "video 1/1 (frame 954/1332) /content/video.mp4: 384x640 2 Cars, 1 Van, 1 Cyclist, 20.2ms\n",
            "video 1/1 (frame 955/1332) /content/video.mp4: 384x640 2 Cars, 1 Pedestrian, 1 Van, 1 Cyclist, 1 Misc, 21.5ms\n",
            "video 1/1 (frame 956/1332) /content/video.mp4: 384x640 2 Cars, 1 Pedestrian, 1 Van, 1 Cyclist, 20.1ms\n",
            "video 1/1 (frame 957/1332) /content/video.mp4: 384x640 2 Cars, 1 Pedestrian, 1 Van, 1 Cyclist, 20.1ms\n",
            "video 1/1 (frame 958/1332) /content/video.mp4: 384x640 2 Cars, 1 Pedestrian, 1 Van, 1 Cyclist, 20.3ms\n",
            "video 1/1 (frame 959/1332) /content/video.mp4: 384x640 2 Cars, 1 Pedestrian, 1 Van, 1 Cyclist, 1 Misc, 20.2ms\n",
            "video 1/1 (frame 960/1332) /content/video.mp4: 384x640 2 Cars, 1 Pedestrian, 1 Van, 1 Cyclist, 20.3ms\n",
            "video 1/1 (frame 961/1332) /content/video.mp4: 384x640 2 Cars, 1 Pedestrian, 1 Van, 1 Cyclist, 21.9ms\n",
            "video 1/1 (frame 962/1332) /content/video.mp4: 384x640 2 Cars, 1 Pedestrian, 1 Van, 1 Cyclist, 30.9ms\n",
            "video 1/1 (frame 963/1332) /content/video.mp4: 384x640 2 Cars, 1 Pedestrian, 1 Van, 1 Cyclist, 20.2ms\n",
            "video 1/1 (frame 964/1332) /content/video.mp4: 384x640 2 Cars, 1 Pedestrian, 1 Van, 1 Cyclist, 20.1ms\n",
            "video 1/1 (frame 965/1332) /content/video.mp4: 384x640 1 Car, 1 Pedestrian, 1 Van, 1 Cyclist, 20.1ms\n",
            "video 1/1 (frame 966/1332) /content/video.mp4: 384x640 1 Car, 1 Pedestrian, 1 Van, 2 Cyclists, 20.1ms\n",
            "video 1/1 (frame 967/1332) /content/video.mp4: 384x640 3 Cars, 1 Pedestrian, 1 Van, 1 Cyclist, 20.2ms\n",
            "video 1/1 (frame 968/1332) /content/video.mp4: 384x640 2 Cars, 1 Pedestrian, 1 Van, 1 Cyclist, 20.3ms\n",
            "video 1/1 (frame 969/1332) /content/video.mp4: 384x640 2 Cars, 1 Pedestrian, 1 Van, 1 Cyclist, 20.2ms\n",
            "video 1/1 (frame 970/1332) /content/video.mp4: 384x640 3 Cars, 1 Van, 2 Cyclists, 22.1ms\n",
            "video 1/1 (frame 971/1332) /content/video.mp4: 384x640 4 Cars, 1 Van, 1 Cyclist, 20.1ms\n",
            "video 1/1 (frame 972/1332) /content/video.mp4: 384x640 3 Cars, 1 Van, 3 Cyclists, 22.2ms\n",
            "video 1/1 (frame 973/1332) /content/video.mp4: 384x640 3 Cars, 1 Van, 1 Cyclist, 23.1ms\n",
            "video 1/1 (frame 974/1332) /content/video.mp4: 384x640 3 Cars, 1 Van, 1 Cyclist, 20.6ms\n",
            "video 1/1 (frame 975/1332) /content/video.mp4: 384x640 2 Cars, 1 Van, 1 Cyclist, 27.0ms\n",
            "video 1/1 (frame 976/1332) /content/video.mp4: 384x640 3 Cars, 1 Van, 1 Cyclist, 21.2ms\n",
            "video 1/1 (frame 977/1332) /content/video.mp4: 384x640 3 Cars, 1 Van, 2 Cyclists, 28.0ms\n",
            "video 1/1 (frame 978/1332) /content/video.mp4: 384x640 2 Cars, 1 Van, 1 Cyclist, 20.4ms\n",
            "video 1/1 (frame 979/1332) /content/video.mp4: 384x640 2 Cars, 1 Van, 1 Cyclist, 20.1ms\n",
            "video 1/1 (frame 980/1332) /content/video.mp4: 384x640 2 Cars, 1 Van, 1 Cyclist, 22.3ms\n",
            "video 1/1 (frame 981/1332) /content/video.mp4: 384x640 2 Cars, 2 Vans, 2 Cyclists, 20.2ms\n",
            "video 1/1 (frame 982/1332) /content/video.mp4: 384x640 2 Cars, 2 Vans, 1 Cyclist, 20.0ms\n",
            "video 1/1 (frame 983/1332) /content/video.mp4: 384x640 3 Cars, 1 Van, 1 Cyclist, 20.1ms\n",
            "video 1/1 (frame 984/1332) /content/video.mp4: 384x640 2 Cars, 1 Van, 1 Cyclist, 22.6ms\n",
            "video 1/1 (frame 985/1332) /content/video.mp4: 384x640 2 Cars, 1 Van, 1 Cyclist, 22.3ms\n",
            "video 1/1 (frame 986/1332) /content/video.mp4: 384x640 2 Cars, 1 Van, 1 Cyclist, 20.2ms\n",
            "video 1/1 (frame 987/1332) /content/video.mp4: 384x640 2 Cars, 1 Van, 1 Cyclist, 20.3ms\n",
            "video 1/1 (frame 988/1332) /content/video.mp4: 384x640 3 Cars, 1 Pedestrian, 2 Vans, 1 Cyclist, 20.2ms\n",
            "video 1/1 (frame 989/1332) /content/video.mp4: 384x640 3 Cars, 1 Van, 1 Cyclist, 19.8ms\n",
            "video 1/1 (frame 990/1332) /content/video.mp4: 384x640 2 Cars, 1 Van, 1 Cyclist, 21.1ms\n",
            "video 1/1 (frame 991/1332) /content/video.mp4: 384x640 2 Cars, 2 Vans, 1 Cyclist, 20.1ms\n",
            "video 1/1 (frame 992/1332) /content/video.mp4: 384x640 2 Cars, 2 Vans, 1 Cyclist, 20.1ms\n",
            "video 1/1 (frame 993/1332) /content/video.mp4: 384x640 2 Cars, 1 Van, 2 Cyclists, 20.1ms\n",
            "video 1/1 (frame 994/1332) /content/video.mp4: 384x640 2 Cars, 1 Van, 2 Cyclists, 21.4ms\n",
            "video 1/1 (frame 995/1332) /content/video.mp4: 384x640 3 Cars, 1 Van, 2 Cyclists, 23.8ms\n",
            "video 1/1 (frame 996/1332) /content/video.mp4: 384x640 3 Cars, 1 Van, 2 Cyclists, 21.6ms\n",
            "video 1/1 (frame 997/1332) /content/video.mp4: 384x640 3 Cars, 1 Van, 2 Cyclists, 20.9ms\n",
            "video 1/1 (frame 998/1332) /content/video.mp4: 384x640 3 Cars, 1 Van, 1 Cyclist, 21.2ms\n",
            "video 1/1 (frame 999/1332) /content/video.mp4: 384x640 2 Cars, 1 Van, 2 Cyclists, 27.0ms\n",
            "video 1/1 (frame 1000/1332) /content/video.mp4: 384x640 2 Cars, 1 Van, 1 Cyclist, 26.1ms\n",
            "video 1/1 (frame 1001/1332) /content/video.mp4: 384x640 3 Cars, 1 Van, 2 Cyclists, 25.1ms\n",
            "video 1/1 (frame 1002/1332) /content/video.mp4: 384x640 3 Cars, 2 Vans, 1 Cyclist, 1 Misc, 22.2ms\n",
            "video 1/1 (frame 1003/1332) /content/video.mp4: 384x640 3 Cars, 2 Vans, 1 Cyclist, 21.8ms\n",
            "video 1/1 (frame 1004/1332) /content/video.mp4: 384x640 3 Cars, 1 Van, 1 Cyclist, 21.8ms\n",
            "video 1/1 (frame 1005/1332) /content/video.mp4: 384x640 3 Cars, 1 Van, 1 Cyclist, 20.6ms\n",
            "video 1/1 (frame 1006/1332) /content/video.mp4: 384x640 2 Cars, 1 Van, 1 Cyclist, 20.7ms\n",
            "video 1/1 (frame 1007/1332) /content/video.mp4: 384x640 3 Cars, 1 Cyclist, 20.3ms\n",
            "video 1/1 (frame 1008/1332) /content/video.mp4: 384x640 2 Cars, 1 Van, 1 Cyclist, 20.2ms\n",
            "video 1/1 (frame 1009/1332) /content/video.mp4: 384x640 3 Cars, 1 Van, 1 Cyclist, 23.1ms\n",
            "video 1/1 (frame 1010/1332) /content/video.mp4: 384x640 3 Cars, 1 Van, 1 Cyclist, 20.3ms\n",
            "video 1/1 (frame 1011/1332) /content/video.mp4: 384x640 2 Cars, 1 Van, 1 Cyclist, 20.6ms\n",
            "video 1/1 (frame 1012/1332) /content/video.mp4: 384x640 4 Cars, 1 Van, 1 Cyclist, 19.3ms\n",
            "video 1/1 (frame 1013/1332) /content/video.mp4: 384x640 3 Cars, 1 Pedestrian, 2 Vans, 19.9ms\n",
            "video 1/1 (frame 1014/1332) /content/video.mp4: 384x640 3 Cars, 1 Pedestrian, 2 Vans, 19.0ms\n",
            "video 1/1 (frame 1015/1332) /content/video.mp4: 384x640 3 Cars, 1 Pedestrian, 1 Van, 20.9ms\n",
            "video 1/1 (frame 1016/1332) /content/video.mp4: 384x640 2 Cars, 1 Van, 1 Cyclist, 19.2ms\n",
            "video 1/1 (frame 1017/1332) /content/video.mp4: 384x640 2 Cars, 1 Van, 1 Cyclist, 20.5ms\n",
            "video 1/1 (frame 1018/1332) /content/video.mp4: 384x640 3 Cars, 1 Van, 1 Cyclist, 19.2ms\n",
            "video 1/1 (frame 1019/1332) /content/video.mp4: 384x640 4 Cars, 1 Van, 2 Cyclists, 18.9ms\n",
            "video 1/1 (frame 1020/1332) /content/video.mp4: 384x640 4 Cars, 1 Van, 1 Cyclist, 18.9ms\n",
            "video 1/1 (frame 1021/1332) /content/video.mp4: 384x640 4 Cars, 1 Van, 2 Cyclists, 24.1ms\n",
            "video 1/1 (frame 1022/1332) /content/video.mp4: 384x640 4 Cars, 1 Pedestrian, 1 Van, 1 Cyclist, 18.4ms\n",
            "video 1/1 (frame 1023/1332) /content/video.mp4: 384x640 3 Cars, 1 Van, 1 Cyclist, 19.5ms\n",
            "video 1/1 (frame 1024/1332) /content/video.mp4: 384x640 2 Cars, 1 Van, 1 Cyclist, 18.9ms\n",
            "video 1/1 (frame 1025/1332) /content/video.mp4: 384x640 4 Cars, 1 Van, 1 Cyclist, 19.0ms\n",
            "video 1/1 (frame 1026/1332) /content/video.mp4: 384x640 4 Cars, 1 Van, 1 Cyclist, 18.5ms\n",
            "video 1/1 (frame 1027/1332) /content/video.mp4: 384x640 3 Cars, 1 Van, 1 Cyclist, 18.8ms\n",
            "video 1/1 (frame 1028/1332) /content/video.mp4: 384x640 4 Cars, 1 Van, 1 Cyclist, 18.4ms\n",
            "video 1/1 (frame 1029/1332) /content/video.mp4: 384x640 5 Cars, 1 Van, 2 Cyclists, 19.7ms\n",
            "video 1/1 (frame 1030/1332) /content/video.mp4: 384x640 4 Cars, 1 Van, 2 Cyclists, 20.1ms\n",
            "video 1/1 (frame 1031/1332) /content/video.mp4: 384x640 6 Cars, 1 Van, 1 Cyclist, 18.9ms\n",
            "video 1/1 (frame 1032/1332) /content/video.mp4: 384x640 7 Cars, 1 Van, 2 Cyclists, 18.5ms\n",
            "video 1/1 (frame 1033/1332) /content/video.mp4: 384x640 7 Cars, 1 Van, 1 Cyclist, 19.2ms\n",
            "video 1/1 (frame 1034/1332) /content/video.mp4: 384x640 6 Cars, 1 Pedestrian, 1 Van, 1 Cyclist, 18.9ms\n",
            "video 1/1 (frame 1035/1332) /content/video.mp4: 384x640 5 Cars, 1 Van, 1 Cyclist, 19.4ms\n",
            "video 1/1 (frame 1036/1332) /content/video.mp4: 384x640 5 Cars, 1 Van, 1 Cyclist, 18.9ms\n",
            "video 1/1 (frame 1037/1332) /content/video.mp4: 384x640 5 Cars, 1 Van, 2 Cyclists, 22.9ms\n",
            "video 1/1 (frame 1038/1332) /content/video.mp4: 384x640 5 Cars, 1 Van, 2 Cyclists, 19.6ms\n",
            "video 1/1 (frame 1039/1332) /content/video.mp4: 384x640 (no detections), 18.9ms\n",
            "video 1/1 (frame 1040/1332) /content/video.mp4: 384x640 (no detections), 19.0ms\n",
            "video 1/1 (frame 1041/1332) /content/video.mp4: 384x640 (no detections), 19.0ms\n",
            "video 1/1 (frame 1042/1332) /content/video.mp4: 384x640 (no detections), 19.0ms\n",
            "video 1/1 (frame 1043/1332) /content/video.mp4: 384x640 (no detections), 18.9ms\n",
            "video 1/1 (frame 1044/1332) /content/video.mp4: 384x640 (no detections), 18.9ms\n",
            "video 1/1 (frame 1045/1332) /content/video.mp4: 384x640 (no detections), 18.5ms\n",
            "video 1/1 (frame 1046/1332) /content/video.mp4: 384x640 (no detections), 18.3ms\n",
            "video 1/1 (frame 1047/1332) /content/video.mp4: 384x640 (no detections), 18.8ms\n",
            "video 1/1 (frame 1048/1332) /content/video.mp4: 384x640 (no detections), 20.2ms\n",
            "video 1/1 (frame 1049/1332) /content/video.mp4: 384x640 (no detections), 18.7ms\n",
            "video 1/1 (frame 1050/1332) /content/video.mp4: 384x640 (no detections), 18.2ms\n",
            "video 1/1 (frame 1051/1332) /content/video.mp4: 384x640 (no detections), 19.4ms\n",
            "video 1/1 (frame 1052/1332) /content/video.mp4: 384x640 (no detections), 19.2ms\n",
            "video 1/1 (frame 1053/1332) /content/video.mp4: 384x640 (no detections), 18.6ms\n",
            "video 1/1 (frame 1054/1332) /content/video.mp4: 384x640 (no detections), 19.3ms\n",
            "video 1/1 (frame 1055/1332) /content/video.mp4: 384x640 1 Cyclist, 18.4ms\n",
            "video 1/1 (frame 1056/1332) /content/video.mp4: 384x640 1 Cyclist, 18.7ms\n",
            "video 1/1 (frame 1057/1332) /content/video.mp4: 384x640 1 Cyclist, 18.0ms\n",
            "video 1/1 (frame 1058/1332) /content/video.mp4: 384x640 1 Cyclist, 19.0ms\n",
            "video 1/1 (frame 1059/1332) /content/video.mp4: 384x640 1 Cyclist, 18.4ms\n",
            "video 1/1 (frame 1060/1332) /content/video.mp4: 384x640 1 Cyclist, 19.5ms\n",
            "video 1/1 (frame 1061/1332) /content/video.mp4: 384x640 1 Cyclist, 19.0ms\n",
            "video 1/1 (frame 1062/1332) /content/video.mp4: 384x640 (no detections), 18.1ms\n",
            "video 1/1 (frame 1063/1332) /content/video.mp4: 384x640 1 Cyclist, 18.7ms\n",
            "video 1/1 (frame 1064/1332) /content/video.mp4: 384x640 1 Cyclist, 18.7ms\n",
            "video 1/1 (frame 1065/1332) /content/video.mp4: 384x640 1 Cyclist, 19.4ms\n",
            "video 1/1 (frame 1066/1332) /content/video.mp4: 384x640 2 Cyclists, 19.0ms\n",
            "video 1/1 (frame 1067/1332) /content/video.mp4: 384x640 2 Cyclists, 18.9ms\n",
            "video 1/1 (frame 1068/1332) /content/video.mp4: 384x640 1 Cyclist, 18.9ms\n",
            "video 1/1 (frame 1069/1332) /content/video.mp4: 384x640 1 Cyclist, 20.6ms\n",
            "video 1/1 (frame 1070/1332) /content/video.mp4: 384x640 1 Cyclist, 18.8ms\n",
            "video 1/1 (frame 1071/1332) /content/video.mp4: 384x640 1 Cyclist, 18.8ms\n",
            "video 1/1 (frame 1072/1332) /content/video.mp4: 384x640 1 Cyclist, 19.0ms\n",
            "video 1/1 (frame 1073/1332) /content/video.mp4: 384x640 1 Cyclist, 21.6ms\n",
            "video 1/1 (frame 1074/1332) /content/video.mp4: 384x640 1 Cyclist, 19.0ms\n",
            "video 1/1 (frame 1075/1332) /content/video.mp4: 384x640 (no detections), 20.0ms\n",
            "video 1/1 (frame 1076/1332) /content/video.mp4: 384x640 (no detections), 19.1ms\n",
            "video 1/1 (frame 1077/1332) /content/video.mp4: 384x640 1 Cyclist, 19.4ms\n",
            "video 1/1 (frame 1078/1332) /content/video.mp4: 384x640 1 Cyclist, 20.8ms\n",
            "video 1/1 (frame 1079/1332) /content/video.mp4: 384x640 1 Cyclist, 19.3ms\n",
            "video 1/1 (frame 1080/1332) /content/video.mp4: 384x640 1 Cyclist, 18.8ms\n",
            "video 1/1 (frame 1081/1332) /content/video.mp4: 384x640 1 Cyclist, 19.3ms\n",
            "video 1/1 (frame 1082/1332) /content/video.mp4: 384x640 1 Cyclist, 21.2ms\n",
            "video 1/1 (frame 1083/1332) /content/video.mp4: 384x640 1 Cyclist, 18.6ms\n",
            "video 1/1 (frame 1084/1332) /content/video.mp4: 384x640 1 Cyclist, 18.1ms\n",
            "video 1/1 (frame 1085/1332) /content/video.mp4: 384x640 1 Cyclist, 18.7ms\n",
            "video 1/1 (frame 1086/1332) /content/video.mp4: 384x640 1 Cyclist, 19.0ms\n",
            "video 1/1 (frame 1087/1332) /content/video.mp4: 384x640 1 Cyclist, 20.2ms\n",
            "video 1/1 (frame 1088/1332) /content/video.mp4: 384x640 1 Cyclist, 19.1ms\n",
            "video 1/1 (frame 1089/1332) /content/video.mp4: 384x640 1 Cyclist, 19.0ms\n",
            "video 1/1 (frame 1090/1332) /content/video.mp4: 384x640 (no detections), 18.8ms\n",
            "video 1/1 (frame 1091/1332) /content/video.mp4: 384x640 (no detections), 18.8ms\n",
            "video 1/1 (frame 1092/1332) /content/video.mp4: 384x640 (no detections), 18.8ms\n",
            "video 1/1 (frame 1093/1332) /content/video.mp4: 384x640 (no detections), 18.9ms\n",
            "video 1/1 (frame 1094/1332) /content/video.mp4: 384x640 (no detections), 19.1ms\n",
            "video 1/1 (frame 1095/1332) /content/video.mp4: 384x640 (no detections), 18.7ms\n",
            "video 1/1 (frame 1096/1332) /content/video.mp4: 384x640 (no detections), 18.6ms\n",
            "video 1/1 (frame 1097/1332) /content/video.mp4: 384x640 (no detections), 18.7ms\n",
            "video 1/1 (frame 1098/1332) /content/video.mp4: 384x640 (no detections), 19.0ms\n",
            "video 1/1 (frame 1099/1332) /content/video.mp4: 384x640 (no detections), 18.8ms\n",
            "video 1/1 (frame 1100/1332) /content/video.mp4: 384x640 (no detections), 18.3ms\n",
            "video 1/1 (frame 1101/1332) /content/video.mp4: 384x640 (no detections), 18.3ms\n",
            "video 1/1 (frame 1102/1332) /content/video.mp4: 384x640 1 Pedestrian, 18.8ms\n",
            "video 1/1 (frame 1103/1332) /content/video.mp4: 384x640 1 Pedestrian, 19.9ms\n",
            "video 1/1 (frame 1104/1332) /content/video.mp4: 384x640 3 Pedestrians, 18.9ms\n",
            "video 1/1 (frame 1105/1332) /content/video.mp4: 384x640 3 Pedestrians, 18.9ms\n",
            "video 1/1 (frame 1106/1332) /content/video.mp4: 384x640 1 Pedestrian, 19.0ms\n",
            "video 1/1 (frame 1107/1332) /content/video.mp4: 384x640 1 Pedestrian, 21.8ms\n",
            "video 1/1 (frame 1108/1332) /content/video.mp4: 384x640 3 Pedestrians, 1 Cyclist, 17.9ms\n",
            "video 1/1 (frame 1109/1332) /content/video.mp4: 384x640 1 Pedestrian, 1 Cyclist, 19.4ms\n",
            "video 1/1 (frame 1110/1332) /content/video.mp4: 384x640 3 Pedestrians, 21.9ms\n",
            "video 1/1 (frame 1111/1332) /content/video.mp4: 384x640 3 Pedestrians, 19.0ms\n",
            "video 1/1 (frame 1112/1332) /content/video.mp4: 384x640 2 Pedestrians, 19.9ms\n",
            "video 1/1 (frame 1113/1332) /content/video.mp4: 384x640 2 Pedestrians, 19.2ms\n",
            "video 1/1 (frame 1114/1332) /content/video.mp4: 384x640 1 Pedestrian, 1 Cyclist, 19.6ms\n",
            "video 1/1 (frame 1115/1332) /content/video.mp4: 384x640 1 Pedestrian, 19.0ms\n",
            "video 1/1 (frame 1116/1332) /content/video.mp4: 384x640 1 Pedestrian, 20.1ms\n",
            "video 1/1 (frame 1117/1332) /content/video.mp4: 384x640 2 Pedestrians, 18.9ms\n",
            "video 1/1 (frame 1118/1332) /content/video.mp4: 384x640 1 Pedestrian, 18.4ms\n",
            "video 1/1 (frame 1119/1332) /content/video.mp4: 384x640 1 Pedestrian, 18.0ms\n",
            "video 1/1 (frame 1120/1332) /content/video.mp4: 384x640 1 Cyclist, 18.5ms\n",
            "video 1/1 (frame 1121/1332) /content/video.mp4: 384x640 1 Cyclist, 18.4ms\n",
            "video 1/1 (frame 1122/1332) /content/video.mp4: 384x640 1 Cyclist, 19.2ms\n",
            "video 1/1 (frame 1123/1332) /content/video.mp4: 384x640 1 Cyclist, 20.6ms\n",
            "video 1/1 (frame 1124/1332) /content/video.mp4: 384x640 1 Cyclist, 18.4ms\n",
            "video 1/1 (frame 1125/1332) /content/video.mp4: 384x640 1 Cyclist, 18.8ms\n",
            "video 1/1 (frame 1126/1332) /content/video.mp4: 384x640 1 Cyclist, 18.7ms\n",
            "video 1/1 (frame 1127/1332) /content/video.mp4: 384x640 1 Pedestrian, 1 Cyclist, 18.8ms\n",
            "video 1/1 (frame 1128/1332) /content/video.mp4: 384x640 1 Pedestrian, 1 Cyclist, 19.6ms\n",
            "video 1/1 (frame 1129/1332) /content/video.mp4: 384x640 1 Pedestrian, 1 Cyclist, 18.0ms\n",
            "video 1/1 (frame 1130/1332) /content/video.mp4: 384x640 1 Pedestrian, 1 Cyclist, 19.8ms\n",
            "video 1/1 (frame 1131/1332) /content/video.mp4: 384x640 1 Pedestrian, 1 Cyclist, 18.3ms\n",
            "video 1/1 (frame 1132/1332) /content/video.mp4: 384x640 1 Pedestrian, 1 Cyclist, 19.0ms\n",
            "video 1/1 (frame 1133/1332) /content/video.mp4: 384x640 1 Pedestrian, 1 Cyclist, 19.3ms\n",
            "video 1/1 (frame 1134/1332) /content/video.mp4: 384x640 1 Pedestrian, 1 Cyclist, 18.0ms\n",
            "video 1/1 (frame 1135/1332) /content/video.mp4: 384x640 1 Pedestrian, 2 Cyclists, 18.3ms\n",
            "video 1/1 (frame 1136/1332) /content/video.mp4: 384x640 1 Pedestrian, 1 Cyclist, 19.6ms\n",
            "video 1/1 (frame 1137/1332) /content/video.mp4: 384x640 2 Pedestrians, 1 Cyclist, 18.8ms\n",
            "video 1/1 (frame 1138/1332) /content/video.mp4: 384x640 1 Pedestrian, 1 Cyclist, 19.3ms\n",
            "video 1/1 (frame 1139/1332) /content/video.mp4: 384x640 1 Pedestrian, 1 Cyclist, 18.3ms\n",
            "video 1/1 (frame 1140/1332) /content/video.mp4: 384x640 1 Pedestrian, 1 Cyclist, 18.1ms\n",
            "video 1/1 (frame 1141/1332) /content/video.mp4: 384x640 1 Pedestrian, 1 Cyclist, 28.3ms\n",
            "video 1/1 (frame 1142/1332) /content/video.mp4: 384x640 1 Cyclist, 19.0ms\n",
            "video 1/1 (frame 1143/1332) /content/video.mp4: 384x640 1 Cyclist, 18.8ms\n",
            "video 1/1 (frame 1144/1332) /content/video.mp4: 384x640 1 Cyclist, 20.2ms\n",
            "video 1/1 (frame 1145/1332) /content/video.mp4: 384x640 1 Pedestrian, 1 Cyclist, 19.0ms\n",
            "video 1/1 (frame 1146/1332) /content/video.mp4: 384x640 1 Pedestrian, 1 Cyclist, 19.8ms\n",
            "video 1/1 (frame 1147/1332) /content/video.mp4: 384x640 1 Pedestrian, 1 Cyclist, 18.6ms\n",
            "video 1/1 (frame 1148/1332) /content/video.mp4: 384x640 1 Pedestrian, 1 Cyclist, 18.7ms\n",
            "video 1/1 (frame 1149/1332) /content/video.mp4: 384x640 2 Cyclists, 18.5ms\n",
            "video 1/1 (frame 1150/1332) /content/video.mp4: 384x640 2 Cyclists, 18.4ms\n",
            "video 1/1 (frame 1151/1332) /content/video.mp4: 384x640 2 Pedestrians, 1 Cyclist, 18.6ms\n",
            "video 1/1 (frame 1152/1332) /content/video.mp4: 384x640 1 Pedestrian, 1 Cyclist, 18.6ms\n",
            "video 1/1 (frame 1153/1332) /content/video.mp4: 384x640 1 Pedestrian, 1 Cyclist, 19.5ms\n",
            "video 1/1 (frame 1154/1332) /content/video.mp4: 384x640 2 Cyclists, 18.8ms\n",
            "video 1/1 (frame 1155/1332) /content/video.mp4: 384x640 2 Cyclists, 23.1ms\n",
            "video 1/1 (frame 1156/1332) /content/video.mp4: 384x640 1 Pedestrian, 1 Cyclist, 19.4ms\n",
            "video 1/1 (frame 1157/1332) /content/video.mp4: 384x640 1 Pedestrian, 1 Cyclist, 18.2ms\n",
            "video 1/1 (frame 1158/1332) /content/video.mp4: 384x640 1 Pedestrian, 2 Cyclists, 18.3ms\n",
            "video 1/1 (frame 1159/1332) /content/video.mp4: 384x640 1 Cyclist, 18.5ms\n",
            "video 1/1 (frame 1160/1332) /content/video.mp4: 384x640 1 Cyclist, 19.1ms\n",
            "video 1/1 (frame 1161/1332) /content/video.mp4: 384x640 1 Cyclist, 19.0ms\n",
            "video 1/1 (frame 1162/1332) /content/video.mp4: 384x640 1 Pedestrian, 1 Cyclist, 18.9ms\n",
            "video 1/1 (frame 1163/1332) /content/video.mp4: 384x640 2 Pedestrians, 1 Cyclist, 18.9ms\n",
            "video 1/1 (frame 1164/1332) /content/video.mp4: 384x640 2 Cyclists, 18.5ms\n",
            "video 1/1 (frame 1165/1332) /content/video.mp4: 384x640 1 Pedestrian, 1 Cyclist, 19.9ms\n",
            "video 1/1 (frame 1166/1332) /content/video.mp4: 384x640 1 Pedestrian, 1 Cyclist, 18.7ms\n",
            "video 1/1 (frame 1167/1332) /content/video.mp4: 384x640 1 Pedestrian, 1 Cyclist, 18.9ms\n",
            "video 1/1 (frame 1168/1332) /content/video.mp4: 384x640 1 Pedestrian, 1 Cyclist, 18.9ms\n",
            "video 1/1 (frame 1169/1332) /content/video.mp4: 384x640 1 Pedestrian, 1 Cyclist, 18.8ms\n",
            "video 1/1 (frame 1170/1332) /content/video.mp4: 384x640 2 Pedestrians, 1 Cyclist, 18.4ms\n",
            "video 1/1 (frame 1171/1332) /content/video.mp4: 384x640 1 Cyclist, 18.2ms\n",
            "video 1/1 (frame 1172/1332) /content/video.mp4: 384x640 1 Cyclist, 18.3ms\n",
            "video 1/1 (frame 1173/1332) /content/video.mp4: 384x640 2 Pedestrians, 1 Cyclist, 18.5ms\n",
            "video 1/1 (frame 1174/1332) /content/video.mp4: 384x640 1 Pedestrian, 1 Cyclist, 18.6ms\n",
            "video 1/1 (frame 1175/1332) /content/video.mp4: 384x640 1 Pedestrian, 1 Cyclist, 18.8ms\n",
            "video 1/1 (frame 1176/1332) /content/video.mp4: 384x640 2 Pedestrians, 1 Cyclist, 21.5ms\n",
            "video 1/1 (frame 1177/1332) /content/video.mp4: 384x640 3 Pedestrians, 1 Cyclist, 17.9ms\n",
            "video 1/1 (frame 1178/1332) /content/video.mp4: 384x640 3 Pedestrians, 18.7ms\n",
            "video 1/1 (frame 1179/1332) /content/video.mp4: 384x640 3 Pedestrians, 1 Cyclist, 18.6ms\n",
            "video 1/1 (frame 1180/1332) /content/video.mp4: 384x640 3 Pedestrians, 1 Cyclist, 18.8ms\n",
            "video 1/1 (frame 1181/1332) /content/video.mp4: 384x640 3 Pedestrians, 1 Cyclist, 20.6ms\n",
            "video 1/1 (frame 1182/1332) /content/video.mp4: 384x640 (no detections), 18.6ms\n",
            "video 1/1 (frame 1183/1332) /content/video.mp4: 384x640 (no detections), 18.8ms\n",
            "video 1/1 (frame 1184/1332) /content/video.mp4: 384x640 (no detections), 18.8ms\n",
            "video 1/1 (frame 1185/1332) /content/video.mp4: 384x640 (no detections), 20.1ms\n",
            "video 1/1 (frame 1186/1332) /content/video.mp4: 384x640 (no detections), 19.9ms\n",
            "video 1/1 (frame 1187/1332) /content/video.mp4: 384x640 (no detections), 18.7ms\n",
            "video 1/1 (frame 1188/1332) /content/video.mp4: 384x640 (no detections), 18.9ms\n",
            "video 1/1 (frame 1189/1332) /content/video.mp4: 384x640 (no detections), 18.8ms\n",
            "video 1/1 (frame 1190/1332) /content/video.mp4: 384x640 (no detections), 18.9ms\n",
            "video 1/1 (frame 1191/1332) /content/video.mp4: 384x640 (no detections), 19.0ms\n",
            "video 1/1 (frame 1192/1332) /content/video.mp4: 384x640 (no detections), 18.8ms\n",
            "video 1/1 (frame 1193/1332) /content/video.mp4: 384x640 (no detections), 19.0ms\n",
            "video 1/1 (frame 1194/1332) /content/video.mp4: 384x640 (no detections), 19.0ms\n",
            "video 1/1 (frame 1195/1332) /content/video.mp4: 384x640 (no detections), 18.8ms\n",
            "video 1/1 (frame 1196/1332) /content/video.mp4: 384x640 (no detections), 19.0ms\n",
            "video 1/1 (frame 1197/1332) /content/video.mp4: 384x640 (no detections), 18.9ms\n",
            "video 1/1 (frame 1198/1332) /content/video.mp4: 384x640 (no detections), 20.1ms\n",
            "video 1/1 (frame 1199/1332) /content/video.mp4: 384x640 (no detections), 19.9ms\n",
            "video 1/1 (frame 1200/1332) /content/video.mp4: 384x640 (no detections), 19.5ms\n",
            "video 1/1 (frame 1201/1332) /content/video.mp4: 384x640 (no detections), 19.1ms\n",
            "video 1/1 (frame 1202/1332) /content/video.mp4: 384x640 (no detections), 19.9ms\n",
            "video 1/1 (frame 1203/1332) /content/video.mp4: 384x640 (no detections), 18.6ms\n",
            "video 1/1 (frame 1204/1332) /content/video.mp4: 384x640 (no detections), 20.2ms\n",
            "video 1/1 (frame 1205/1332) /content/video.mp4: 384x640 (no detections), 18.9ms\n",
            "video 1/1 (frame 1206/1332) /content/video.mp4: 384x640 (no detections), 19.9ms\n",
            "video 1/1 (frame 1207/1332) /content/video.mp4: 384x640 (no detections), 18.9ms\n",
            "video 1/1 (frame 1208/1332) /content/video.mp4: 384x640 (no detections), 18.5ms\n",
            "video 1/1 (frame 1209/1332) /content/video.mp4: 384x640 (no detections), 18.9ms\n",
            "video 1/1 (frame 1210/1332) /content/video.mp4: 384x640 (no detections), 18.9ms\n",
            "video 1/1 (frame 1211/1332) /content/video.mp4: 384x640 (no detections), 18.9ms\n",
            "video 1/1 (frame 1212/1332) /content/video.mp4: 384x640 (no detections), 18.5ms\n",
            "video 1/1 (frame 1213/1332) /content/video.mp4: 384x640 (no detections), 18.7ms\n",
            "video 1/1 (frame 1214/1332) /content/video.mp4: 384x640 (no detections), 19.1ms\n",
            "video 1/1 (frame 1215/1332) /content/video.mp4: 384x640 (no detections), 18.8ms\n",
            "video 1/1 (frame 1216/1332) /content/video.mp4: 384x640 (no detections), 18.6ms\n",
            "video 1/1 (frame 1217/1332) /content/video.mp4: 384x640 (no detections), 19.0ms\n",
            "video 1/1 (frame 1218/1332) /content/video.mp4: 384x640 (no detections), 18.9ms\n",
            "video 1/1 (frame 1219/1332) /content/video.mp4: 384x640 (no detections), 18.5ms\n",
            "video 1/1 (frame 1220/1332) /content/video.mp4: 384x640 (no detections), 18.4ms\n",
            "video 1/1 (frame 1221/1332) /content/video.mp4: 384x640 (no detections), 18.9ms\n",
            "video 1/1 (frame 1222/1332) /content/video.mp4: 384x640 (no detections), 19.1ms\n",
            "video 1/1 (frame 1223/1332) /content/video.mp4: 384x640 (no detections), 19.0ms\n",
            "video 1/1 (frame 1224/1332) /content/video.mp4: 384x640 (no detections), 19.4ms\n",
            "video 1/1 (frame 1225/1332) /content/video.mp4: 384x640 (no detections), 19.1ms\n",
            "video 1/1 (frame 1226/1332) /content/video.mp4: 384x640 (no detections), 22.0ms\n",
            "video 1/1 (frame 1227/1332) /content/video.mp4: 384x640 (no detections), 19.9ms\n",
            "video 1/1 (frame 1228/1332) /content/video.mp4: 384x640 (no detections), 19.9ms\n",
            "video 1/1 (frame 1229/1332) /content/video.mp4: 384x640 (no detections), 18.8ms\n",
            "video 1/1 (frame 1230/1332) /content/video.mp4: 384x640 (no detections), 18.7ms\n",
            "video 1/1 (frame 1231/1332) /content/video.mp4: 384x640 (no detections), 18.7ms\n",
            "video 1/1 (frame 1232/1332) /content/video.mp4: 384x640 (no detections), 18.8ms\n",
            "video 1/1 (frame 1233/1332) /content/video.mp4: 384x640 (no detections), 18.7ms\n",
            "video 1/1 (frame 1234/1332) /content/video.mp4: 384x640 (no detections), 18.3ms\n",
            "video 1/1 (frame 1235/1332) /content/video.mp4: 384x640 (no detections), 18.0ms\n",
            "video 1/1 (frame 1236/1332) /content/video.mp4: 384x640 (no detections), 21.5ms\n",
            "video 1/1 (frame 1237/1332) /content/video.mp4: 384x640 (no detections), 19.3ms\n",
            "video 1/1 (frame 1238/1332) /content/video.mp4: 384x640 (no detections), 18.6ms\n",
            "video 1/1 (frame 1239/1332) /content/video.mp4: 384x640 (no detections), 27.1ms\n",
            "video 1/1 (frame 1240/1332) /content/video.mp4: 384x640 (no detections), 17.7ms\n",
            "video 1/1 (frame 1241/1332) /content/video.mp4: 384x640 (no detections), 25.8ms\n",
            "video 1/1 (frame 1242/1332) /content/video.mp4: 384x640 (no detections), 19.1ms\n",
            "video 1/1 (frame 1243/1332) /content/video.mp4: 384x640 (no detections), 19.7ms\n",
            "video 1/1 (frame 1244/1332) /content/video.mp4: 384x640 (no detections), 22.3ms\n",
            "video 1/1 (frame 1245/1332) /content/video.mp4: 384x640 (no detections), 20.6ms\n",
            "video 1/1 (frame 1246/1332) /content/video.mp4: 384x640 (no detections), 18.0ms\n",
            "video 1/1 (frame 1247/1332) /content/video.mp4: 384x640 (no detections), 21.3ms\n",
            "video 1/1 (frame 1248/1332) /content/video.mp4: 384x640 (no detections), 21.7ms\n",
            "video 1/1 (frame 1249/1332) /content/video.mp4: 384x640 (no detections), 25.1ms\n",
            "video 1/1 (frame 1250/1332) /content/video.mp4: 384x640 (no detections), 21.6ms\n",
            "video 1/1 (frame 1251/1332) /content/video.mp4: 384x640 (no detections), 17.8ms\n",
            "video 1/1 (frame 1252/1332) /content/video.mp4: 384x640 (no detections), 18.7ms\n",
            "video 1/1 (frame 1253/1332) /content/video.mp4: 384x640 (no detections), 23.9ms\n",
            "video 1/1 (frame 1254/1332) /content/video.mp4: 384x640 (no detections), 18.0ms\n",
            "video 1/1 (frame 1255/1332) /content/video.mp4: 384x640 (no detections), 20.3ms\n",
            "video 1/1 (frame 1256/1332) /content/video.mp4: 384x640 (no detections), 17.9ms\n",
            "video 1/1 (frame 1257/1332) /content/video.mp4: 384x640 (no detections), 22.1ms\n",
            "video 1/1 (frame 1258/1332) /content/video.mp4: 384x640 (no detections), 20.4ms\n",
            "video 1/1 (frame 1259/1332) /content/video.mp4: 384x640 (no detections), 17.9ms\n",
            "video 1/1 (frame 1260/1332) /content/video.mp4: 384x640 (no detections), 22.8ms\n",
            "video 1/1 (frame 1261/1332) /content/video.mp4: 384x640 (no detections), 23.5ms\n",
            "video 1/1 (frame 1262/1332) /content/video.mp4: 384x640 (no detections), 24.3ms\n",
            "video 1/1 (frame 1263/1332) /content/video.mp4: 384x640 (no detections), 19.8ms\n",
            "video 1/1 (frame 1264/1332) /content/video.mp4: 384x640 (no detections), 19.6ms\n",
            "video 1/1 (frame 1265/1332) /content/video.mp4: 384x640 (no detections), 21.2ms\n",
            "video 1/1 (frame 1266/1332) /content/video.mp4: 384x640 (no detections), 21.6ms\n",
            "video 1/1 (frame 1267/1332) /content/video.mp4: 384x640 (no detections), 24.3ms\n",
            "video 1/1 (frame 1268/1332) /content/video.mp4: 384x640 (no detections), 20.5ms\n",
            "video 1/1 (frame 1269/1332) /content/video.mp4: 384x640 (no detections), 18.2ms\n",
            "video 1/1 (frame 1270/1332) /content/video.mp4: 384x640 (no detections), 19.4ms\n",
            "video 1/1 (frame 1271/1332) /content/video.mp4: 384x640 (no detections), 19.4ms\n",
            "video 1/1 (frame 1272/1332) /content/video.mp4: 384x640 (no detections), 19.3ms\n",
            "video 1/1 (frame 1273/1332) /content/video.mp4: 384x640 (no detections), 21.1ms\n",
            "video 1/1 (frame 1274/1332) /content/video.mp4: 384x640 (no detections), 19.3ms\n",
            "video 1/1 (frame 1275/1332) /content/video.mp4: 384x640 (no detections), 19.4ms\n",
            "video 1/1 (frame 1276/1332) /content/video.mp4: 384x640 (no detections), 19.3ms\n",
            "video 1/1 (frame 1277/1332) /content/video.mp4: 384x640 (no detections), 19.3ms\n",
            "video 1/1 (frame 1278/1332) /content/video.mp4: 384x640 (no detections), 19.6ms\n",
            "video 1/1 (frame 1279/1332) /content/video.mp4: 384x640 (no detections), 19.5ms\n",
            "video 1/1 (frame 1280/1332) /content/video.mp4: 384x640 (no detections), 19.5ms\n",
            "video 1/1 (frame 1281/1332) /content/video.mp4: 384x640 (no detections), 19.5ms\n",
            "video 1/1 (frame 1282/1332) /content/video.mp4: 384x640 (no detections), 21.4ms\n",
            "video 1/1 (frame 1283/1332) /content/video.mp4: 384x640 (no detections), 19.5ms\n",
            "video 1/1 (frame 1284/1332) /content/video.mp4: 384x640 (no detections), 19.5ms\n",
            "video 1/1 (frame 1285/1332) /content/video.mp4: 384x640 (no detections), 19.5ms\n",
            "video 1/1 (frame 1286/1332) /content/video.mp4: 384x640 (no detections), 19.5ms\n",
            "video 1/1 (frame 1287/1332) /content/video.mp4: 384x640 (no detections), 21.6ms\n",
            "video 1/1 (frame 1288/1332) /content/video.mp4: 384x640 (no detections), 19.5ms\n",
            "video 1/1 (frame 1289/1332) /content/video.mp4: 384x640 (no detections), 19.5ms\n",
            "video 1/1 (frame 1290/1332) /content/video.mp4: 384x640 (no detections), 19.5ms\n",
            "video 1/1 (frame 1291/1332) /content/video.mp4: 384x640 (no detections), 19.3ms\n",
            "video 1/1 (frame 1292/1332) /content/video.mp4: 384x640 (no detections), 19.4ms\n",
            "video 1/1 (frame 1293/1332) /content/video.mp4: 384x640 (no detections), 21.4ms\n",
            "video 1/1 (frame 1294/1332) /content/video.mp4: 384x640 (no detections), 21.0ms\n",
            "video 1/1 (frame 1295/1332) /content/video.mp4: 384x640 (no detections), 27.1ms\n",
            "video 1/1 (frame 1296/1332) /content/video.mp4: 384x640 (no detections), 19.3ms\n",
            "video 1/1 (frame 1297/1332) /content/video.mp4: 384x640 (no detections), 21.4ms\n",
            "video 1/1 (frame 1298/1332) /content/video.mp4: 384x640 (no detections), 29.3ms\n",
            "video 1/1 (frame 1299/1332) /content/video.mp4: 384x640 (no detections), 19.3ms\n",
            "video 1/1 (frame 1300/1332) /content/video.mp4: 384x640 (no detections), 19.4ms\n",
            "video 1/1 (frame 1301/1332) /content/video.mp4: 384x640 (no detections), 23.6ms\n",
            "video 1/1 (frame 1302/1332) /content/video.mp4: 384x640 (no detections), 27.1ms\n",
            "video 1/1 (frame 1303/1332) /content/video.mp4: 384x640 (no detections), 24.1ms\n",
            "video 1/1 (frame 1304/1332) /content/video.mp4: 384x640 (no detections), 29.0ms\n",
            "video 1/1 (frame 1305/1332) /content/video.mp4: 384x640 (no detections), 21.4ms\n",
            "video 1/1 (frame 1306/1332) /content/video.mp4: 384x640 (no detections), 24.7ms\n",
            "video 1/1 (frame 1307/1332) /content/video.mp4: 384x640 (no detections), 22.8ms\n",
            "video 1/1 (frame 1308/1332) /content/video.mp4: 384x640 (no detections), 19.4ms\n",
            "video 1/1 (frame 1309/1332) /content/video.mp4: 384x640 (no detections), 19.4ms\n",
            "video 1/1 (frame 1310/1332) /content/video.mp4: 384x640 (no detections), 20.1ms\n",
            "video 1/1 (frame 1311/1332) /content/video.mp4: 384x640 (no detections), 20.1ms\n",
            "video 1/1 (frame 1312/1332) /content/video.mp4: 384x640 (no detections), 19.4ms\n",
            "video 1/1 (frame 1313/1332) /content/video.mp4: 384x640 (no detections), 19.4ms\n",
            "video 1/1 (frame 1314/1332) /content/video.mp4: 384x640 (no detections), 19.3ms\n",
            "video 1/1 (frame 1315/1332) /content/video.mp4: 384x640 (no detections), 19.5ms\n",
            "video 1/1 (frame 1316/1332) /content/video.mp4: 384x640 (no detections), 19.3ms\n",
            "video 1/1 (frame 1317/1332) /content/video.mp4: 384x640 (no detections), 19.4ms\n",
            "video 1/1 (frame 1318/1332) /content/video.mp4: 384x640 (no detections), 19.4ms\n",
            "video 1/1 (frame 1319/1332) /content/video.mp4: 384x640 (no detections), 19.4ms\n",
            "video 1/1 (frame 1320/1332) /content/video.mp4: 384x640 (no detections), 19.4ms\n",
            "video 1/1 (frame 1321/1332) /content/video.mp4: 384x640 (no detections), 19.3ms\n",
            "video 1/1 (frame 1322/1332) /content/video.mp4: 384x640 (no detections), 19.4ms\n",
            "video 1/1 (frame 1323/1332) /content/video.mp4: 384x640 (no detections), 19.4ms\n",
            "video 1/1 (frame 1324/1332) /content/video.mp4: 384x640 (no detections), 24.0ms\n",
            "video 1/1 (frame 1325/1332) /content/video.mp4: 384x640 (no detections), 21.0ms\n",
            "video 1/1 (frame 1326/1332) /content/video.mp4: 384x640 (no detections), 21.0ms\n",
            "video 1/1 (frame 1327/1332) /content/video.mp4: 384x640 (no detections), 20.5ms\n",
            "video 1/1 (frame 1328/1332) /content/video.mp4: 384x640 (no detections), 19.4ms\n",
            "video 1/1 (frame 1329/1332) /content/video.mp4: 384x640 (no detections), 19.4ms\n",
            "video 1/1 (frame 1330/1332) /content/video.mp4: 384x640 (no detections), 19.4ms\n",
            "video 1/1 (frame 1331/1332) /content/video.mp4: 384x640 (no detections), 19.5ms\n",
            "video 1/1 (frame 1332/1332) /content/video.mp4: 384x640 (no detections), 19.5ms\n",
            "Speed: 2.2ms preprocess, 19.9ms inference, 1.5ms postprocess per image at shape (1, 3, 384, 640)\n",
            "Results saved to \u001b[1mruns/detect/predict3\u001b[0m\n"
          ]
        }
      ]
    }
  ]
}